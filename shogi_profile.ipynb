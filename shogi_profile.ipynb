{
  "nbformat": 4,
  "nbformat_minor": 0,
  "metadata": {
    "colab": {
      "name": "shogi_profile",
      "provenance": [],
      "collapsed_sections": [],
      "toc_visible": true,
      "authorship_tag": "ABX9TyNf31pKWfhJLNTOeb2+wjpl",
      "include_colab_link": true
    },
    "kernelspec": {
      "name": "python3",
      "display_name": "Python 3"
    }
  },
  "cells": [
    {
      "cell_type": "markdown",
      "metadata": {
        "id": "view-in-github",
        "colab_type": "text"
      },
      "source": [
        "<a href=\"https://colab.research.google.com/github/kopaprin/shogi_viz/blob/master/shogi_profile.ipynb\" target=\"_parent\"><img src=\"https://colab.research.google.com/assets/colab-badge.svg\" alt=\"Open In Colab\"/></a>"
      ]
    },
    {
      "cell_type": "code",
      "metadata": {
        "id": "Tt2du3bO5eua",
        "colab_type": "code",
        "outputId": "44db919d-49d5-4983-de66-beb7e3ab2de6",
        "colab": {
          "base_uri": "https://localhost:8080/",
          "height": 142
        }
      },
      "source": [
        "import os\n",
        "from google.colab import drive\n",
        "drive.mount('/content/drive')\n",
        "os.chdir(\"/content/drive/My Drive/shogi_pj/01_profile\")\n",
        "os.getcwd() "
      ],
      "execution_count": 0,
      "outputs": [
        {
          "output_type": "stream",
          "text": [
            "Go to this URL in a browser: https://accounts.google.com/o/oauth2/auth?client_id=947318989803-6bn6qk8qdgf4n4g3pfee6491hc0brc4i.apps.googleusercontent.com&redirect_uri=urn%3aietf%3awg%3aoauth%3a2.0%3aoob&response_type=code&scope=email%20https%3a%2f%2fwww.googleapis.com%2fauth%2fdocs.test%20https%3a%2f%2fwww.googleapis.com%2fauth%2fdrive%20https%3a%2f%2fwww.googleapis.com%2fauth%2fdrive.photos.readonly%20https%3a%2f%2fwww.googleapis.com%2fauth%2fpeopleapi.readonly\n",
            "\n",
            "Enter your authorization code:\n",
            "··········\n",
            "Mounted at /content/drive\n"
          ],
          "name": "stdout"
        },
        {
          "output_type": "execute_result",
          "data": {
            "text/plain": [
              "'/content/drive/My Drive/shogi_pj/01_profile'"
            ]
          },
          "metadata": {
            "tags": []
          },
          "execution_count": 1
        }
      ]
    },
    {
      "cell_type": "code",
      "metadata": {
        "id": "EqYAqJskQzfN",
        "colab_type": "code",
        "colab": {}
      },
      "source": [
        "#!pip install requests\n",
        "\n",
        "import sys\n",
        "import requests\n",
        "from bs4 import BeautifulSoup\n",
        "import re\n",
        "import urllib.parse\n",
        "import urllib.robotparser\n",
        "\n",
        "import numpy as np\n",
        "import pandas as pd\n",
        "from tqdm import tqdm\n",
        "\n",
        "\n",
        "\n",
        "import datetime\n",
        "from datetime import date\n",
        "from dateutil.relativedelta import relativedelta\n",
        "import time\n",
        "\n",
        "\n",
        "\n",
        "def AngleBrackets(str_): # 山かっこ内だけ正規表現で抽出する\n",
        "  result = re.search(r'>(.*?)<',str_).group(0)[1:][:-1]\n",
        "  return result\n",
        "\n"
      ],
      "execution_count": 0,
      "outputs": []
    },
    {
      "cell_type": "code",
      "metadata": {
        "id": "Q1j2nokT64iw",
        "colab_type": "code",
        "outputId": "aab1516e-bf80-4f02-f867-cf5e45a9d3e7",
        "colab": {
          "base_uri": "https://localhost:8080/",
          "height": 125
        }
      },
      "source": [
        "\n",
        "url = \"https://www.shogi.or.jp/player/\"\n",
        "r = requests.get(url)\n",
        "r.encoding = r.apparent_encoding # r.encodingを上書きする\n",
        "print(r.headers)\n",
        "print(f'encoding:{r.encoding}')\n",
        "print(\"---top 100 character-----------------------------------\")\n",
        "print(r.text[:100])\n",
        "\n",
        "# shogi_playerとしてHTMLを保存\n",
        "with open('shogi_player.html', 'w') as file:\n",
        "    file.write(r.text)"
      ],
      "execution_count": 0,
      "outputs": [
        {
          "output_type": "stream",
          "text": [
            "{'Content-Encoding': 'gzip', 'Content-Type': 'text/html', 'Date': 'Wed, 12 Feb 2020 14:34:22 GMT', 'Server': 'nginx', 'Strict-Transport-Security': 'max-age=15768000', 'Content-Length': '11335', 'Connection': 'keep-alive'}\n",
            "encoding:UTF-8-SIG\n",
            "---top 100 character-----------------------------------\n",
            "<!DOCTYPE HTML>\n",
            "<html lang=\"ja\"><!-- InstanceBegin template=\"/Templates/base.dwt\" codeOutsideHTMLIsL\n"
          ],
          "name": "stdout"
        }
      ]
    },
    {
      "cell_type": "code",
      "metadata": {
        "id": "LJQ7aPZ1fDN5",
        "colab_type": "code",
        "colab": {}
      },
      "source": [
        " soup = BeautifulSoup(r.text,\"html.parser\")"
      ],
      "execution_count": 0,
      "outputs": []
    },
    {
      "cell_type": "code",
      "metadata": {
        "id": "8H9mM4AIKG-A",
        "colab_type": "code",
        "colab": {}
      },
      "source": [
        "# 基本テーブルの作成OK\n",
        "\n",
        "def MakeBaseTable():\n",
        "  url = \"https://www.shogi.or.jp/player/\"\n",
        "  r = requests.get(url)\n",
        "  r.encoding = r.apparent_encoding # r.encodingを上書きする\n",
        "\n",
        "  soup = BeautifulSoup(r.text,\"html.parser\")\n",
        "\n",
        "  # Make img&player url\n",
        "  img_list = []\n",
        "  html_list = []\n",
        "  player_list = []\n",
        "  url_prefix = \"https://www.shogi.or.jp/\"\n",
        "  for n in soup.select(\".section04 > div > div\"):\n",
        "    # 01 Make img url\n",
        "    img = re.search('images(.*?jpg)',str(n.select(\"figure.image > a > img\")[0])).group(0)\n",
        "    img_result = urllib.parse.urljoin(url_prefix,img)\n",
        "    img_list.append(img_result)\n",
        "    # 02 Make detail url\n",
        "    html = re.search(r'player(.*?)html',str(n.select(\".ttl > a[href]\")[0])).group(0)\n",
        "    html_result = urllib.parse.urljoin(url_prefix,html)\n",
        "    html_list.append(html_result)\n",
        "    # 03 get name\n",
        "    player = re.search(r'>(.*?)<',str(n.select(\".ttl > a\")[0])).group(0)\n",
        "    player_result = player[1:][:-1]\n",
        "    player_list.append(player_result)\n",
        "\n",
        "  profile_df = pd.DataFrame({\n",
        "      \"name\": player_list,\n",
        "      \"profile\": html_list,\n",
        "      \"img\" :img_list\n",
        "  })\n",
        "\n",
        "  # 対局結果テーブルの取得\n",
        "  table = pd.read_html(\"https://www.shogi.or.jp/game/record/year_result.html\")[0]\n",
        "  table.columns = ([\"name\",\"match\",\"win\",\"lose\",\"rate\"])\n",
        "  \n",
        "  result = pd.merge(profile_df, table,on=\"name\",how=\"left\")\n",
        "\n",
        "  return result\n",
        "    \n",
        "  \n",
        "shogi_df = MakeBaseTable()\n",
        "\n"
      ],
      "execution_count": 0,
      "outputs": []
    },
    {
      "cell_type": "code",
      "metadata": {
        "id": "YJ0SR1pCMplg",
        "colab_type": "code",
        "outputId": "2e7b088d-c6d5-418b-ddc4-06ba25a87aa3",
        "colab": {
          "base_uri": "https://localhost:8080/",
          "height": 34
        }
      },
      "source": [
        "def MakeProfile(df):\n",
        "\n",
        "  id_list = []\n",
        "  name_list = []\n",
        "  name_roma_list = []\n",
        "  birth_day_list = []\n",
        "  age_list = []\n",
        "  teacher_list = []\n",
        "  ranking_list = []\n",
        "\n",
        "  for person_url in tqdm(df[\"profile\"]):\n",
        "    \n",
        "    r = requests.get(person_url)\n",
        "    r.encoding = r.apparent_encoding # r.encodingを上書きする\n",
        "\n",
        "    soup = BeautifulSoup(r.text,\"html.parser\")\n",
        "\n",
        "    id_ = soup.select(\"#contents > div:nth-of-type(2) > div > div.innerBlock01 > table > tbody > tr:nth-of-type(1) > td\")\n",
        "    id_list.append(AngleBrackets(str(id_)))\n",
        "    name = soup.select(\"#contents > div:nth-of-type(2) > div > div.innerBlock01 > div > div > h1 > span.jp\")\n",
        "    name_list.append(AngleBrackets(str(name)))\n",
        "    name_roma = soup.select(\"#contents > div:nth-of-type(2) > div > div.innerBlock01 > div > div > h1 > span.en\")\n",
        "    name_roma_list.append(AngleBrackets(str(name_roma)))\n",
        "    birth_day = soup.select(\"#contents > div:nth-of-type(2) > div > div.innerBlock01 > table > tbody > tr:nth-of-type(2) > td\")\n",
        "    birth_day = re.search(r'>(.*?)\\(',str(birth_day)).group(0)[1:][:-1]\n",
        "    birth_day = datetime.datetime.strptime(birth_day, '%Y年%m月%d日')\n",
        "    birth_day_list.append(birth_day)\n",
        "    age_list.append(relativedelta( date.today(),birth_day).years) # 年齢計算プログラム\n",
        "    teacher = soup.select(\"#contents > div:nth-of-type(2) > div > div.innerBlock01 > table > tbody > tr:nth-of-type(4) > td\")\n",
        "    teacher_list.append(AngleBrackets(str(teacher)))\n",
        "    ranking = soup.select(\"#contents > div:nth-of-type(2) > div > div.innerBlock01 > table > tbody > tr:nth-of-type(6) > td > a\")\n",
        "    ranking_list.append(AngleBrackets(str(ranking)))\n",
        "\n",
        "    time.sleep(1)\n",
        "  df[\"id\"] = id_list\n",
        "  df[\"name_roma\"] = name_roma_list\n",
        "  df[\"birth_day\"] = birth_day_list\n",
        "  df[\"age\"] = age_list\n",
        "  df[\"teacher\"] = teacher_list\n",
        "  df[\"ranking\"] = ranking_list\n",
        "\n",
        "  return df\n",
        "\n",
        "shogi_df = MakeProfile(shogi_df)"
      ],
      "execution_count": 0,
      "outputs": [
        {
          "output_type": "stream",
          "text": [
            "100%|██████████| 168/168 [05:30<00:00,  1.81s/it]\n"
          ],
          "name": "stderr"
        }
      ]
    },
    {
      "cell_type": "code",
      "metadata": {
        "id": "ALjg4yc2NGdR",
        "colab_type": "code",
        "outputId": "4a4a18e0-4dcd-4f11-c409-94f39d35f297",
        "colab": {
          "base_uri": "https://localhost:8080/",
          "height": 383
        }
      },
      "source": [
        "shogi_df.head()"
      ],
      "execution_count": 0,
      "outputs": [
        {
          "output_type": "execute_result",
          "data": {
            "text/html": [
              "<div>\n",
              "<style scoped>\n",
              "    .dataframe tbody tr th:only-of-type {\n",
              "        vertical-align: middle;\n",
              "    }\n",
              "\n",
              "    .dataframe tbody tr th {\n",
              "        vertical-align: top;\n",
              "    }\n",
              "\n",
              "    .dataframe thead th {\n",
              "        text-align: right;\n",
              "    }\n",
              "</style>\n",
              "<table border=\"1\" class=\"dataframe\">\n",
              "  <thead>\n",
              "    <tr style=\"text-align: right;\">\n",
              "      <th></th>\n",
              "      <th>name</th>\n",
              "      <th>profile</th>\n",
              "      <th>img</th>\n",
              "      <th>match</th>\n",
              "      <th>win</th>\n",
              "      <th>lose</th>\n",
              "      <th>rate</th>\n",
              "      <th>id</th>\n",
              "      <th>name_roma</th>\n",
              "      <th>birth_day</th>\n",
              "      <th>age</th>\n",
              "      <th>teacher</th>\n",
              "      <th>ranking</th>\n",
              "    </tr>\n",
              "  </thead>\n",
              "  <tbody>\n",
              "    <tr>\n",
              "      <th>0</th>\n",
              "      <td>豊島将之</td>\n",
              "      <td>https://www.shogi.or.jp/player/pro/264.html</td>\n",
              "      <td>https://www.shogi.or.jp/images/player/pro/264.jpg</td>\n",
              "      <td>51.0</td>\n",
              "      <td>34.0</td>\n",
              "      <td>17.0</td>\n",
              "      <td>0.6666</td>\n",
              "      <td>264</td>\n",
              "      <td>Masayuki Toyoshima</td>\n",
              "      <td>1990-04-30</td>\n",
              "      <td>29</td>\n",
              "      <td>桐山清澄九段</td>\n",
              "      <td>第77期名人（A級以上：3期）</td>\n",
              "    </tr>\n",
              "    <tr>\n",
              "      <th>1</th>\n",
              "      <td>渡辺明</td>\n",
              "      <td>https://www.shogi.or.jp/player/pro/235.html</td>\n",
              "      <td>https://www.shogi.or.jp/images/player/pro/235.jpg</td>\n",
              "      <td>45.0</td>\n",
              "      <td>36.0</td>\n",
              "      <td>9.0</td>\n",
              "      <td>0.8000</td>\n",
              "      <td>235</td>\n",
              "      <td>Akira Watanabe</td>\n",
              "      <td>1984-04-23</td>\n",
              "      <td>35</td>\n",
              "      <td>所司和晴七段</td>\n",
              "      <td>A級（A級：9期）</td>\n",
              "    </tr>\n",
              "    <tr>\n",
              "      <th>2</th>\n",
              "      <td>永瀬拓矢</td>\n",
              "      <td>https://www.shogi.or.jp/player/pro/276.html</td>\n",
              "      <td>https://www.shogi.or.jp/images/player/pro/276.jpg</td>\n",
              "      <td>43.0</td>\n",
              "      <td>32.0</td>\n",
              "      <td>11.0</td>\n",
              "      <td>0.7441</td>\n",
              "      <td>276</td>\n",
              "      <td>Takuya Nagase</td>\n",
              "      <td>1992-09-05</td>\n",
              "      <td>27</td>\n",
              "      <td>安恵照剛八段</td>\n",
              "      <td>B級1組</td>\n",
              "    </tr>\n",
              "    <tr>\n",
              "      <th>3</th>\n",
              "      <td>木村一基</td>\n",
              "      <td>https://www.shogi.or.jp/player/pro/222.html</td>\n",
              "      <td>https://www.shogi.or.jp/images/player/pro/222.jpg</td>\n",
              "      <td>38.0</td>\n",
              "      <td>20.0</td>\n",
              "      <td>18.0</td>\n",
              "      <td>0.5263</td>\n",
              "      <td>222</td>\n",
              "      <td>Kazuki Kimura</td>\n",
              "      <td>1973-06-23</td>\n",
              "      <td>46</td>\n",
              "      <td>（故）佐瀬勇次名誉九段</td>\n",
              "      <td>A級（A級：5期）</td>\n",
              "    </tr>\n",
              "    <tr>\n",
              "      <th>4</th>\n",
              "      <td>羽生善治</td>\n",
              "      <td>https://www.shogi.or.jp/player/pro/175.html</td>\n",
              "      <td>https://www.shogi.or.jp/images/player/pro/175.jpg</td>\n",
              "      <td>44.0</td>\n",
              "      <td>26.0</td>\n",
              "      <td>18.0</td>\n",
              "      <td>0.5909</td>\n",
              "      <td>175</td>\n",
              "      <td>Yoshiharu Habu</td>\n",
              "      <td>1970-09-27</td>\n",
              "      <td>49</td>\n",
              "      <td>(故)二上達也九段</td>\n",
              "      <td>A級（A級以上：27期)</td>\n",
              "    </tr>\n",
              "  </tbody>\n",
              "</table>\n",
              "</div>"
            ],
            "text/plain": [
              "   name  ...          ranking\n",
              "0  豊島将之  ...  第77期名人（A級以上：3期）\n",
              "1   渡辺明  ...        A級（A級：9期）\n",
              "2  永瀬拓矢  ...             B級1組\n",
              "3  木村一基  ...        A級（A級：5期）\n",
              "4  羽生善治  ...     A級（A級以上：27期)\n",
              "\n",
              "[5 rows x 13 columns]"
            ]
          },
          "metadata": {
            "tags": []
          },
          "execution_count": 7
        }
      ]
    },
    {
      "cell_type": "code",
      "metadata": {
        "id": "7jODpw5tqvJH",
        "colab_type": "code",
        "colab": {}
      },
      "source": [
        "shogi_df.to_csv(\"shogi_profile.csv\",encoding=\"utf-8\",header=True,index=False)"
      ],
      "execution_count": 0,
      "outputs": []
    },
    {
      "cell_type": "code",
      "metadata": {
        "id": "v4uCqINirMfO",
        "colab_type": "code",
        "colab": {}
      },
      "source": [
        "d_dir = \"/content/drive/My Drive/shogi_pj/03_img\"\n",
        "sleep_time_sec = 1\n",
        "\n",
        "def download_file(url, dst_path):\n",
        "    try:\n",
        "        with urllib.request.urlopen(url) as web_file, open(dst_path, 'wb') as local_file:\n",
        "            local_file.write(web_file.read())\n",
        "    except urllib.error.URLError as e:\n",
        "        print(e)\n",
        "\n",
        "def download_file_to_dir(url, dst_dir):\n",
        "    download_file(url, os.path.join(dst_dir, os.path.basename(url)))\n",
        "\n",
        "for url in shogi_df[\"img\"]:\n",
        "    download_file_to_dir(url, d_dir)\n",
        "    time.sleep(sleep_time_sec)"
      ],
      "execution_count": 0,
      "outputs": []
    },
    {
      "cell_type": "code",
      "metadata": {
        "id": "uJbIMsTw20K9",
        "colab_type": "code",
        "colab": {}
      },
      "source": [
        ""
      ],
      "execution_count": 0,
      "outputs": []
    }
  ]
}