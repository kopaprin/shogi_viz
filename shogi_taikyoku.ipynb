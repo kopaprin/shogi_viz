{
  "nbformat": 4,
  "nbformat_minor": 0,
  "metadata": {
    "colab": {
      "name": "shogi_taikyoku.ipynb",
      "provenance": [],
      "collapsed_sections": [],
      "authorship_tag": "ABX9TyOy9Dw65N59hJCL12IGY6V8",
      "include_colab_link": true
    },
    "kernelspec": {
      "name": "python3",
      "display_name": "Python 3"
    }
  },
  "cells": [
    {
      "cell_type": "markdown",
      "metadata": {
        "id": "view-in-github",
        "colab_type": "text"
      },
      "source": [
        "<a href=\"https://colab.research.google.com/github/kopaprin/shogi_viz/blob/master/shogi_taikyoku.ipynb\" target=\"_parent\"><img src=\"https://colab.research.google.com/assets/colab-badge.svg\" alt=\"Open In Colab\"/></a>"
      ]
    },
    {
      "cell_type": "code",
      "metadata": {
        "id": "TuPIRZrvGSZV",
        "colab_type": "code",
        "colab": {}
      },
      "source": [
        "import os\n",
        "from google.colab import drive\n",
        "drive.mount('/content/drive')\n",
        "os.chdir(\"/content/drive/My Drive/shogi_pj/02_taikyoku\")"
      ],
      "execution_count": 0,
      "outputs": []
    },
    {
      "cell_type": "code",
      "metadata": {
        "id": "GGLNocrpVUGi",
        "colab_type": "code",
        "colab": {}
      },
      "source": [
        "!pip install requests\n",
        "\n",
        "import sys\n",
        "import requests\n",
        "from bs4 import BeautifulSoup\n",
        "import re\n",
        "import urllib.parse\n",
        "import urllib.robotparser\n",
        "\n",
        "import numpy as np\n",
        "import pandas as pd\n",
        "from tqdm import tqdm\n",
        "\n",
        "\n",
        "\n",
        "import datetime\n",
        "from datetime import date\n",
        "from dateutil.relativedelta import relativedelta\n",
        "import time\n",
        "\n",
        "!apt-get update\n",
        "!apt install chromium-chromedriver\n",
        "!cp /usr/lib/chromium-browser/chromedriver /usr/bin\n",
        "!pip install selenium\n",
        "\n",
        "def AngleBrackets(str_): \n",
        "  result = re.search(r'>(.*?)<',str_).group(0)[1:][:-1]\n",
        "  return result\n",
        "\n",
        "!pip install fastprogress\n",
        "\n",
        "from fastprogress.fastprogress import master_bar, progress_bar"
      ],
      "execution_count": 0,
      "outputs": []
    },
    {
      "cell_type": "code",
      "metadata": {
        "id": "OeWIN7XIZxCT",
        "colab_type": "code",
        "outputId": "28b53957-538f-43a3-cd1d-9752cc8e9a4e",
        "colab": {
          "base_uri": "https://localhost:8080/",
          "height": 52
        }
      },
      "source": [
        "!pip install selenium\n",
        "from pprint import pprint\n",
        "from selenium import webdriver\n",
        "from bs4 import BeautifulSoup\n",
        "import time\n",
        "\n",
        "from selenium import webdriver\n",
        "from selenium.webdriver.chrome.options import Options\n",
        "from bs4 import BeautifulSoup\n"
      ],
      "execution_count": 10,
      "outputs": [
        {
          "output_type": "stream",
          "text": [
            "Requirement already satisfied: selenium in /usr/local/lib/python3.6/dist-packages (3.141.0)\n",
            "Requirement already satisfied: urllib3 in /usr/local/lib/python3.6/dist-packages (from selenium) (1.24.3)\n"
          ],
          "name": "stdout"
        }
      ]
    },
    {
      "cell_type": "code",
      "metadata": {
        "id": "u7EBye0NVWaA",
        "colab_type": "code",
        "colab": {}
      },
      "source": [
        "import urllib.robotparser\n",
        "\n",
        "robots_url = \"https://crowdworks.jp/robots.txt\"\n",
        "\n",
        "# 1) RobotFileParserインスタンスの作成\n",
        "rp = urllib.robotparser.RobotFileParser()\n",
        "# 2) URLのセット\n",
        "rp.set_url(robots_url)\n",
        "# 3)robots.txtの読み込みと解析\n",
        "rp.read()"
      ],
      "execution_count": 0,
      "outputs": []
    },
    {
      "cell_type": "code",
      "metadata": {
        "id": "sqZh63RIVsRB",
        "colab_type": "code",
        "outputId": "19955585-8e5e-4694-f3c5-44acee2d41ea",
        "colab": {
          "base_uri": "https://localhost:8080/",
          "height": 87
        }
      },
      "source": [
        "url = \"https://shogidb2.com/\"\n",
        "\n",
        "# (1-1)robotsから取得できるか確認\n",
        "print('*: '+str(rp.can_fetch('*', url)))\n",
        "\n",
        "# (1-2)robotsから取得できるか確認\n",
        "print('baiduspider: '+ str(rp.can_fetch('baiduspider', url)))\n",
        "\n",
        "# (2-1)クロール間隔の確認\n",
        "print('*: '+str(rp.crawl_delay('*')))\n",
        "\n",
        "# (2-2)クロール間隔の確認\n",
        "print('bingbot: '+str(rp.crawl_delay('bingbot')))\n"
      ],
      "execution_count": 4,
      "outputs": [
        {
          "output_type": "stream",
          "text": [
            "*: True\n",
            "baiduspider: False\n",
            "*: None\n",
            "bingbot: 10\n"
          ],
          "name": "stdout"
        }
      ]
    },
    {
      "cell_type": "code",
      "metadata": {
        "id": "VBRm1ENSVyUC",
        "colab_type": "code",
        "colab": {}
      },
      "source": [
        "\n",
        "url = \"https://shogidb2.com/latest/page/1\"\n",
        "headers = {\n",
        "    'User-Agent': 'kopaprin Crawler (kopaprin1125@gmail.com)'\n",
        "    }\n",
        "r = requests.get(url,headers)\n",
        "r.encoding = r.apparent_encoding\n",
        "\n",
        "soup = BeautifulSoup(r.text,\"html.parser\")\n",
        "for n in soup.select(\"#app > div > div:nth-of-type(2) > div.col-12.col-md-6 > div > a:nth-of-type(1) > div > div.w-100 > p:nth-of-type(1)\"):\n",
        "  print(n)"
      ],
      "execution_count": 0,
      "outputs": []
    },
    {
      "cell_type": "code",
      "metadata": {
        "id": "92FOHlFYW1g0",
        "colab_type": "code",
        "colab": {}
      },
      "source": [
        "with open('sample.html', 'w') as file:\n",
        "    file.write(r.text)"
      ],
      "execution_count": 0,
      "outputs": []
    },
    {
      "cell_type": "code",
      "metadata": {
        "id": "TkqjodrOa5yV",
        "colab_type": "code",
        "outputId": "2778c49a-7181-41d3-bdf9-da95491256e1",
        "colab": {
          "base_uri": "https://localhost:8080/",
          "height": 54
        }
      },
      "source": [
        "# base_df初期化用コード\n",
        "\n",
        "\"\"\"\n",
        "\n",
        "options = webdriver.ChromeOptions()\n",
        "options.add_argument('--headless')\n",
        "options.add_argument('--no-sandbox')\n",
        "options.add_argument('--disable-dev-shm-usage')\n",
        "options.add_argument(\"user-agent = kopaprin Crawler (kopaprin1125@gmail.com)\")\n",
        "\n",
        "driver = webdriver.Chrome('chromedriver',options=options)\n",
        "driver.implicitly_wait(10)\n",
        "driver.get(\"https://shogidb2.com/latest/page/1\")\n",
        "html = driver.page_source.encode('utf-8')\n",
        "soup = BeautifulSoup(html, \"html.parser\")\n",
        "\n",
        "# URL取得　OK\n",
        "url_prefix = \"https://shogidb2.com\"\n",
        "\n",
        "# output\n",
        "game_id_list = []\n",
        "url_list = []\n",
        "img_list = []\n",
        "game_date_list = []\n",
        "game_title_list = []\n",
        "black_list= []\n",
        "#black_rank_list = []\n",
        "white_list = []\n",
        "#white_rank_list = []\n",
        "senkei_list = []\n",
        "teai_list = []\n",
        "\n",
        "# game\n",
        "for n in soup.select(\"#app > div > div > div > div > a\"):\n",
        "  game_id_list.append(re.search(r'games/(.*?)\"',str(n)).group(0)[6:][:-1])\n",
        "  url = re.search(r'href=\"(.*?)\"',str(n)).group(0)[6:][:-1] #ok\n",
        "  url_list.append(urllib.parse.urljoin(url_prefix,url))\n",
        "  img_list.append(re.search(r'src=\"(.*?)\"',str(n)).group(0)[5:][:-1])\n",
        "\n",
        "  title = n.select(\"p\")\n",
        "  \n",
        "  game_date = re.search(r'>(.*?)日',str(title[0])).group(0)[1:]\n",
        "  game_date_list.append(datetime.datetime.strptime(game_date, '%Y年%m月%d日')) #ok\n",
        "  game_title_list.append(re.search(r'日(.*?)<',str(title[0])).group(0)[1:][:-1]) #ok\n",
        "  black_list.append(re.search(r'先手 (.*?)<',str(title[1])).group(0)[3:][:-1].split(\" \")[0].replace(\"　\",\"\")) #ok\n",
        "  #black_rank_list.append(re.search(r'先手 (.*?)<',str(title[1])).group(0)[3:][:-1].split(\" \")[1]) #ok  \n",
        "    \n",
        "  white_list.append(re.search(r'後手 (.*?)<',str(title[2])).group(0)[3:][:-1].split(\" \")[0].replace(\"　\",\"\")) #ok\n",
        "  #white_rank_list.append(re.search(r'後手 (.*?)<',str(title[2])).group(0)[3:][:-1].split(\" \")[1]) #ok  \n",
        "  \n",
        "  senkei_list.append(re.search(r':(.*?)<',str(title[3])).group(0)[2:][:-1])\n",
        "  teai_list.append(re.search(r':(.*?)<',str(title[4])).group(0)[2:][:-1])\n",
        "\n",
        "df = pd.DataFrame({\n",
        "    \"game_id\":game_id_list\n",
        "    ,\"game_date\":game_date_list\n",
        "    ,\"game_title\":game_title_list\n",
        "    ,\"black\":black_list\n",
        "    #,\"black_rank\":black_rank_list\n",
        "    ,\"white\":white_list\n",
        "    #,\"white_rank\":white_rank_list\n",
        "    ,\"senkei\":senkei_list\n",
        "    ,\"teai\":teai_list\n",
        "    ,\"url\":url_list\n",
        "    ,\"transaction\":1\n",
        "\n",
        "})\n",
        "df.to_csv(\"shogi_taikyoku.csv\",encoding=\"utf-8\",header=True,index=False)\n",
        "\n",
        "\"\"\"\n",
        "\n"
      ],
      "execution_count": 0,
      "outputs": [
        {
          "output_type": "execute_result",
          "data": {
            "text/plain": [
              "'\\n\\noptions = webdriver.ChromeOptions()\\noptions.add_argument(\\'--headless\\')\\noptions.add_argument(\\'--no-sandbox\\')\\noptions.add_argument(\\'--disable-dev-shm-usage\\')\\noptions.add_argument(\"user-agent = kopaprin Crawler (kopaprin1125@gmail.com)\")\\n\\ndriver = webdriver.Chrome(\\'chromedriver\\',options=options)\\ndriver.implicitly_wait(10)\\ndriver.get(\"https://shogidb2.com/latest/page/1\")\\nhtml = driver.page_source.encode(\\'utf-8\\')\\nsoup = BeautifulSoup(html, \"html.parser\")\\n\\n# URL取得\\u3000OK\\nurl_prefix = \"https://shogidb2.com\"\\n\\n# output\\ngame_id_list = []\\nurl_list = []\\nimg_list = []\\ngame_date_list = []\\ngame_title_list = []\\nblack_list= []\\n#black_rank_list = []\\nwhite_list = []\\n#white_rank_list = []\\nsenkei_list = []\\nteai_list = []\\n\\n# game\\nfor n in soup.select(\"#app > div > div > div > div > a\"):\\n  game_id_list.append(re.search(r\\'games/(.*?)\"\\',str(n)).group(0)[6:][:-1])\\n  url = re.search(r\\'href=\"(.*?)\"\\',str(n)).group(0)[6:][:-1] #ok\\n  url_list.append(urllib.parse.urljoin(url_prefix,url))\\n  img_list.append(re.search(r\\'src=\"(.*?)\"\\',str(n)).group(0)[5:][:-1])\\n\\n  title = n.select(\"p\")\\n  \\n  game_date = re.search(r\\'>(.*?)日\\',str(title[0])).group(0)[1:]\\n  game_date_list.append(datetime.datetime.strptime(game_date, \\'%Y年%m月%d日\\')) #ok\\n  game_title_list.append(re.search(r\\'日(.*?)<\\',str(title[0])).group(0)[1:][:-1]) #ok\\n  black_list.append(re.search(r\\'先手 (.*?)<\\',str(title[1])).group(0)[3:][:-1].split(\" \")[0].replace(\"\\u3000\",\"\")) #ok\\n  #black_rank_list.append(re.search(r\\'先手 (.*?)<\\',str(title[1])).group(0)[3:][:-1].split(\" \")[1]) #ok  \\n    \\n  white_list.append(re.search(r\\'後手 (.*?)<\\',str(title[2])).group(0)[3:][:-1].split(\" \")[0].replace(\"\\u3000\",\"\")) #ok\\n  #white_rank_list.append(re.search(r\\'後手 (.*?)<\\',str(title[2])).group(0)[3:][:-1].split(\" \")[1]) #ok  \\n  \\n  senkei_list.append(re.search(r\\':(.*?)<\\',str(title[3])).group(0)[2:][:-1])\\n  teai_list.append(re.search(r\\':(.*?)<\\',str(title[4])).group(0)[2:][:-1])\\n\\ndf = pd.DataFrame({\\n    \"game_id\":game_id_list\\n    ,\"game_date\":game_date_list\\n    ,\"game_title\":game_title_list\\n    ,\"black\":black_list\\n    #,\"black_rank\":black_rank_list\\n    ,\"white\":white_list\\n    #,\"white_rank\":white_rank_list\\n    ,\"senkei\":senkei_list\\n    ,\"teai\":teai_list\\n    ,\"url\":url_list\\n    ,\"transaction\":1\\n\\n})\\ndf.to_csv(\"shogi_taikyoku.csv\",encoding=\"utf-8\",header=True,index=False)\\n\\n'"
            ]
          },
          "metadata": {
            "tags": []
          },
          "execution_count": 8
        }
      ]
    },
    {
      "cell_type": "markdown",
      "metadata": {
        "id": "iP9Dp-PH6VBt",
        "colab_type": "text"
      },
      "source": [
        "# ここからループ処理コード"
      ]
    },
    {
      "cell_type": "code",
      "metadata": {
        "id": "kkzesH2V6Y0e",
        "colab_type": "code",
        "colab": {}
      },
      "source": [
        "#1 既存dfの読み込みと、game_idの取得\n",
        "\n",
        "base_df = pd.read_csv(\"shogi_taikyoku.csv\")\n",
        "\n"
      ],
      "execution_count": 0,
      "outputs": []
    },
    {
      "cell_type": "code",
      "metadata": {
        "id": "0wj9TmI-0lrW",
        "colab_type": "code",
        "outputId": "5513e995-a6a8-4c93-e846-1ed9a3ccfb3a",
        "colab": {
          "base_uri": "https://localhost:8080/",
          "height": 52
        }
      },
      "source": [
        "base_df.duplicated(subset=\"game_id\").value_counts()"
      ],
      "execution_count": 8,
      "outputs": [
        {
          "output_type": "execute_result",
          "data": {
            "text/plain": [
              "False    9033\n",
              "dtype: int64"
            ]
          },
          "metadata": {
            "tags": []
          },
          "execution_count": 8
        }
      ]
    },
    {
      "cell_type": "code",
      "metadata": {
        "id": "JHUw6rdd6f1V",
        "colab_type": "code",
        "outputId": "cc181236-9385-4173-c8aa-92cb565608a4",
        "colab": {
          "base_uri": "https://localhost:8080/",
          "height": 37
        }
      },
      "source": [
        "#2 サイトクローリング、game_id取得、内容判定、新規db作成\n",
        "\n",
        "num = np.arange(1,50)\n",
        "\n",
        "options = webdriver.ChromeOptions()\n",
        "options.add_argument('--headless')\n",
        "options.add_argument('--no-sandbox')\n",
        "options.add_argument('--disable-dev-shm-usage')\n",
        "options.add_argument(\"user-agent = kopaprin Crawler (kopaprin1125@gmail.com)\")\n",
        "\n",
        "driver = webdriver.Chrome('chromedriver',options=options)\n",
        "driver.implicitly_wait(10)\n",
        "\n",
        "for i in progress_bar(num) :\n",
        "  get_url = \"https://shogidb2.com/latest/page/\" + str(i)\n",
        "  time.sleep(2)\n",
        "  driver.get(get_url)\n",
        "  html = driver.page_source.encode('utf-8')\n",
        "  soup = BeautifulSoup(html, \"html.parser\")\n",
        "\n",
        "\n",
        "  # URL取得　OK\n",
        "  url_prefix = \"https://shogidb2.com\"\n",
        "\n",
        "  # output\n",
        "  game_id_list = []\n",
        "  url_list = []\n",
        "  img_list = []\n",
        "  game_date_list = []\n",
        "  game_title_list = []\n",
        "  black_list= []\n",
        "  #black_rank_list = []\n",
        "  white_list = []\n",
        "  #white_rank_list = []\n",
        "  senkei_list = []\n",
        "  teai_list = []\n",
        "  df = pd.DataFrame()\n",
        "\n",
        "  # game\n",
        "  for n in soup.select(\"#app > div > div > div > div > a\"):\n",
        "    game_id = re.search(r'games/(.*?)\"',str(n)).group(0)[6:][:-1]\n",
        "    acquired_id = list(base_df[\"game_id\"].values)\n",
        "    if game_id in acquired_id:\n",
        "      pass\n",
        "    else :\n",
        "      game_id_list.append(game_id)\n",
        "      url = re.search(r'href=\"(.*?)\"',str(n)).group(0)[6:][:-1] #ok\n",
        "      url_list.append(urllib.parse.urljoin(url_prefix,url))\n",
        "      img_list.append(re.search(r'src=\"(.*?)\"',str(n)).group(0)[5:][:-1])\n",
        "\n",
        "      title = n.select(\"p\")\n",
        "      \n",
        "      game_date = re.search(r'>(.*?)日',str(title[0])).group(0)[1:]\n",
        "      game_date_list.append(datetime.datetime.strptime(game_date, '%Y年%m月%d日')) #ok\n",
        "      game_title_list.append(re.search(r'日(.*?)<',str(title[0])).group(0)[1:][:-1]) #ok\n",
        "      black_list.append(re.search(r'先手 (.*?)<',str(title[1])).group(0)[3:][:-1].split(\" \")[0].replace(\"　\",\"\")) #ok\n",
        "      #black_rank_list.append(re.search(r'先手 (.*?)<',str(title[1])).group(0)[3:][:-1].split(\" \")[1]) #ok  \n",
        "        \n",
        "      white_list.append(re.search(r'後手 (.*?)<',str(title[2])).group(0)[3:][:-1].split(\" \")[0].replace(\"　\",\"\")) #ok\n",
        "      #white_rank_list.append(re.search(r'後手 (.*?)<',str(title[2])).group(0)[3:][:-1].split(\" \")[1]) #ok  \n",
        "      \n",
        "      senkei_list.append(re.search(r':(.*?)<',str(title[3])).group(0)[2:][:-1])\n",
        "      teai_list.append(re.search(r':(.*?)<',str(title[4])).group(0)[2:][:-1])\n",
        "\n",
        "      df = pd.DataFrame({\n",
        "          \"game_id\":game_id_list\n",
        "          ,\"game_date\":game_date_list\n",
        "          ,\"game_title\":game_title_list\n",
        "          ,\"black\":black_list\n",
        "          #,\"black_rank\":black_rank_list\n",
        "          ,\"white\":white_list\n",
        "          #,\"white_rank\":white_rank_list\n",
        "          ,\"senkei\":senkei_list\n",
        "          ,\"teai\":teai_list\n",
        "          ,\"url\":url_list\n",
        "          ,\"transaction\":i\n",
        "\n",
        "      })\n",
        "  base_df = pd.concat([base_df,df],sort=False)\n",
        "  \n",
        "  base_df = base_df[[\"game_id\",\"game_date\",\"game_title\",\"black\",\"white\",\"senkei\",\"teai\",\"url\",\"transaction\"]]\n",
        "  base_df = base_df.reset_index(drop=True)\n",
        "  base_df.to_csv(\"shogi_taikyoku.csv\",encoding=\"utf-8\",header=True,index=False)\n",
        "\n"
      ],
      "execution_count": 11,
      "outputs": [
        {
          "output_type": "display_data",
          "data": {
            "text/html": [
              "\n",
              "    <div>\n",
              "        <style>\n",
              "            /* Turns off some styling */\n",
              "            progress {\n",
              "                /* gets rid of default border in Firefox and Opera. */\n",
              "                border: none;\n",
              "                /* Needs to be in here for Safari polyfill so background images work as expected. */\n",
              "                background-size: auto;\n",
              "            }\n",
              "            .progress-bar-interrupted, .progress-bar-interrupted::-webkit-progress-bar {\n",
              "                background: #F44336;\n",
              "            }\n",
              "        </style>\n",
              "      <progress value='49' class='' max='49', style='width:300px; height:20px; vertical-align: middle;'></progress>\n",
              "      100.00% [49/49 03:01<00:00]\n",
              "    </div>\n",
              "    "
            ],
            "text/plain": [
              "<IPython.core.display.HTML object>"
            ]
          },
          "metadata": {
            "tags": []
          }
        }
      ]
    },
    {
      "cell_type": "markdown",
      "metadata": {
        "id": "uc2K1byuhetH",
        "colab_type": "text"
      },
      "source": [
        "# ここからTableau取り込み用ベースコード加工"
      ]
    },
    {
      "cell_type": "code",
      "metadata": {
        "id": "xt2Mib9oiNWa",
        "colab_type": "code",
        "colab": {}
      },
      "source": [
        "base_df1 = base_df.copy()\n",
        "base_df2 = base_df.copy()\n",
        "\n",
        "base_df1[\"key\"] = base_df1[\"black\"]\n",
        "base_df2[\"key\"] = base_df2[\"white\"]\n",
        "\n",
        "transaction_df = pd.concat([base_df1, base_df2])\n",
        "transaction_df.to_csv(\"shogi_taikyoku_tran.csv\",encoding=\"utf-8\",header=True,index=False)"
      ],
      "execution_count": 0,
      "outputs": []
    },
    {
      "cell_type": "code",
      "metadata": {
        "id": "Udi47xWhjaln",
        "colab_type": "code",
        "colab": {}
      },
      "source": [
        "driver = webdriver.Chrome('chromedriver',options=options)\n",
        "URL = base_df[\"url\"][0]\n",
        "driver.get(URL)\n",
        "#kif-export\n",
        "driver.find_element_by_id('kif-export').click()\n",
        "html = driver.page_source.encode('utf-8')\n",
        "soup = BeautifulSoup(html, \"html.parser\")\n",
        "driver.quit()\n",
        "#kifu-modal > div > div > div.modal-body > div > textarea\n",
        "for n in soup.select(\"#kifu-modal > div > div > div.modal-body > div > textarea\"):\n",
        "  kifu = re.search(r'>((.|\\s)*?)<',str(n)).group(0)[1:][:-1]\n",
        "  #print(kifu)"
      ],
      "execution_count": 0,
      "outputs": []
    },
    {
      "cell_type": "code",
      "metadata": {
        "id": "Y_IMyeO_mb0Q",
        "colab_type": "code",
        "colab": {}
      },
      "source": [
        ""
      ],
      "execution_count": 0,
      "outputs": []
    }
  ]
}