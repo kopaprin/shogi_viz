{
  "nbformat": 4,
  "nbformat_minor": 0,
  "metadata": {
    "colab": {
      "name": "shogi_taikyoku.ipynb",
      "provenance": [],
      "collapsed_sections": [],
      "authorship_tag": "ABX9TyNtd7PkHXRs8hTDZwjcGs6O",
      "include_colab_link": true
    },
    "kernelspec": {
      "name": "python3",
      "display_name": "Python 3"
    }
  },
  "cells": [
    {
      "cell_type": "markdown",
      "metadata": {
        "id": "view-in-github",
        "colab_type": "text"
      },
      "source": [
        "<a href=\"https://colab.research.google.com/github/kopaprin/shogi_viz/blob/master/shogi_taikyoku.ipynb\" target=\"_parent\"><img src=\"https://colab.research.google.com/assets/colab-badge.svg\" alt=\"Open In Colab\"/></a>"
      ]
    },
    {
      "cell_type": "code",
      "metadata": {
        "id": "TuPIRZrvGSZV",
        "colab_type": "code",
        "outputId": "a72f6e88-58ac-499a-b792-2e73e224e98a",
        "colab": {
          "base_uri": "https://localhost:8080/",
          "height": 142
        }
      },
      "source": [
        "import os\n",
        "from google.colab import drive\n",
        "drive.mount('/content/drive')\n",
        "os.chdir(\"/content/drive/My Drive/shogi_pj/02_taikyoku\")\n",
        "os.getcwd() "
      ],
      "execution_count": 0,
      "outputs": [
        {
          "output_type": "stream",
          "text": [
            "Go to this URL in a browser: https://accounts.google.com/o/oauth2/auth?client_id=947318989803-6bn6qk8qdgf4n4g3pfee6491hc0brc4i.apps.googleusercontent.com&redirect_uri=urn%3aietf%3awg%3aoauth%3a2.0%3aoob&response_type=code&scope=email%20https%3a%2f%2fwww.googleapis.com%2fauth%2fdocs.test%20https%3a%2f%2fwww.googleapis.com%2fauth%2fdrive%20https%3a%2f%2fwww.googleapis.com%2fauth%2fdrive.photos.readonly%20https%3a%2f%2fwww.googleapis.com%2fauth%2fpeopleapi.readonly\n",
            "\n",
            "Enter your authorization code:\n",
            "··········\n",
            "Mounted at /content/drive\n"
          ],
          "name": "stdout"
        },
        {
          "output_type": "execute_result",
          "data": {
            "text/plain": [
              "'/content/drive/My Drive/shogi_pj/02_taikyoku'"
            ]
          },
          "metadata": {
            "tags": []
          },
          "execution_count": 1
        }
      ]
    },
    {
      "cell_type": "code",
      "metadata": {
        "id": "GGLNocrpVUGi",
        "colab_type": "code",
        "outputId": "554bf527-2508-4cf7-b241-af52e19fd56c",
        "colab": {
          "base_uri": "https://localhost:8080/",
          "height": 1000
        }
      },
      "source": [
        "!pip install requests\n",
        "\n",
        "import sys\n",
        "import requests\n",
        "from bs4 import BeautifulSoup\n",
        "import re\n",
        "import urllib.parse\n",
        "import urllib.robotparser\n",
        "\n",
        "import numpy as np\n",
        "import pandas as pd\n",
        "from tqdm import tqdm\n",
        "\n",
        "\n",
        "\n",
        "import datetime\n",
        "from datetime import date\n",
        "from dateutil.relativedelta import relativedelta\n",
        "import time\n",
        "\n",
        "!apt-get update\n",
        "!apt install chromium-chromedriver\n",
        "!cp /usr/lib/chromium-browser/chromedriver /usr/bin\n",
        "!pip install selenium\n",
        "\n",
        "def AngleBrackets(str_): # 山かっこ内だけ正規表現で抽出する\n",
        "  result = re.search(r'>(.*?)<',str_).group(0)[1:][:-1]\n",
        "  return result\n",
        "\n",
        "!pip install fastprogress\n",
        "\n",
        "from fastprogress.fastprogress import master_bar, progress_bar"
      ],
      "execution_count": 0,
      "outputs": [
        {
          "output_type": "stream",
          "text": [
            "Requirement already satisfied: requests in /usr/local/lib/python3.6/dist-packages (2.21.0)\n",
            "Requirement already satisfied: chardet<3.1.0,>=3.0.2 in /usr/local/lib/python3.6/dist-packages (from requests) (3.0.4)\n",
            "Requirement already satisfied: urllib3<1.25,>=1.21.1 in /usr/local/lib/python3.6/dist-packages (from requests) (1.24.3)\n",
            "Requirement already satisfied: idna<2.9,>=2.5 in /usr/local/lib/python3.6/dist-packages (from requests) (2.8)\n",
            "Requirement already satisfied: certifi>=2017.4.17 in /usr/local/lib/python3.6/dist-packages (from requests) (2019.11.28)\n",
            "Get:1 http://security.ubuntu.com/ubuntu bionic-security InRelease [88.7 kB]\n",
            "Ign:2 https://developer.download.nvidia.com/compute/cuda/repos/ubuntu1804/x86_64  InRelease\n",
            "Get:3 http://ppa.launchpad.net/graphics-drivers/ppa/ubuntu bionic InRelease [21.3 kB]\n",
            "Ign:4 https://developer.download.nvidia.com/compute/machine-learning/repos/ubuntu1804/x86_64  InRelease\n",
            "Hit:5 https://developer.download.nvidia.com/compute/cuda/repos/ubuntu1804/x86_64  Release\n",
            "Hit:6 https://developer.download.nvidia.com/compute/machine-learning/repos/ubuntu1804/x86_64  Release\n",
            "Hit:7 http://archive.ubuntu.com/ubuntu bionic InRelease\n",
            "Get:8 http://archive.ubuntu.com/ubuntu bionic-updates InRelease [88.7 kB]\n",
            "Get:9 https://cloud.r-project.org/bin/linux/ubuntu bionic-cran35/ InRelease [3,626 B]\n",
            "Get:10 http://security.ubuntu.com/ubuntu bionic-security/main amd64 Packages [835 kB]\n",
            "Get:11 http://ppa.launchpad.net/marutter/c2d4u3.5/ubuntu bionic InRelease [15.4 kB]\n",
            "Get:12 http://security.ubuntu.com/ubuntu bionic-security/universe amd64 Packages [823 kB]\n",
            "Get:13 http://security.ubuntu.com/ubuntu bionic-security/multiverse amd64 Packages [7,348 B]\n",
            "Get:14 http://security.ubuntu.com/ubuntu bionic-security/restricted amd64 Packages [31.0 kB]\n",
            "Get:16 http://archive.ubuntu.com/ubuntu bionic-backports InRelease [74.6 kB]\n",
            "Get:18 http://ppa.launchpad.net/graphics-drivers/ppa/ubuntu bionic/main amd64 Packages [36.9 kB]\n",
            "Get:19 https://cloud.r-project.org/bin/linux/ubuntu bionic-cran35/ Packages [83.1 kB]\n",
            "Get:20 http://ppa.launchpad.net/marutter/c2d4u3.5/ubuntu bionic/main Sources [1,772 kB]\n",
            "Get:21 http://archive.ubuntu.com/ubuntu bionic-updates/multiverse amd64 Packages [11.4 kB]\n",
            "Get:22 http://archive.ubuntu.com/ubuntu bionic-updates/restricted amd64 Packages [44.7 kB]\n",
            "Get:23 http://archive.ubuntu.com/ubuntu bionic-updates/main amd64 Packages [1,127 kB]\n",
            "Get:24 http://archive.ubuntu.com/ubuntu bionic-updates/universe amd64 Packages [1,350 kB]\n",
            "Get:25 http://archive.ubuntu.com/ubuntu bionic-backports/universe amd64 Packages [4,252 B]\n",
            "Get:26 http://ppa.launchpad.net/marutter/c2d4u3.5/ubuntu bionic/main amd64 Packages [856 kB]\n",
            "Fetched 7,275 kB in 3s (2,309 kB/s)\n",
            "Reading package lists... Done\n",
            "Reading package lists... Done\n",
            "Building dependency tree       \n",
            "Reading state information... Done\n",
            "The following package was automatically installed and is no longer required:\n",
            "  libnvidia-common-430\n",
            "Use 'apt autoremove' to remove it.\n",
            "The following additional packages will be installed:\n",
            "  chromium-browser chromium-browser-l10n chromium-codecs-ffmpeg-extra\n",
            "Suggested packages:\n",
            "  webaccounts-chromium-extension unity-chromium-extension adobe-flashplugin\n",
            "The following NEW packages will be installed:\n",
            "  chromium-browser chromium-browser-l10n chromium-chromedriver\n",
            "  chromium-codecs-ffmpeg-extra\n",
            "0 upgraded, 4 newly installed, 0 to remove and 103 not upgraded.\n",
            "Need to get 74.4 MB of archives.\n",
            "After this operation, 264 MB of additional disk space will be used.\n",
            "Get:1 http://archive.ubuntu.com/ubuntu bionic-updates/universe amd64 chromium-codecs-ffmpeg-extra amd64 80.0.3987.87-0ubuntu0.18.04.1 [1,095 kB]\n",
            "Get:2 http://archive.ubuntu.com/ubuntu bionic-updates/universe amd64 chromium-browser amd64 80.0.3987.87-0ubuntu0.18.04.1 [66.1 MB]\n",
            "Get:3 http://archive.ubuntu.com/ubuntu bionic-updates/universe amd64 chromium-browser-l10n all 80.0.3987.87-0ubuntu0.18.04.1 [3,155 kB]\n",
            "Get:4 http://archive.ubuntu.com/ubuntu bionic-updates/universe amd64 chromium-chromedriver amd64 80.0.3987.87-0ubuntu0.18.04.1 [4,044 kB]\n",
            "Fetched 74.4 MB in 3s (24.3 MB/s)\n",
            "Selecting previously unselected package chromium-codecs-ffmpeg-extra.\n",
            "(Reading database ... 134443 files and directories currently installed.)\n",
            "Preparing to unpack .../chromium-codecs-ffmpeg-extra_80.0.3987.87-0ubuntu0.18.04.1_amd64.deb ...\n",
            "Unpacking chromium-codecs-ffmpeg-extra (80.0.3987.87-0ubuntu0.18.04.1) ...\n",
            "Selecting previously unselected package chromium-browser.\n",
            "Preparing to unpack .../chromium-browser_80.0.3987.87-0ubuntu0.18.04.1_amd64.deb ...\n",
            "Unpacking chromium-browser (80.0.3987.87-0ubuntu0.18.04.1) ...\n",
            "Selecting previously unselected package chromium-browser-l10n.\n",
            "Preparing to unpack .../chromium-browser-l10n_80.0.3987.87-0ubuntu0.18.04.1_all.deb ...\n",
            "Unpacking chromium-browser-l10n (80.0.3987.87-0ubuntu0.18.04.1) ...\n",
            "Selecting previously unselected package chromium-chromedriver.\n",
            "Preparing to unpack .../chromium-chromedriver_80.0.3987.87-0ubuntu0.18.04.1_amd64.deb ...\n",
            "Unpacking chromium-chromedriver (80.0.3987.87-0ubuntu0.18.04.1) ...\n",
            "Setting up chromium-codecs-ffmpeg-extra (80.0.3987.87-0ubuntu0.18.04.1) ...\n",
            "Setting up chromium-browser (80.0.3987.87-0ubuntu0.18.04.1) ...\n",
            "update-alternatives: using /usr/bin/chromium-browser to provide /usr/bin/x-www-browser (x-www-browser) in auto mode\n",
            "update-alternatives: using /usr/bin/chromium-browser to provide /usr/bin/gnome-www-browser (gnome-www-browser) in auto mode\n",
            "Setting up chromium-chromedriver (80.0.3987.87-0ubuntu0.18.04.1) ...\n",
            "Setting up chromium-browser-l10n (80.0.3987.87-0ubuntu0.18.04.1) ...\n",
            "Processing triggers for hicolor-icon-theme (0.17-2) ...\n",
            "Processing triggers for mime-support (3.60ubuntu1) ...\n",
            "Processing triggers for man-db (2.8.3-2ubuntu0.1) ...\n",
            "cp: '/usr/lib/chromium-browser/chromedriver' and '/usr/bin/chromedriver' are the same file\n",
            "Requirement already satisfied: selenium in /usr/local/lib/python3.6/dist-packages (3.141.0)\n",
            "Requirement already satisfied: urllib3 in /usr/local/lib/python3.6/dist-packages (from selenium) (1.24.3)\n",
            "Requirement already satisfied: fastprogress in /usr/local/lib/python3.6/dist-packages (0.2.2)\n"
          ],
          "name": "stdout"
        }
      ]
    },
    {
      "cell_type": "code",
      "metadata": {
        "id": "OeWIN7XIZxCT",
        "colab_type": "code",
        "outputId": "bab45b25-c11d-4f06-9b02-dc8bdbef9b47",
        "colab": {
          "base_uri": "https://localhost:8080/",
          "height": 52
        }
      },
      "source": [
        "!pip install selenium\n",
        "from pprint import pprint\n",
        "from selenium import webdriver\n",
        "from bs4 import BeautifulSoup\n",
        "import time\n",
        "\n",
        "from selenium import webdriver\n",
        "from selenium.webdriver.chrome.options import Options\n",
        "from bs4 import BeautifulSoup\n"
      ],
      "execution_count": 0,
      "outputs": [
        {
          "output_type": "stream",
          "text": [
            "Requirement already satisfied: selenium in /usr/local/lib/python3.6/dist-packages (3.141.0)\n",
            "Requirement already satisfied: urllib3 in /usr/local/lib/python3.6/dist-packages (from selenium) (1.24.3)\n"
          ],
          "name": "stdout"
        }
      ]
    },
    {
      "cell_type": "code",
      "metadata": {
        "id": "u7EBye0NVWaA",
        "colab_type": "code",
        "colab": {}
      },
      "source": [
        "import urllib.robotparser\n",
        "\n",
        "robots_url = \"https://crowdworks.jp/robots.txt\"\n",
        "\n",
        "# 1) RobotFileParserインスタンスの作成\n",
        "rp = urllib.robotparser.RobotFileParser()\n",
        "# 2) URLのセット\n",
        "rp.set_url(robots_url)\n",
        "# 3)robots.txtの読み込みと解析\n",
        "rp.read()"
      ],
      "execution_count": 0,
      "outputs": []
    },
    {
      "cell_type": "code",
      "metadata": {
        "id": "sqZh63RIVsRB",
        "colab_type": "code",
        "outputId": "b7af6885-4954-4cc2-f51b-09ffbd964d00",
        "colab": {
          "base_uri": "https://localhost:8080/",
          "height": 87
        }
      },
      "source": [
        "url = \"https://shogidb2.com/\"\n",
        "\n",
        "# (1-1)robotsから取得できるか確認\n",
        "print('*: '+str(rp.can_fetch('*', url)))\n",
        "\n",
        "# (1-2)robotsから取得できるか確認\n",
        "print('baiduspider: '+ str(rp.can_fetch('baiduspider', url)))\n",
        "\n",
        "# (2-1)クロール間隔の確認\n",
        "print('*: '+str(rp.crawl_delay('*')))\n",
        "\n",
        "# (2-2)クロール間隔の確認\n",
        "print('bingbot: '+str(rp.crawl_delay('bingbot')))\n"
      ],
      "execution_count": 0,
      "outputs": [
        {
          "output_type": "stream",
          "text": [
            "*: True\n",
            "baiduspider: False\n",
            "*: None\n",
            "bingbot: 10\n"
          ],
          "name": "stdout"
        }
      ]
    },
    {
      "cell_type": "code",
      "metadata": {
        "id": "VBRm1ENSVyUC",
        "colab_type": "code",
        "colab": {}
      },
      "source": [
        "\n",
        "url = \"https://shogidb2.com/latest/page/1\"\n",
        "headers = {\n",
        "    'User-Agent': 'kopaprin Crawler (kopaprin1125@gmail.com)'\n",
        "    }\n",
        "r = requests.get(url,headers)\n",
        "r.encoding = r.apparent_encoding\n",
        "\n",
        "soup = BeautifulSoup(r.text,\"html.parser\")\n",
        "for n in soup.select(\"#app > div > div:nth-of-type(2) > div.col-12.col-md-6 > div > a:nth-of-type(1) > div > div.w-100 > p:nth-of-type(1)\"):\n",
        "  print(n)"
      ],
      "execution_count": 0,
      "outputs": []
    },
    {
      "cell_type": "code",
      "metadata": {
        "id": "92FOHlFYW1g0",
        "colab_type": "code",
        "colab": {}
      },
      "source": [
        "with open('sample.html', 'w') as file:\n",
        "    file.write(r.text)"
      ],
      "execution_count": 0,
      "outputs": []
    },
    {
      "cell_type": "code",
      "metadata": {
        "id": "TkqjodrOa5yV",
        "colab_type": "code",
        "outputId": "2778c49a-7181-41d3-bdf9-da95491256e1",
        "colab": {
          "base_uri": "https://localhost:8080/",
          "height": 54
        }
      },
      "source": [
        "# base_df初期化用コード\n",
        "\n",
        "\"\"\"\n",
        "\n",
        "options = webdriver.ChromeOptions()\n",
        "options.add_argument('--headless')\n",
        "options.add_argument('--no-sandbox')\n",
        "options.add_argument('--disable-dev-shm-usage')\n",
        "options.add_argument(\"user-agent = kopaprin Crawler (kopaprin1125@gmail.com)\")\n",
        "\n",
        "driver = webdriver.Chrome('chromedriver',options=options)\n",
        "driver.implicitly_wait(10)\n",
        "driver.get(\"https://shogidb2.com/latest/page/1\")\n",
        "html = driver.page_source.encode('utf-8')\n",
        "soup = BeautifulSoup(html, \"html.parser\")\n",
        "\n",
        "# URL取得　OK\n",
        "url_prefix = \"https://shogidb2.com\"\n",
        "\n",
        "# output\n",
        "game_id_list = []\n",
        "url_list = []\n",
        "img_list = []\n",
        "game_date_list = []\n",
        "game_title_list = []\n",
        "black_list= []\n",
        "#black_rank_list = []\n",
        "white_list = []\n",
        "#white_rank_list = []\n",
        "senkei_list = []\n",
        "teai_list = []\n",
        "\n",
        "# game\n",
        "for n in soup.select(\"#app > div > div > div > div > a\"):\n",
        "  game_id_list.append(re.search(r'games/(.*?)\"',str(n)).group(0)[6:][:-1])\n",
        "  url = re.search(r'href=\"(.*?)\"',str(n)).group(0)[6:][:-1] #ok\n",
        "  url_list.append(urllib.parse.urljoin(url_prefix,url))\n",
        "  img_list.append(re.search(r'src=\"(.*?)\"',str(n)).group(0)[5:][:-1])\n",
        "\n",
        "  title = n.select(\"p\")\n",
        "  \n",
        "  game_date = re.search(r'>(.*?)日',str(title[0])).group(0)[1:]\n",
        "  game_date_list.append(datetime.datetime.strptime(game_date, '%Y年%m月%d日')) #ok\n",
        "  game_title_list.append(re.search(r'日(.*?)<',str(title[0])).group(0)[1:][:-1]) #ok\n",
        "  black_list.append(re.search(r'先手 (.*?)<',str(title[1])).group(0)[3:][:-1].split(\" \")[0].replace(\"　\",\"\")) #ok\n",
        "  #black_rank_list.append(re.search(r'先手 (.*?)<',str(title[1])).group(0)[3:][:-1].split(\" \")[1]) #ok  \n",
        "    \n",
        "  white_list.append(re.search(r'後手 (.*?)<',str(title[2])).group(0)[3:][:-1].split(\" \")[0].replace(\"　\",\"\")) #ok\n",
        "  #white_rank_list.append(re.search(r'後手 (.*?)<',str(title[2])).group(0)[3:][:-1].split(\" \")[1]) #ok  \n",
        "  \n",
        "  senkei_list.append(re.search(r':(.*?)<',str(title[3])).group(0)[2:][:-1])\n",
        "  teai_list.append(re.search(r':(.*?)<',str(title[4])).group(0)[2:][:-1])\n",
        "\n",
        "df = pd.DataFrame({\n",
        "    \"game_id\":game_id_list\n",
        "    ,\"game_date\":game_date_list\n",
        "    ,\"game_title\":game_title_list\n",
        "    ,\"black\":black_list\n",
        "    #,\"black_rank\":black_rank_list\n",
        "    ,\"white\":white_list\n",
        "    #,\"white_rank\":white_rank_list\n",
        "    ,\"senkei\":senkei_list\n",
        "    ,\"teai\":teai_list\n",
        "    ,\"url\":url_list\n",
        "    ,\"transaction\":1\n",
        "\n",
        "})\n",
        "df.to_csv(\"shogi_taikyoku.csv\",encoding=\"utf-8\",header=True,index=False)\n",
        "\n",
        "\"\"\"\n",
        "\n"
      ],
      "execution_count": 0,
      "outputs": [
        {
          "output_type": "execute_result",
          "data": {
            "text/plain": [
              "'\\n\\noptions = webdriver.ChromeOptions()\\noptions.add_argument(\\'--headless\\')\\noptions.add_argument(\\'--no-sandbox\\')\\noptions.add_argument(\\'--disable-dev-shm-usage\\')\\noptions.add_argument(\"user-agent = kopaprin Crawler (kopaprin1125@gmail.com)\")\\n\\ndriver = webdriver.Chrome(\\'chromedriver\\',options=options)\\ndriver.implicitly_wait(10)\\ndriver.get(\"https://shogidb2.com/latest/page/1\")\\nhtml = driver.page_source.encode(\\'utf-8\\')\\nsoup = BeautifulSoup(html, \"html.parser\")\\n\\n# URL取得\\u3000OK\\nurl_prefix = \"https://shogidb2.com\"\\n\\n# output\\ngame_id_list = []\\nurl_list = []\\nimg_list = []\\ngame_date_list = []\\ngame_title_list = []\\nblack_list= []\\n#black_rank_list = []\\nwhite_list = []\\n#white_rank_list = []\\nsenkei_list = []\\nteai_list = []\\n\\n# game\\nfor n in soup.select(\"#app > div > div > div > div > a\"):\\n  game_id_list.append(re.search(r\\'games/(.*?)\"\\',str(n)).group(0)[6:][:-1])\\n  url = re.search(r\\'href=\"(.*?)\"\\',str(n)).group(0)[6:][:-1] #ok\\n  url_list.append(urllib.parse.urljoin(url_prefix,url))\\n  img_list.append(re.search(r\\'src=\"(.*?)\"\\',str(n)).group(0)[5:][:-1])\\n\\n  title = n.select(\"p\")\\n  \\n  game_date = re.search(r\\'>(.*?)日\\',str(title[0])).group(0)[1:]\\n  game_date_list.append(datetime.datetime.strptime(game_date, \\'%Y年%m月%d日\\')) #ok\\n  game_title_list.append(re.search(r\\'日(.*?)<\\',str(title[0])).group(0)[1:][:-1]) #ok\\n  black_list.append(re.search(r\\'先手 (.*?)<\\',str(title[1])).group(0)[3:][:-1].split(\" \")[0].replace(\"\\u3000\",\"\")) #ok\\n  #black_rank_list.append(re.search(r\\'先手 (.*?)<\\',str(title[1])).group(0)[3:][:-1].split(\" \")[1]) #ok  \\n    \\n  white_list.append(re.search(r\\'後手 (.*?)<\\',str(title[2])).group(0)[3:][:-1].split(\" \")[0].replace(\"\\u3000\",\"\")) #ok\\n  #white_rank_list.append(re.search(r\\'後手 (.*?)<\\',str(title[2])).group(0)[3:][:-1].split(\" \")[1]) #ok  \\n  \\n  senkei_list.append(re.search(r\\':(.*?)<\\',str(title[3])).group(0)[2:][:-1])\\n  teai_list.append(re.search(r\\':(.*?)<\\',str(title[4])).group(0)[2:][:-1])\\n\\ndf = pd.DataFrame({\\n    \"game_id\":game_id_list\\n    ,\"game_date\":game_date_list\\n    ,\"game_title\":game_title_list\\n    ,\"black\":black_list\\n    #,\"black_rank\":black_rank_list\\n    ,\"white\":white_list\\n    #,\"white_rank\":white_rank_list\\n    ,\"senkei\":senkei_list\\n    ,\"teai\":teai_list\\n    ,\"url\":url_list\\n    ,\"transaction\":1\\n\\n})\\ndf.to_csv(\"shogi_taikyoku.csv\",encoding=\"utf-8\",header=True,index=False)\\n\\n'"
            ]
          },
          "metadata": {
            "tags": []
          },
          "execution_count": 8
        }
      ]
    },
    {
      "cell_type": "markdown",
      "metadata": {
        "id": "iP9Dp-PH6VBt",
        "colab_type": "text"
      },
      "source": [
        "# ここからループ処理コード"
      ]
    },
    {
      "cell_type": "code",
      "metadata": {
        "id": "kkzesH2V6Y0e",
        "colab_type": "code",
        "colab": {}
      },
      "source": [
        "#1 既存dfの読み込みと、game_idの取得\n",
        "\n",
        "base_df = pd.read_csv(\"shogi_taikyoku.csv\")\n",
        "\n"
      ],
      "execution_count": 0,
      "outputs": []
    },
    {
      "cell_type": "code",
      "metadata": {
        "id": "0wj9TmI-0lrW",
        "colab_type": "code",
        "outputId": "45de07c4-ab8e-45ca-b232-cc9b9fabe091",
        "colab": {
          "base_uri": "https://localhost:8080/",
          "height": 52
        }
      },
      "source": [
        "base_df.duplicated(subset=\"game_id\").value_counts()"
      ],
      "execution_count": 0,
      "outputs": [
        {
          "output_type": "execute_result",
          "data": {
            "text/plain": [
              "False    9000\n",
              "dtype: int64"
            ]
          },
          "metadata": {
            "tags": []
          },
          "execution_count": 18
        }
      ]
    },
    {
      "cell_type": "code",
      "metadata": {
        "id": "JHUw6rdd6f1V",
        "colab_type": "code",
        "outputId": "8fc7668d-d7ba-4a18-9d01-5cc7e0315caf",
        "colab": {
          "base_uri": "https://localhost:8080/",
          "height": 37
        }
      },
      "source": [
        "#2 サイトクローリング、game_id取得、内容判定、新規db作成\n",
        "\n",
        "num = np.arange(1,50)\n",
        "\n",
        "options = webdriver.ChromeOptions()\n",
        "options.add_argument('--headless')\n",
        "options.add_argument('--no-sandbox')\n",
        "options.add_argument('--disable-dev-shm-usage')\n",
        "options.add_argument(\"user-agent = kopaprin Crawler (kopaprin1125@gmail.com)\")\n",
        "\n",
        "driver = webdriver.Chrome('chromedriver',options=options)\n",
        "driver.implicitly_wait(10)\n",
        "\n",
        "for i in progress_bar(num) :\n",
        "  get_url = \"https://shogidb2.com/latest/page/\" + str(i)\n",
        "  time.sleep(2)\n",
        "  driver.get(get_url)\n",
        "  html = driver.page_source.encode('utf-8')\n",
        "  soup = BeautifulSoup(html, \"html.parser\")\n",
        "\n",
        "\n",
        "  # URL取得　OK\n",
        "  url_prefix = \"https://shogidb2.com\"\n",
        "\n",
        "  # output\n",
        "  game_id_list = []\n",
        "  url_list = []\n",
        "  img_list = []\n",
        "  game_date_list = []\n",
        "  game_title_list = []\n",
        "  black_list= []\n",
        "  #black_rank_list = []\n",
        "  white_list = []\n",
        "  #white_rank_list = []\n",
        "  senkei_list = []\n",
        "  teai_list = []\n",
        "  df = pd.DataFrame()\n",
        "\n",
        "  # game\n",
        "  for n in soup.select(\"#app > div > div > div > div > a\"):\n",
        "    game_id = re.search(r'games/(.*?)\"',str(n)).group(0)[6:][:-1]\n",
        "    acquired_id = list(base_df[\"game_id\"].values)\n",
        "    if game_id in acquired_id:\n",
        "      pass\n",
        "    else :\n",
        "      game_id_list.append(game_id)\n",
        "      url = re.search(r'href=\"(.*?)\"',str(n)).group(0)[6:][:-1] #ok\n",
        "      url_list.append(urllib.parse.urljoin(url_prefix,url))\n",
        "      img_list.append(re.search(r'src=\"(.*?)\"',str(n)).group(0)[5:][:-1])\n",
        "\n",
        "      title = n.select(\"p\")\n",
        "      \n",
        "      game_date = re.search(r'>(.*?)日',str(title[0])).group(0)[1:]\n",
        "      game_date_list.append(datetime.datetime.strptime(game_date, '%Y年%m月%d日')) #ok\n",
        "      game_title_list.append(re.search(r'日(.*?)<',str(title[0])).group(0)[1:][:-1]) #ok\n",
        "      black_list.append(re.search(r'先手 (.*?)<',str(title[1])).group(0)[3:][:-1].split(\" \")[0].replace(\"　\",\"\")) #ok\n",
        "      #black_rank_list.append(re.search(r'先手 (.*?)<',str(title[1])).group(0)[3:][:-1].split(\" \")[1]) #ok  \n",
        "        \n",
        "      white_list.append(re.search(r'後手 (.*?)<',str(title[2])).group(0)[3:][:-1].split(\" \")[0].replace(\"　\",\"\")) #ok\n",
        "      #white_rank_list.append(re.search(r'後手 (.*?)<',str(title[2])).group(0)[3:][:-1].split(\" \")[1]) #ok  \n",
        "      \n",
        "      senkei_list.append(re.search(r':(.*?)<',str(title[3])).group(0)[2:][:-1])\n",
        "      teai_list.append(re.search(r':(.*?)<',str(title[4])).group(0)[2:][:-1])\n",
        "\n",
        "      df = pd.DataFrame({\n",
        "          \"game_id\":game_id_list\n",
        "          ,\"game_date\":game_date_list\n",
        "          ,\"game_title\":game_title_list\n",
        "          ,\"black\":black_list\n",
        "          #,\"black_rank\":black_rank_list\n",
        "          ,\"white\":white_list\n",
        "          #,\"white_rank\":white_rank_list\n",
        "          ,\"senkei\":senkei_list\n",
        "          ,\"teai\":teai_list\n",
        "          ,\"url\":url_list\n",
        "          ,\"transaction\":i\n",
        "\n",
        "      })\n",
        "  base_df = pd.concat([base_df,df],sort=False)\n",
        "  \n",
        "  base_df = base_df[[\"game_id\",\"game_date\",\"game_title\",\"black\",\"white\",\"senkei\",\"teai\",\"url\",\"transaction\"]]\n",
        "  base_df = base_df.reset_index(drop=True)\n",
        "  base_df.to_csv(\"shogi_taikyoku.csv\",encoding=\"utf-8\",header=True,index=False)\n",
        "\n"
      ],
      "execution_count": 0,
      "outputs": [
        {
          "output_type": "display_data",
          "data": {
            "text/html": [
              "\n",
              "    <div>\n",
              "        <style>\n",
              "            /* Turns off some styling */\n",
              "            progress {\n",
              "                /* gets rid of default border in Firefox and Opera. */\n",
              "                border: none;\n",
              "                /* Needs to be in here for Safari polyfill so background images work as expected. */\n",
              "                background-size: auto;\n",
              "            }\n",
              "            .progress-bar-interrupted, .progress-bar-interrupted::-webkit-progress-bar {\n",
              "                background: #F44336;\n",
              "            }\n",
              "        </style>\n",
              "      <progress value='49' class='' max='49', style='width:300px; height:20px; vertical-align: middle;'></progress>\n",
              "      100.00% [49/49 03:09<00:00]\n",
              "    </div>\n",
              "    "
            ],
            "text/plain": [
              "<IPython.core.display.HTML object>"
            ]
          },
          "metadata": {
            "tags": []
          }
        }
      ]
    },
    {
      "cell_type": "code",
      "metadata": {
        "id": "0dt-HDwPq1yw",
        "colab_type": "code",
        "outputId": "dfd93878-ec69-4795-9544-6c7daae135d7",
        "colab": {
          "base_uri": "https://localhost:8080/",
          "height": 34
        }
      },
      "source": [
        "base_df.drop_duplicates(subset=\"game_id\").shape"
      ],
      "execution_count": 0,
      "outputs": [
        {
          "output_type": "execute_result",
          "data": {
            "text/plain": [
              "(9033, 9)"
            ]
          },
          "metadata": {
            "tags": []
          },
          "execution_count": 20
        }
      ]
    },
    {
      "cell_type": "code",
      "metadata": {
        "id": "jIN8v8dPzL_z",
        "colab_type": "code",
        "outputId": "442746e0-d0ff-45b6-fe1b-ba2e0e4cbb41",
        "colab": {
          "base_uri": "https://localhost:8080/",
          "height": 34
        }
      },
      "source": [
        "base_df.shape"
      ],
      "execution_count": 0,
      "outputs": [
        {
          "output_type": "execute_result",
          "data": {
            "text/plain": [
              "(9033, 9)"
            ]
          },
          "metadata": {
            "tags": []
          },
          "execution_count": 21
        }
      ]
    },
    {
      "cell_type": "code",
      "metadata": {
        "id": "q18nD1Lr2Mg1",
        "colab_type": "code",
        "colab": {}
      },
      "source": [
        ""
      ],
      "execution_count": 0,
      "outputs": []
    },
    {
      "cell_type": "markdown",
      "metadata": {
        "id": "uc2K1byuhetH",
        "colab_type": "text"
      },
      "source": [
        "# ここからベースコード加工用"
      ]
    },
    {
      "cell_type": "code",
      "metadata": {
        "id": "KTWT7HaMhkW-",
        "colab_type": "code",
        "outputId": "14a93d4c-9737-4541-d74c-3500a94ddec2",
        "colab": {
          "base_uri": "https://localhost:8080/",
          "height": 279
        }
      },
      "source": [
        "base_df.head()"
      ],
      "execution_count": 0,
      "outputs": [
        {
          "output_type": "execute_result",
          "data": {
            "text/html": [
              "<div>\n",
              "<style scoped>\n",
              "    .dataframe tbody tr th:only-of-type {\n",
              "        vertical-align: middle;\n",
              "    }\n",
              "\n",
              "    .dataframe tbody tr th {\n",
              "        vertical-align: top;\n",
              "    }\n",
              "\n",
              "    .dataframe thead th {\n",
              "        text-align: right;\n",
              "    }\n",
              "</style>\n",
              "<table border=\"1\" class=\"dataframe\">\n",
              "  <thead>\n",
              "    <tr style=\"text-align: right;\">\n",
              "      <th></th>\n",
              "      <th>game_id</th>\n",
              "      <th>game_date</th>\n",
              "      <th>game_title</th>\n",
              "      <th>black</th>\n",
              "      <th>white</th>\n",
              "      <th>senkei</th>\n",
              "      <th>teai</th>\n",
              "      <th>url</th>\n",
              "      <th>transaction</th>\n",
              "    </tr>\n",
              "  </thead>\n",
              "  <tbody>\n",
              "    <tr>\n",
              "      <th>0</th>\n",
              "      <td>d3db76663680c2ad70926eddd1b448fee647ecc7</td>\n",
              "      <td>2020-02-06</td>\n",
              "      <td>第78期順位戦Ｃ級２組９回戦</td>\n",
              "      <td>福崎文吾</td>\n",
              "      <td>佐藤紳哉</td>\n",
              "      <td>矢倉</td>\n",
              "      <td>平手</td>\n",
              "      <td>https://shogidb2.com/games/d3db76663680c2ad709...</td>\n",
              "      <td>1</td>\n",
              "    </tr>\n",
              "    <tr>\n",
              "      <th>1</th>\n",
              "      <td>bd0082021cb3c5a21a185be3e3cf50a0389106cc</td>\n",
              "      <td>2020-02-06</td>\n",
              "      <td>第78期順位戦Ｃ級２組９回戦</td>\n",
              "      <td>阿部光瑠</td>\n",
              "      <td>村田智弘</td>\n",
              "      <td>三間飛車</td>\n",
              "      <td>平手</td>\n",
              "      <td>https://shogidb2.com/games/bd0082021cb3c5a21a1...</td>\n",
              "      <td>1</td>\n",
              "    </tr>\n",
              "    <tr>\n",
              "      <th>2</th>\n",
              "      <td>ad23f852079cb9fbb0562b54d4dd1e4ec79c61a4</td>\n",
              "      <td>2020-02-06</td>\n",
              "      <td>第78期順位戦Ｃ級２組９回戦</td>\n",
              "      <td>村中秀史</td>\n",
              "      <td>大平武洋</td>\n",
              "      <td>矢倉</td>\n",
              "      <td>平手</td>\n",
              "      <td>https://shogidb2.com/games/ad23f852079cb9fbb05...</td>\n",
              "      <td>1</td>\n",
              "    </tr>\n",
              "    <tr>\n",
              "      <th>3</th>\n",
              "      <td>a280b927f7ec94585189902d0f7ecd45696c708b</td>\n",
              "      <td>2020-02-06</td>\n",
              "      <td>第78期順位戦Ｃ級２組９回戦</td>\n",
              "      <td>山本博志</td>\n",
              "      <td>矢倉規広</td>\n",
              "      <td>相振り飛車</td>\n",
              "      <td>平手</td>\n",
              "      <td>https://shogidb2.com/games/a280b927f7ec9458518...</td>\n",
              "      <td>1</td>\n",
              "    </tr>\n",
              "    <tr>\n",
              "      <th>4</th>\n",
              "      <td>d5fc0bf601b8c1c2c0a08dcf1e788c9a95f72eb7</td>\n",
              "      <td>2020-02-06</td>\n",
              "      <td>第78期順位戦Ｃ級２組９回戦</td>\n",
              "      <td>黒田尭之</td>\n",
              "      <td>井出隼平</td>\n",
              "      <td>四間飛車</td>\n",
              "      <td>平手</td>\n",
              "      <td>https://shogidb2.com/games/d5fc0bf601b8c1c2c0a...</td>\n",
              "      <td>1</td>\n",
              "    </tr>\n",
              "  </tbody>\n",
              "</table>\n",
              "</div>"
            ],
            "text/plain": [
              "                                    game_id  ... transaction\n",
              "0  d3db76663680c2ad70926eddd1b448fee647ecc7  ...           1\n",
              "1  bd0082021cb3c5a21a185be3e3cf50a0389106cc  ...           1\n",
              "2  ad23f852079cb9fbb0562b54d4dd1e4ec79c61a4  ...           1\n",
              "3  a280b927f7ec94585189902d0f7ecd45696c708b  ...           1\n",
              "4  d5fc0bf601b8c1c2c0a08dcf1e788c9a95f72eb7  ...           1\n",
              "\n",
              "[5 rows x 9 columns]"
            ]
          },
          "metadata": {
            "tags": []
          },
          "execution_count": 22
        }
      ]
    },
    {
      "cell_type": "code",
      "metadata": {
        "id": "xt2Mib9oiNWa",
        "colab_type": "code",
        "colab": {}
      },
      "source": [
        "base_df1 = base_df.copy()\n",
        "base_df2 = base_df.copy()\n",
        "\n",
        "base_df1[\"key\"] = base_df1[\"black\"]\n",
        "base_df2[\"key\"] = base_df2[\"white\"]\n",
        "\n",
        "transaction_df = pd.concat([base_df1, base_df2])\n",
        "transaction_df.to_csv(\"shogi_taikyoku_tran.csv\",encoding=\"utf-8\",header=True,index=False)\n",
        "\n",
        "\n"
      ],
      "execution_count": 0,
      "outputs": []
    },
    {
      "cell_type": "code",
      "metadata": {
        "id": "_B-8jgeTih_A",
        "colab_type": "code",
        "outputId": "692bced0-9733-40ab-d4d5-f8e4ebce51e1",
        "colab": {
          "base_uri": "https://localhost:8080/",
          "height": 34
        }
      },
      "source": [
        "base_df[\"url\"][0]"
      ],
      "execution_count": 0,
      "outputs": [
        {
          "output_type": "execute_result",
          "data": {
            "text/plain": [
              "'https://shogidb2.com/games/d3db76663680c2ad70926eddd1b448fee647ecc7'"
            ]
          },
          "metadata": {
            "tags": []
          },
          "execution_count": 26
        }
      ]
    },
    {
      "cell_type": "code",
      "metadata": {
        "id": "Udi47xWhjaln",
        "colab_type": "code",
        "outputId": "5ece1f75-b049-4e19-b8b4-138f28ac72e8",
        "colab": {
          "base_uri": "https://localhost:8080/",
          "height": 1000
        }
      },
      "source": [
        "driver = webdriver.Chrome('chromedriver',options=options)\n",
        "URL = base_df[\"url\"][0]\n",
        "driver.get(URL)\n",
        "#kif-export\n",
        "driver.find_element_by_id('kif-export').click()\n",
        "html = driver.page_source.encode('utf-8')\n",
        "soup = BeautifulSoup(html, \"html.parser\")\n",
        "driver.quit()\n",
        "#kifu-modal > div > div > div.modal-body > div > textarea\n",
        "for n in soup.select(\"#kifu-modal > div > div > div.modal-body > div > textarea\"):\n",
        "  kifu = re.search(r'>((.|\\s)*?)<',str(n)).group(0)[1:][:-1]\n",
        "  print(kifu)"
      ],
      "execution_count": 0,
      "outputs": [
        {
          "output_type": "stream",
          "text": [
            "開始日時：2020/02/06 1:00:00\n",
            "終了日時：2020/02/06 10:34:00\n",
            "棋戦：順位戦\n",
            "場所：関西将棋会館\n",
            "持ち時間：6時間\n",
            "消費時間：92▲182△311\n",
            "手合割：平手\n",
            "先手：福崎文吾 九段\n",
            "後手：佐藤紳哉 七段\n",
            "戦型：矢倉\n",
            "手数----指手---------消費時間--\n",
            "1 ７六歩(77) (00:00/00:00:00)\n",
            "2 ８四歩(83) (00:00/00:00:00)\n",
            "3 ６八銀(79) (00:00/00:00:00)\n",
            "4 ３四歩(33) (00:00/00:00:00)\n",
            "5 ７七銀(68) (00:00/00:00:00)\n",
            "6 ６二銀(71) (00:00/00:00:00)\n",
            "7 ２六歩(27) (00:00/00:00:00)\n",
            "8 ４二銀(31) (00:00/00:00:00)\n",
            "9 ２五歩(26) (00:00/00:00:00)\n",
            "10 ３三銀(42) (00:00/00:00:00)\n",
            "11 ４八銀(39) (00:00/00:00:00)\n",
            "12 ３二金(41) (00:00/00:00:00)\n",
            "13 ５八金(49) (00:00/00:00:00)\n",
            "14 ４一玉(51) (00:00/00:00:00)\n",
            "15 ５六歩(57) (00:00/00:00:00)\n",
            "16 ５四歩(53) (00:00/00:00:00)\n",
            "17 ６六歩(67) (00:00/00:00:00)\n",
            "18 ３一角(22) (00:00/00:00:00)\n",
            "19 ６七金(58) (00:00/00:00:00)\n",
            "20 ７四歩(73) (00:00/00:00:00)\n",
            "21 ７九角(88) (00:00/00:00:00)\n",
            "22 ８五歩(84) (00:00/00:00:00)\n",
            "23 ４六角(79) (00:00/00:00:00)\n",
            "24 ６四角(31) (00:00/00:00:00)\n",
            "25 ６八玉(59) (00:00/00:00:00)\n",
            "26 ７三角(64) (00:00/00:00:00)\n",
            "27 ７八玉(68) (00:00/00:00:00)\n",
            "28 ６四歩(63) (00:00/00:00:00)\n",
            "29 ３六歩(37) (00:00/00:00:00)\n",
            "30 ５二金(61) (00:00/00:00:00)\n",
            "31 ５七銀(48) (00:00/00:00:00)\n",
            "32 ５三銀(62) (00:00/00:00:00)\n",
            "33 ３七角(46) (00:00/00:00:00)\n",
            "34 ３一玉(41) (00:00/00:00:00)\n",
            "35 ６八金(69) (00:00/00:00:00)\n",
            "36 ２二玉(31) (00:00/00:00:00)\n",
            "37 ４六歩(47) (00:00/00:00:00)\n",
            "38 ６二飛(82) (00:00/00:00:00)\n",
            "39 ２六角(37) (00:00/00:00:00)\n",
            "40 ４四歩(43) (00:00/00:00:00)\n",
            "41 ３七桂(29) (00:00/00:00:00)\n",
            "42 ６五歩(64) (00:00/00:00:00)\n",
            "43 同　歩(66) (00:00/00:00:00)\n",
            "44 同　飛(62) (00:00/00:00:00)\n",
            "45 ７五歩(76) (00:00/00:00:00)\n",
            "46 同　歩(74) (00:00/00:00:00)\n",
            "47 ６六銀(77) (00:00/00:00:00)\n",
            "48 ６一飛(65) (00:00/00:00:00)\n",
            "49 ７五銀(66) (00:00/00:00:00)\n",
            "50 １四歩(13) (00:00/00:00:00)\n",
            "51 ７七桂(89) (00:00/00:00:00)\n",
            "52 ６四銀(53) (00:00/00:00:00)\n",
            "53 ７四銀(75) (00:00/00:00:00)\n",
            "54 ７五銀(64) (00:00/00:00:00)\n",
            "55 ６六歩打 (00:00/00:00:00)\n",
            "56 ７六歩打 (00:00/00:00:00)\n",
            "57 ６五桂(77) (00:00/00:00:00)\n",
            "58 ９五角(73) (00:00/00:00:00)\n",
            "59 ２四歩(25) (00:00/00:00:00)\n",
            "60 同　歩(23) (00:00/00:00:00)\n",
            "61 ２五歩打 (00:00/00:00:00)\n",
            "62 ６四歩打 (00:00/00:00:00)\n",
            "63 ５三桂成(65) (00:00/00:00:00)\n",
            "64 同　金(52) (00:00/00:00:00)\n",
            "65 ４五桂(37) (00:00/00:00:00)\n",
            "66 ２五歩(24) (00:00/00:00:00)\n",
            "67 ５三桂成(45) (00:00/00:00:00)\n",
            "68 ２六歩(25) (00:00/00:00:00)\n",
            "69 ９六歩(97) (00:00/00:00:00)\n",
            "70 ６八角成(95) (00:00/00:00:00)\n",
            "71 同　銀(57) (00:00/00:00:00)\n",
            "72 ８六歩(85) (00:00/00:00:00)\n",
            "73 同　歩(87) (00:00/00:00:00)\n",
            "74 同　銀(75) (00:00/00:00:00)\n",
            "75 ７六金(67) (00:00/00:00:00)\n",
            "76 ８七角打 (00:00/00:00:00)\n",
            "77 ６七玉(78) (00:00/00:00:00)\n",
            "78 ７五桂打 (00:00/00:00:00)\n",
            "79 同　金(76) (00:00/00:00:00)\n",
            "80 同　銀(86) (00:00/00:00:00)\n",
            "81 ２六飛(28) (00:00/00:00:00)\n",
            "82 ２四歩打 (00:00/00:00:00)\n",
            "83 ５八玉(67) (00:00/00:00:00)\n",
            "84 ７八角成(87) (00:00/00:00:00)\n",
            "85 ２七飛(26) (00:00/00:00:00)\n",
            "86 ６六銀(75) (00:00/00:00:00)\n",
            "87 ６七歩打 (00:00/00:00:00)\n",
            "88 ５七金打 (00:00/00:00:00)\n",
            "89 同　飛(27) (00:00/00:00:00)\n",
            "90 同　銀成(66) (00:00/00:00:00)\n",
            "91 同　銀(68) (00:00/00:00:00)\n",
            "92 ３九飛打 (00:00/00:00:00)\n",
            "93 投了 (00:00/00:00:00)\n"
          ],
          "name": "stdout"
        }
      ]
    },
    {
      "cell_type": "code",
      "metadata": {
        "id": "mRwNIqlzlta5",
        "colab_type": "code",
        "outputId": "fa836cde-411e-4d1f-bfdb-dfecc7677cc4",
        "colab": {
          "base_uri": "https://localhost:8080/",
          "height": 1000
        }
      },
      "source": [
        "soup"
      ],
      "execution_count": 0,
      "outputs": [
        {
          "output_type": "execute_result",
          "data": {
            "text/plain": [
              "<html lang=\"ja\"><head><script async=\"\" src=\"https://apis.google.com/_/scs/apps-static/_/js/k=oz.gapi.en_US.JKCQ2Hvuo0E.O/m=gapi_iframes_style_bubble/exm=auth,ytsubscribe/rt=j/sv=1/d=1/ed=1/am=wQE/rs=AGLTcCOl3FsgYnTqVeIFUJJD2j4-pO09lQ/cb=gapi.loaded_2\"></script><script src=\"https://www.googletagservices.com/activeview/js/current/osd.js?cb=%2Fr20100101\"></script><script src=\"https://partner.googleadservices.com/gampad/cookie.js?domain=shogidb2.com&amp;callback=_gfp_s_&amp;client=ca-pub-1706171618035325\"></script><script id=\"google_shimpl\" src=\"https://pagead2.googlesyndication.com/pagead/js/r20200219/r20190131/show_ads_impl_fy2019.js\"></script><script async=\"\" src=\"https://apis.google.com/_/scs/apps-static/_/js/k=oz.gapi.en_US.JKCQ2Hvuo0E.O/m=auth/exm=ytsubscribe/rt=j/sv=1/d=1/ed=1/am=wQE/rs=AGLTcCOl3FsgYnTqVeIFUJJD2j4-pO09lQ/cb=gapi.loaded_1\"></script><script async=\"\" src=\"https://apis.google.com/_/scs/apps-static/_/js/k=oz.gapi.en_US.JKCQ2Hvuo0E.O/m=ytsubscribe/rt=j/sv=1/d=1/ed=1/am=wQE/rs=AGLTcCOl3FsgYnTqVeIFUJJD2j4-pO09lQ/cb=gapi.loaded_0\"></script><!--Google Tag Manager--><script async=\"\" src=\"https://www.google-analytics.com/analytics.js\" type=\"text/javascript\"></script><script async=\"\" src=\"https://www.googletagmanager.com/gtm.js?id=GTM-KJBSKCP\"></script><script>(function(w,d,s,l,i){w[l]=w[l]||[];w[l].push({'gtm.start':new Date().getTime(),event:'gtm.js'});var f=d.getElementsByTagName(s)[0],j=d.createElement(s),dl=l!='dataLayer'?'&l='+l:'';j.async=true;j.src='https://www.googletagmanager.com/gtm.js?id='+i+dl;f.parentNode.insertBefore(j,f);})(window,document,'script','dataLayer','GTM-KJBSKCP');</script><!--End Google Tag Manager--><meta charset=\"utf-8\"/><meta content=\"IE=edge\" http-equiv=\"X-UA-Compatible\"/><meta content=\"width=device-width, initial-scale=1, user-scalable=0\" name=\"viewport\"/><meta content=\"福崎文吾 九段 vs. 佐藤紳哉 七段(2020年02月06日 第78期順位戦Ｃ級２組９回戦)の棋譜です。無料の棋譜データベースサービス「将棋DB2」では、プロ棋士やコンピューター将棋などの様々な棋譜を鑑賞できます。\" name=\"description\"/><meta content=\"福崎文吾 九段 vs. 佐藤紳哉 七段(2020年02月06日 第78期順位戦Ｃ級２組９回戦)の棋譜です。無料の棋譜データベースサービス「将棋DB2」では、プロ棋士やコンピューター将棋などの様々な棋譜を鑑賞できます。\" property=\"og:description\"/><meta content=\"福崎文吾 九段 vs. 佐藤紳哉 七段(2020年02月06日 第78期順位戦Ｃ級２組９回戦)の棋譜です。無料の棋譜データベースサービス「将棋DB2」では、プロ棋士やコンピューター将棋などの様々な棋譜を鑑賞できます。\" name=\"twitter:description\"/><meta content=\"1593506227603450\" property=\"fb:app_id\"/><meta name=\"author\"/><meta content=\"福崎文吾 九段 vs. 佐藤紳哉 七段 第78期順位戦Ｃ級２組９回戦\" property=\"og:title\"/><meta content=\"https://shogidb2.com/games/d3db76663680c2ad70926eddd1b448fee647ecc7\" property=\"og:url\"/><meta content=\"https://shogidb2.com/img/431257/thumb.png\" property=\"og:image\"/><meta content=\"article\" property=\"og:type\"/><meta content=\"https://shogidb2.com/img/431257/thumb.png\" property=\"twitter:image\"/><meta content=\"将棋DB2\" name=\"twitter:app:name:iphone\"/><meta content=\"631272282\" name=\"twitter:app:id:iphone\"/><meta content=\"shogidb2://\" name=\"twitter:app:url:iphone\"/><meta content=\"将棋DB2\" name=\"twitter:app:name:googleplay\"/><meta content=\"com.aediworks.shogidb2\" name=\"twitter:app:id:googleplay\"/><meta content=\"shogidb2://\" name=\"twitter:app:url:googleplay\"/><meta content=\"JP\" name=\"twitter:app:country\"/><meta content=\"app\" name=\"twitter:card\"/><meta content=\"将棋DB2\" property=\"og:site_name\"/><title>福崎文吾 九段 vs. 佐藤紳哉 七段 第78期順位戦Ｃ級２組９回戦 - 無料の棋譜サービス 将棋DB2</title><link href=\"https://junkoda.github.io/kyokumen/0/kyokumen.css\" rel=\"stylesheet\" type=\"text/css\"/><link href=\"/css/app-4f0d9003c87e44c9697977e3f54fdb8a.css?vsn=d\" rel=\"stylesheet\"/><link href=\"/favicon16.png\" rel=\"icon\" sizes=\"16x16\"/><link href=\"/favicon32.png\" rel=\"icon\" sizes=\"32x32\"/><link href=\"/favicon48.png\" rel=\"icon\" sizes=\"48x48\"/><link href=\"/favicon96.png\" rel=\"icon\" sizes=\"96x96\"/><link href=\"/favicon192.png\" rel=\"icon\" sizes=\"192x192\"/><link href=\"/apple-touch-icon57.png\" rel=\"apple-touch-icon\" sizes=\"57x57\"/><link href=\"/apple-touch-icon60.png\" rel=\"apple-touch-icon\" sizes=\"60x60\"/><link href=\"/apple-touch-icon72.png\" rel=\"apple-touch-icon\" sizes=\"72x72\"/><link href=\"/apple-touch-icon76.png\" rel=\"apple-touch-icon\" sizes=\"76x76\"/><link href=\"/apple-touch-icon114.png\" rel=\"apple-touch-icon\" sizes=\"114x114\"/><link href=\"/apple-touch-icon120.png\" rel=\"apple-touch-icon\" sizes=\"120x120\"/><link href=\"/apple-touch-icon144.png\" rel=\"apple-touch-icon\" sizes=\"144x144\"/><link href=\"/apple-touch-icon152.png\" rel=\"apple-touch-icon\" sizes=\"152x152\"/><link href=\"/apple-touch-icon180.png\" rel=\"apple-touch-icon\" sizes=\"180x180\"/><!--IE10 viewport hack for Surface/desktop Windows 8 bug--><script src=\"/js/ie10-viewport-bug-workaround.js\"></script><script gapi_processed=\"true\" src=\"https://apis.google.com/js/platform.js\"></script><style>.amzn-lew-adsDiv{position:fixed;display:none;left:0;z-index:999;background:#FFF;margin:0;padding:0;outline:0;height:80px;-webkit-transition:height .3s ease;-moz-transition:height .3s ease;-o-transition:height .3s ease;-ms-transition:height .3s ease;transition:height .3s ease}.amzn-lew-adsDiv #amzn-lew-closeButton{cursor:pointer;width:40px;height:15px;display:none;position:absolute;right:10px;top:-15px;outline:0;margin:0;padding:0;border:1px solid rgba(255,255,255,0);border-radius:5px 5px 0 0;background-color:rgba(245,156,56,0.35);background-repeat:no-repeat;background-position:-1px -85px;z-index:999}button#amzn-lew-closeButton::before{position:absolute;content:'';left:-10px;right:-10px;top:-10px;bottom:-10px}img#amzn-lew-cues{display:inline-block;height:1em;border:0;padding:0;margin:0;outline:0;width:auto;-moz-box-shadow:none;-webkit-box-shadow:none;box-shadow:none}img.amzn_view_checked{-moz-box-shadow:none;-webkit-box-shadow:none;box-shadow:none}button::-moz-focus-inner{border:0}.amznTextLinkWidget_a::after{content:' ';display:block;position:absolute;top:0;left:0;right:0;bottom:0}.amzn-lew-a{display:block;width:100%;overflow:visible}.amzn-lew-iframe{border:1px solid #f59c38;border-bottom:0;max-height:80px;width:calc(100% - 2px)}</style><link as=\"script\" href=\"https://adservice.google.com/adsid/integrator.js?domain=shogidb2.com\" rel=\"preload\"/><script src=\"https://adservice.google.com/adsid/integrator.js?domain=shogidb2.com\" type=\"text/javascript\"></script><style> .gc-bubbleDefault{background-color:transparent !important;text-align:left;padding:0 !important;margin:0 !important;border:0 !important;table-layout:auto !important}.gc-reset{background-color:transparent !important;border:0 !important;padding:0 !important;margin:0 !important;text-align:left}.pls-bubbleTop{border-bottom:1px solid #ccc !important}.pls-topTail,.pls-vertShimLeft,.pls-contentLeft{background-image:url(//ssl.gstatic.com/s2/oz/images/stars/po/bubblev1/border_3.gif) !important}.pls-topTail{background-repeat:repeat-x !important;background-position:bottom !important}.pls-vertShim{background-color:#fff !important;text-align:right}.tbl-grey .pls-vertShim{background-color:#f5f5f5 !important}.pls-vertShimLeft{background-repeat:repeat-y !important;background-position:right !important;height:4px}.pls-vertShimRight{height:4px}.pls-confirm-container .pls-vertShim{background-color:#fff3c2 !important}.pls-contentWrap{background-color:#fff !important;position:relative !important;vertical-align:top}.pls-contentLeft{background-repeat:repeat-y;background-position:right;vertical-align:top}.pls-dropRight{background-image:url(//ssl.gstatic.com/s2/oz/images/stars/po/bubblev1/bubbleDropR_3.png) !important;background-repeat:repeat-y !important;vertical-align:top}.pls-vert,.pls-tailleft,.pls-dropTR .pls-dropBR,.pls-dropBL,.pls-vert img{vertical-align:top}.pls-dropBottom{background-image:url(//ssl.gstatic.com/s2/oz/images/stars/po/bubblev1/bubbleDropB_3.png) !important;background-repeat:repeat-x !important;width:100%;vertical-align:top}.pls-topLeft{background:inherit !important;text-align:right;vertical-align:bottom}.pls-topRight{background:inherit !important;text-align:left;vertical-align:bottom}.pls-bottomLeft{background:inherit !important;text-align:right}.pls-bottomRight{background:inherit !important;text-align:left;vertical-align:top}.pls-tailtop,.pls-tailright,.pls-tailbottom,.pls-tailleft{display:none;position:relative}.pls-tailbottom,.pls-tailtop,.pls-tailright,.pls-tailleft,.pls-dropTR,.pls-dropBR,.pls-dropBL{background-image:url(//ssl.gstatic.com/s2/oz/images/stars/po/bubblev1/bubbleSprite_3.png) !important;background-repeat:no-repeat}.tbl-grey .pls-tailbottom,.tbl-grey .pls-tailtop,.tbl-grey .pls-tailright,.tbl-grey .pls-tailleft,.tbl-grey .pls-dropTR,.tbl-grey .pls-dropBR,.tbl-grey .pls-dropBL{background-image:url(//ssl.gstatic.com/s2/oz/images/stars/po/bubblev1/bubbleSprite-grey.png) !important}.pls-tailbottom{background-position:-23px 0}.pls-confirm-container .pls-tailbottom{background-position:-23px -10px}.pls-tailtop{background-position:-19px -20px}.pls-tailright{background-position:0 0}.pls-tailleft{background-position:-10px 0}.pls-tailtop{vertical-align:top}.gc-bubbleDefault td{line-height:0;font-size:0}.pls-topLeft img,.pls-topRight img,.pls-tailbottom{vertical-align:bottom}.pls-bottomLeft img,.bubbleDropTR,.pls-dropBottomL img,.pls-dropBottom img,.pls-dropBottomR img,.pls-bottomLeft{vertical-align:top}.pls-dropTR{background-position:0 -22px}.pls-dropBR{background-position:0 -27px}.pls-dropBL{background-position:0 -16px}.pls-spacertop,.pls-spacerright,.pls-spacerbottom,.pls-spacerleft{position:static !important}.pls-spinner{bottom:0;position:absolute;left:0;margin:auto;right:0;top:0}</style></head><body class=\"modal-open\" style=\"padding-top: 70px; padding-right: 15px;\"><!--Google Tag Manager (noscript)--><noscript><iframe height=\"0\" src=\"https://www.googletagmanager.com/ns.html?id=GTM-KJBSKCP\" style=\"display:none;visibility:hidden\" width=\"0\"></iframe></noscript><!--End Google Tag Manager (noscript)--><nav class=\"navbar-light fixed-top bg-light\" style=\"padding-right: 15px;\"><p class=\"m-0 pl-3 py-0\" style=\"font-size: 10px;\">世界最強の将棋の棋譜データベース - プロ棋士からコンピューター将棋まで</p><div class=\"navbar navbar-expand-md \"><a class=\"navbar-brand\" href=\"/\">将棋DB2</a><button aria-controls=\"navbarCollapse\" aria-expanded=\"false\" aria-label=\"Toggle navigation\" class=\"navbar-toggler\" data-target=\"#navbarCollapse\" data-toggle=\"collapse\" type=\"button\"><span class=\"navbar-toggler-icon\"></span></button><div class=\"collapse navbar-collapse\" id=\"navbarCollapse\"><ul class=\"navbar-nav mr-auto\"><li class=\"nav-item\"><a class=\"nav-link\" href=\"/latest\">最新の棋譜</a></li><li class=\"nav-item\"><a class=\"nav-link\" href=\"/article\">記事</a></li><li class=\"nav-item\"><a class=\"nav-link\" href=\"/comments\">コメント</a></li><li class=\"nav-item dropdown\"><a aria-expanded=\"false\" aria-haspopup=\"true\" class=\"nav-link dropdown-toggle\" data-toggle=\"dropdown\" href=\"#\" id=\"navbarDropdown\" role=\"button\">各種棋譜</a><div aria-labelledby=\"navbarDropdown\" class=\"dropdown-menu\"><a class=\"dropdown-item\" href=\"/floodgate\">floodgate</a><a class=\"dropdown-item\" href=\"/tournaments\">棋戦別</a><a class=\"dropdown-item\" href=\"/players\">棋士別</a><a class=\"dropdown-item\" href=\"/strategies\">戦型別</a></div></li><li class=\"nav-item\"><a class=\"nav-link\" href=\"/joseki\">定跡・戦法</a></li><li class=\"nav-item\"><a class=\"nav-link\" href=\"/book\">棋書</a></li><li class=\"nav-item\"><a class=\"nav-link\" href=\"/kifu/new\">棋譜投稿</a></li><li class=\"nav-item\"><a class=\"nav-link\" href=\"/youtube\">動画</a></li></ul><form action=\"/search\" class=\"form-inline mt-2 mt-md-0 mr-md-4\" method=\"get\"><div class=\"input-group\"><input class=\"form-control border-secondary\" name=\"q\" placeholder=\"棋譜を探す 例: 羽生 渡辺 竜王戦\" type=\"text\"/><div class=\"input-group-append\"><button class=\"btn btn-outline-secondary\" type=\"submit\"><i class=\"fa fa-search\"></i></button></div></div></form><div class=\"navbar-nav\" id=\"navbar-right\"><div class=\"nav-item\"><li><a class=\"nav-link\" href=\"/login\">ログイン</a></li></div></div></div></div></nav><div class=\"container-fluid\" style=\"height: auto !important;\"><div class=\"modal fade\" id=\"kifu-modal\" style=\"padding-right: 15px;\"><div class=\"modal-dialog\"><div class=\"modal-content\"><div class=\"modal-header\"><h4 class=\"modal-title\">福崎文吾 九段 vs. 佐藤紳哉 七段 第78期順位戦Ｃ級２組９回戦</h4><button aria-label=\"Close\" class=\"close\" data-dismiss=\"modal\" type=\"button\"><span aria-hidden=\"true\">×</span></button></div><div class=\"modal-body\"><div class=\"control-group\"><textarea class=\"form-control\" rows=\"20\">開始日時：2020/02/06 1:00:00\n",
              "終了日時：2020/02/06 10:34:00\n",
              "棋戦：順位戦\n",
              "場所：関西将棋会館\n",
              "持ち時間：6時間\n",
              "消費時間：92▲182△311\n",
              "手合割：平手\n",
              "先手：福崎文吾 九段\n",
              "後手：佐藤紳哉 七段\n",
              "戦型：矢倉\n",
              "手数----指手---------消費時間--\n",
              "1 ７六歩(77) (00:00/00:00:00)\n",
              "2 ８四歩(83) (00:00/00:00:00)\n",
              "3 ６八銀(79) (00:00/00:00:00)\n",
              "4 ３四歩(33) (00:00/00:00:00)\n",
              "5 ７七銀(68) (00:00/00:00:00)\n",
              "6 ６二銀(71) (00:00/00:00:00)\n",
              "7 ２六歩(27) (00:00/00:00:00)\n",
              "8 ４二銀(31) (00:00/00:00:00)\n",
              "9 ２五歩(26) (00:00/00:00:00)\n",
              "10 ３三銀(42) (00:00/00:00:00)\n",
              "11 ４八銀(39) (00:00/00:00:00)\n",
              "12 ３二金(41) (00:00/00:00:00)\n",
              "13 ５八金(49) (00:00/00:00:00)\n",
              "14 ４一玉(51) (00:00/00:00:00)\n",
              "15 ５六歩(57) (00:00/00:00:00)\n",
              "16 ５四歩(53) (00:00/00:00:00)\n",
              "17 ６六歩(67) (00:00/00:00:00)\n",
              "18 ３一角(22) (00:00/00:00:00)\n",
              "19 ６七金(58) (00:00/00:00:00)\n",
              "20 ７四歩(73) (00:00/00:00:00)\n",
              "21 ７九角(88) (00:00/00:00:00)\n",
              "22 ８五歩(84) (00:00/00:00:00)\n",
              "23 ４六角(79) (00:00/00:00:00)\n",
              "24 ６四角(31) (00:00/00:00:00)\n",
              "25 ６八玉(59) (00:00/00:00:00)\n",
              "26 ７三角(64) (00:00/00:00:00)\n",
              "27 ７八玉(68) (00:00/00:00:00)\n",
              "28 ６四歩(63) (00:00/00:00:00)\n",
              "29 ３六歩(37) (00:00/00:00:00)\n",
              "30 ５二金(61) (00:00/00:00:00)\n",
              "31 ５七銀(48) (00:00/00:00:00)\n",
              "32 ５三銀(62) (00:00/00:00:00)\n",
              "33 ３七角(46) (00:00/00:00:00)\n",
              "34 ３一玉(41) (00:00/00:00:00)\n",
              "35 ６八金(69) (00:00/00:00:00)\n",
              "36 ２二玉(31) (00:00/00:00:00)\n",
              "37 ４六歩(47) (00:00/00:00:00)\n",
              "38 ６二飛(82) (00:00/00:00:00)\n",
              "39 ２六角(37) (00:00/00:00:00)\n",
              "40 ４四歩(43) (00:00/00:00:00)\n",
              "41 ３七桂(29) (00:00/00:00:00)\n",
              "42 ６五歩(64) (00:00/00:00:00)\n",
              "43 同　歩(66) (00:00/00:00:00)\n",
              "44 同　飛(62) (00:00/00:00:00)\n",
              "45 ７五歩(76) (00:00/00:00:00)\n",
              "46 同　歩(74) (00:00/00:00:00)\n",
              "47 ６六銀(77) (00:00/00:00:00)\n",
              "48 ６一飛(65) (00:00/00:00:00)\n",
              "49 ７五銀(66) (00:00/00:00:00)\n",
              "50 １四歩(13) (00:00/00:00:00)\n",
              "51 ７七桂(89) (00:00/00:00:00)\n",
              "52 ６四銀(53) (00:00/00:00:00)\n",
              "53 ７四銀(75) (00:00/00:00:00)\n",
              "54 ７五銀(64) (00:00/00:00:00)\n",
              "55 ６六歩打 (00:00/00:00:00)\n",
              "56 ７六歩打 (00:00/00:00:00)\n",
              "57 ６五桂(77) (00:00/00:00:00)\n",
              "58 ９五角(73) (00:00/00:00:00)\n",
              "59 ２四歩(25) (00:00/00:00:00)\n",
              "60 同　歩(23) (00:00/00:00:00)\n",
              "61 ２五歩打 (00:00/00:00:00)\n",
              "62 ６四歩打 (00:00/00:00:00)\n",
              "63 ５三桂成(65) (00:00/00:00:00)\n",
              "64 同　金(52) (00:00/00:00:00)\n",
              "65 ４五桂(37) (00:00/00:00:00)\n",
              "66 ２五歩(24) (00:00/00:00:00)\n",
              "67 ５三桂成(45) (00:00/00:00:00)\n",
              "68 ２六歩(25) (00:00/00:00:00)\n",
              "69 ９六歩(97) (00:00/00:00:00)\n",
              "70 ６八角成(95) (00:00/00:00:00)\n",
              "71 同　銀(57) (00:00/00:00:00)\n",
              "72 ８六歩(85) (00:00/00:00:00)\n",
              "73 同　歩(87) (00:00/00:00:00)\n",
              "74 同　銀(75) (00:00/00:00:00)\n",
              "75 ７六金(67) (00:00/00:00:00)\n",
              "76 ８七角打 (00:00/00:00:00)\n",
              "77 ６七玉(78) (00:00/00:00:00)\n",
              "78 ７五桂打 (00:00/00:00:00)\n",
              "79 同　金(76) (00:00/00:00:00)\n",
              "80 同　銀(86) (00:00/00:00:00)\n",
              "81 ２六飛(28) (00:00/00:00:00)\n",
              "82 ２四歩打 (00:00/00:00:00)\n",
              "83 ５八玉(67) (00:00/00:00:00)\n",
              "84 ７八角成(87) (00:00/00:00:00)\n",
              "85 ２七飛(26) (00:00/00:00:00)\n",
              "86 ６六銀(75) (00:00/00:00:00)\n",
              "87 ６七歩打 (00:00/00:00:00)\n",
              "88 ５七金打 (00:00/00:00:00)\n",
              "89 同　飛(27) (00:00/00:00:00)\n",
              "90 同　銀成(66) (00:00/00:00:00)\n",
              "91 同　銀(68) (00:00/00:00:00)\n",
              "92 ３九飛打 (00:00/00:00:00)\n",
              "93 投了 (00:00/00:00:00)</textarea></div></div><div class=\"modal-footer\"><button class=\"btn btn-light\" data-dismiss=\"modal\" type=\"button\">Close</button></div></div></div></div><script>var data ={\"開始日時\":\"2020-02-06T01:00:00.000Z\",\"終了日時\":\"2020-02-06T10:34:00.000Z\",\"棋戦詳細\":\"第78期順位戦Ｃ級２組９回戦\",\"棋戦\":\"順位戦\",\"手合割\":\"平手\",\"戦型\":\"矢倉\",\"後手\":\"佐藤紳哉 七段\",\"場所\":\"関西将棋会館\",\"先手\":\"福崎文吾 九段\",\"youtubes\":[{\"url\":\"https://www.youtube.com/embed/oj5ijUTUeK8\",\"status\":\"draft\",\"id\":3774,\"created_at\":\"2020-02-06T16:21:24Z\"}],\"tournament_detail\":\"第78期順位戦Ｃ級２組９回戦\",\"tournament\":\"順位戦\",\"time_consumed\":\"92▲182△311\",\"time\":\"6時間\",\"strategy\":\"矢倉\",\"start_at\":\"2020-02-06T01:00:00.000Z\",\"result\":\"gote_win\",\"provider\":\"human\",\"player2\":\"佐藤紳哉 七段\",\"player1\":\"福崎文吾 九段\",\"place\":\"関西将棋会館\",\"moves\":[{\"sfen\":\"lnsgkgsnl/1r5b1/ppppppppp/9/9/2P6/PP1PPPPPP/1B5R1/LNSGKGSNL w - 2\",\"move\":\"７六歩(77)\",\"hash\":\"66ae3cd31cc88f1188f07f55c0ebd52ed3d08825\",\"csa\":\"+7776FU\",\"comments\":[]},{\"sfen\":\"lnsgkgsnl/1r5b1/p1ppppppp/1p7/9/2P6/PP1PPPPPP/1B5R1/LNSGKGSNL b - 3\",\"move\":\"８四歩(83)\",\"hash\":\"0782e63ef287ea779cbd416f25b12bbec98beca0\",\"csa\":\"-8384FU\",\"comments\":[]},{\"sfen\":\"lnsgkgsnl/1r5b1/p1ppppppp/1p7/9/2P6/PP1PPPPPP/1B1S3R1/LN1GKGSNL w - 4\",\"move\":\"６八銀(79)\",\"hash\":\"fd116af224e8b4bed5d0b209211f3d47c252665e\",\"csa\":\"+7968GI\",\"comments\":[]},{\"sfen\":\"lnsgkgsnl/1r5b1/p1pppp1pp/1p4p2/9/2P6/PP1PPPPPP/1B1S3R1/LN1GKGSNL b - 5\",\"move\":\"３四歩(33)\",\"hash\":\"ac0dafd5a9df832d5672675a9efbd130687e2fd1\",\"csa\":\"-3334FU\",\"comments\":[]},{\"sfen\":\"lnsgkgsnl/1r5b1/p1pppp1pp/1p4p2/9/2P6/PPSPPPPPP/1B5R1/LN1GKGSNL w - 6\",\"move\":\"７七銀(68)\",\"hash\":\"82f39c41f934cda583a13699fc792e5b156cc9cd\",\"csa\":\"+6877GI\",\"comments\":[]},{\"sfen\":\"ln1gkgsnl/1r1s3b1/p1pppp1pp/1p4p2/9/2P6/PPSPPPPPP/1B5R1/LN1GKGSNL b - 7\",\"move\":\"６二銀(71)\",\"hash\":\"34ad43920ee7bfcd9dd5b8fc44280d6904c68cf1\",\"csa\":\"-7162GI\",\"comments\":[]},{\"sfen\":\"ln1gkgsnl/1r1s3b1/p1pppp1pp/1p4p2/9/2P4P1/PPSPPPP1P/1B5R1/LN1GKGSNL w - 8\",\"move\":\"２六歩(27)\",\"hash\":\"5256ab89f7fe1e752a3136852b6a073ee9718d2b\",\"csa\":\"+2726FU\",\"comments\":[]},{\"sfen\":\"ln1gkg1nl/1r1s1s1b1/p1pppp1pp/1p4p2/9/2P4P1/PPSPPPP1P/1B5R1/LN1GKGSNL b - 9\",\"move\":\"４二銀(31)\",\"hash\":\"55c86525eb2a716e3e937d7f0e82e6f1518b0244\",\"csa\":\"-3142GI\",\"comments\":[]},{\"sfen\":\"ln1gkg1nl/1r1s1s1b1/p1pppp1pp/1p4p2/7P1/2P6/PPSPPPP1P/1B5R1/LN1GKGSNL w - 10\",\"move\":\"２五歩(26)\",\"hash\":\"b0f72e0d7f9b4b534763e95edd834ad3825ab522\",\"csa\":\"+2625FU\",\"comments\":[]},{\"sfen\":\"ln1gkg1nl/1r1s3b1/p1ppppspp/1p4p2/7P1/2P6/PPSPPPP1P/1B5R1/LN1GKGSNL b - 11\",\"move\":\"３三銀(42)\",\"hash\":\"11f682613e9d0b25174251ea0ed0de4c046579af\",\"csa\":\"-4233GI\",\"comments\":[]},{\"sfen\":\"ln1gkg1nl/1r1s3b1/p1ppppspp/1p4p2/7P1/2P6/PPSPPPP1P/1B3S1R1/LN1GKG1NL w - 12\",\"move\":\"４八銀(39)\",\"hash\":\"ae3b16ec92d6f2e91c2f5b3c3c61ae7e0e6478b4\",\"csa\":\"+3948GI\",\"comments\":[]},{\"sfen\":\"ln1gk2nl/1r1s2gb1/p1ppppspp/1p4p2/7P1/2P6/PPSPPPP1P/1B3S1R1/LN1GKG1NL b - 13\",\"move\":\"３二金(41)\",\"hash\":\"00eecac0bc77e2032f57f672df5d334194e7b0d6\",\"csa\":\"-4132KI\",\"comments\":[]},{\"sfen\":\"ln1gk2nl/1r1s2gb1/p1ppppspp/1p4p2/7P1/2P6/PPSPPPP1P/1B2GS1R1/LN1GK2NL w - 14\",\"move\":\"５八金(49)\",\"hash\":\"672f79df0f5efc931f5bb5adccc899b98ef612f8\",\"csa\":\"+4958KI\",\"comments\":[]},{\"sfen\":\"ln1g1k1nl/1r1s2gb1/p1ppppspp/1p4p2/7P1/2P6/PPSPPPP1P/1B2GS1R1/LN1GK2NL b - 15\",\"move\":\"４一玉(51)\",\"hash\":\"21c39bbbd9714b5a104ea9305818496719114ddb\",\"csa\":\"-5141OU\",\"comments\":[]},{\"sfen\":\"ln1g1k1nl/1r1s2gb1/p1ppppspp/1p4p2/7P1/2P1P4/PPSP1PP1P/1B2GS1R1/LN1GK2NL w - 16\",\"move\":\"５六歩(57)\",\"hash\":\"f24b7a713f2858d29a4cdbbe663a8019ce9dd211\",\"csa\":\"+5756FU\",\"comments\":[]},{\"sfen\":\"ln1g1k1nl/1r1s2gb1/p1pp1pspp/1p2p1p2/7P1/2P1P4/PPSP1PP1P/1B2GS1R1/LN1GK2NL b - 17\",\"move\":\"５四歩(53)\",\"hash\":\"bd249bf6200d6fd3403deb105a01dff6e48d08cb\",\"csa\":\"-5354FU\",\"comments\":[]},{\"sfen\":\"ln1g1k1nl/1r1s2gb1/p1pp1pspp/1p2p1p2/7P1/2PPP4/PPS2PP1P/1B2GS1R1/LN1GK2NL w - 18\",\"move\":\"６六歩(67)\",\"hash\":\"78fe2c428affd68d9e996093678d1da4b23a6465\",\"csa\":\"+6766FU\",\"comments\":[]},{\"sfen\":\"ln1g1kbnl/1r1s2g2/p1pp1pspp/1p2p1p2/7P1/2PPP4/PPS2PP1P/1B2GS1R1/LN1GK2NL b - 19\",\"move\":\"３一角(22)\",\"hash\":\"695ad7477285aad94f3da8aea6ea595751c7da4b\",\"csa\":\"-2231KA\",\"comments\":[]},{\"sfen\":\"ln1g1kbnl/1r1s2g2/p1pp1pspp/1p2p1p2/7P1/2PPP4/PPSG1PP1P/1B3S1R1/LN1GK2NL w - 20\",\"move\":\"６七金(58)\",\"hash\":\"0e03ec83608db79f8545772569843a7ba7365e9a\",\"csa\":\"+5867KI\",\"comments\":[]},{\"sfen\":\"ln1g1kbnl/1r1s2g2/p2p1pspp/1pp1p1p2/7P1/2PPP4/PPSG1PP1P/1B3S1R1/LN1GK2NL b - 21\",\"move\":\"７四歩(73)\",\"hash\":\"5afcc1927fe8c4f45cfa9009efa361fe097d3bf9\",\"csa\":\"-7374FU\",\"comments\":[]},{\"sfen\":\"ln1g1kbnl/1r1s2g2/p2p1pspp/1pp1p1p2/7P1/2PPP4/PPSG1PP1P/5S1R1/LNBGK2NL w - 22\",\"move\":\"７九角(88)\",\"hash\":\"6f9e638f93dc7667066385437d8dcf794a5f93e5\",\"csa\":\"+8879KA\",\"comments\":[]},{\"sfen\":\"ln1g1kbnl/1r1s2g2/p2p1pspp/2p1p1p2/1p5P1/2PPP4/PPSG1PP1P/5S1R1/LNBGK2NL b - 23\",\"move\":\"８五歩(84)\",\"hash\":\"df074f634e527b71db000f6854df334d6bfa597d\",\"csa\":\"-8485FU\",\"comments\":[]},{\"sfen\":\"ln1g1kbnl/1r1s2g2/p2p1pspp/2p1p1p2/1p5P1/2PPPB3/PPSG1PP1P/5S1R1/LN1GK2NL w - 24\",\"move\":\"４六角(79)\",\"hash\":\"d1f25ce2f5341bf92cdc24b4ebd7a864c15607bd\",\"csa\":\"+7946KA\",\"comments\":[]},{\"sfen\":\"ln1g1k1nl/1r1s2g2/p2p1pspp/2pbp1p2/1p5P1/2PPPB3/PPSG1PP1P/5S1R1/LN1GK2NL b - 25\",\"move\":\"６四角(31)\",\"hash\":\"6a8295f8c486578615fe1153c4a2029805a53a7d\",\"csa\":\"-3164KA\",\"comments\":[]},{\"sfen\":\"ln1g1k1nl/1r1s2g2/p2p1pspp/2pbp1p2/1p5P1/2PPPB3/PPSG1PP1P/3K1S1R1/LN1G3NL w - 26\",\"move\":\"６八玉(59)\",\"hash\":\"a3c539bb3fb309dfc6859e885bad382e758124ec\",\"csa\":\"+5968OU\",\"comments\":[]},{\"sfen\":\"ln1g1k1nl/1r1s2g2/p1bp1pspp/2p1p1p2/1p5P1/2PPPB3/PPSG1PP1P/3K1S1R1/LN1G3NL b - 27\",\"move\":\"７三角(64)\",\"hash\":\"8ccf1ba56579651c502ea90e0921d50d1a078203\",\"csa\":\"-6473KA\",\"comments\":[]},{\"sfen\":\"ln1g1k1nl/1r1s2g2/p1bp1pspp/2p1p1p2/1p5P1/2PPPB3/PPSG1PP1P/2K2S1R1/LN1G3NL w - 28\",\"move\":\"７八玉(68)\",\"hash\":\"0e85b081ae13b78007cbb0bc62ac687d6efebc5f\",\"csa\":\"+6878OU\",\"comments\":[]},{\"sfen\":\"ln1g1k1nl/1r1s2g2/p1b2pspp/2ppp1p2/1p5P1/2PPPB3/PPSG1PP1P/2K2S1R1/LN1G3NL b - 29\",\"move\":\"６四歩(63)\",\"hash\":\"d453efbb46476c2ba70f3532dd07ab3980908be7\",\"csa\":\"-6364FU\",\"comments\":[]},{\"sfen\":\"ln1g1k1nl/1r1s2g2/p1b2pspp/2ppp1p2/1p5P1/2PPPBP2/PPSG1P2P/2K2S1R1/LN1G3NL w - 30\",\"move\":\"３六歩(37)\",\"hash\":\"832de31af34e8ef91c3f698cd02d4ec9c86bb9c2\",\"csa\":\"+3736FU\",\"comments\":[]},{\"sfen\":\"ln3k1nl/1r1sg1g2/p1b2pspp/2ppp1p2/1p5P1/2PPPBP2/PPSG1P2P/2K2S1R1/LN1G3NL b - 31\",\"move\":\"５二金(61)\",\"hash\":\"1acbf876a826e4cc08ca21775bdefdb4fcbba667\",\"csa\":\"-6152KI\",\"comments\":[]},{\"sfen\":\"ln3k1nl/1r1sg1g2/p1b2pspp/2ppp1p2/1p5P1/2PPPBP2/PPSGSP2P/2K4R1/LN1G3NL w - 32\",\"move\":\"５七銀(48)\",\"hash\":\"4203dea03fa5f84068f20c4154cc78889e045abf\",\"csa\":\"+4857GI\",\"comments\":[]},{\"sfen\":\"ln3k1nl/1r2g1g2/p1b1spspp/2ppp1p2/1p5P1/2PPPBP2/PPSGSP2P/2K4R1/LN1G3NL b - 33\",\"move\":\"５三銀(62)\",\"hash\":\"1d5ad004b51832a0a6802c20a51cfd403737fced\",\"csa\":\"-6253GI\",\"comments\":[]},{\"sfen\":\"ln3k1nl/1r2g1g2/p1b1spspp/2ppp1p2/1p5P1/2PPP1P2/PPSGSPB1P/2K4R1/LN1G3NL w - 34\",\"move\":\"３七角(46)\",\"hash\":\"23e58f2413c06493dca15875cbec17f99c33d3d6\",\"csa\":\"+4637KA\",\"comments\":[]},{\"sfen\":\"ln4knl/1r2g1g2/p1b1spspp/2ppp1p2/1p5P1/2PPP1P2/PPSGSPB1P/2K4R1/LN1G3NL b - 35\",\"move\":\"３一玉(41)\",\"hash\":\"bcda0a44095c98da0c3e8f290e8353703f625452\",\"csa\":\"-4131OU\",\"comments\":[]},{\"sfen\":\"ln4knl/1r2g1g2/p1b1spspp/2ppp1p2/1p5P1/2PPP1P2/PPSGSPB1P/2KG3R1/LN5NL w - 36\",\"move\":\"６八金(69)\",\"hash\":\"e661e71af0324898fa223ae3de8aca8ee05812bb\",\"csa\":\"+6968KI\",\"comments\":[]},{\"sfen\":\"ln5nl/1r2g1gk1/p1b1spspp/2ppp1p2/1p5P1/2PPP1P2/PPSGSPB1P/2KG3R1/LN5NL b - 37\",\"move\":\"２二玉(31)\",\"hash\":\"cb3f687d0886ddd0ad0185531938296e658305be\",\"csa\":\"-3122OU\",\"comments\":[]},{\"sfen\":\"ln5nl/1r2g1gk1/p1b1spspp/2ppp1p2/1p5P1/2PPPPP2/PPSGS1B1P/2KG3R1/LN5NL w - 38\",\"move\":\"４六歩(47)\",\"hash\":\"a999eb1fe839cb3860c5ac0cc488cd8fcc0ab929\",\"csa\":\"+4746FU\",\"comments\":[]},{\"sfen\":\"ln5nl/3rg1gk1/p1b1spspp/2ppp1p2/1p5P1/2PPPPP2/PPSGS1B1P/2KG3R1/LN5NL b - 39\",\"move\":\"６二飛(82)\",\"hash\":\"5e47be9ff41fda48659071f5e6f2dcfc0b95c16f\",\"csa\":\"-8262HI\",\"comments\":[]},{\"sfen\":\"ln5nl/3rg1gk1/p1b1spspp/2ppp1p2/1p5P1/2PPPPPB1/PPSGS3P/2KG3R1/LN5NL w - 40\",\"move\":\"２六角(37)\",\"hash\":\"17af5ea4d23d551b7c5d8337949158961b3bade3\",\"csa\":\"+3726KA\",\"comments\":[]},{\"sfen\":\"ln5nl/3rg1gk1/p1b1s1spp/2ppppp2/1p5P1/2PPPPPB1/PPSGS3P/2KG3R1/LN5NL b - 41\",\"move\":\"４四歩(43)\",\"hash\":\"ad13f33fb1586e16b45510446bcb02014da2ad1c\",\"csa\":\"-4344FU\",\"comments\":[]},{\"sfen\":\"ln5nl/3rg1gk1/p1b1s1spp/2ppppp2/1p5P1/2PPPPPB1/PPSGS1N1P/2KG3R1/LN6L w - 42\",\"move\":\"３七桂(29)\",\"hash\":\"42589f942e84ddaaa853b1350153249ddb8c062c\",\"csa\":\"+2937KE\",\"comments\":[]},{\"sfen\":\"ln5nl/3rg1gk1/p1b1s1spp/2p1ppp2/1p1p3P1/2PPPPPB1/PPSGS1N1P/2KG3R1/LN6L b - 43\",\"move\":\"６五歩(64)\",\"hash\":\"e7383084b064112bdc430c40c60dc07688b4eb22\",\"csa\":\"-6465FU\",\"comments\":[]},{\"sfen\":\"ln5nl/3rg1gk1/p1b1s1spp/2p1ppp2/1p1P3P1/2P1PPPB1/PPSGS1N1P/2KG3R1/LN6L w 1P 44\",\"move\":\"同歩(66)\",\"hash\":\"cfda3d3668f20336e2e5cde1487f316e44193dc7\",\"csa\":\"+6665FU\",\"comments\":[]},{\"sfen\":\"ln5nl/4g1gk1/p1b1s1spp/2p1ppp2/1p1r3P1/2P1PPPB1/PPSGS1N1P/2KG3R1/LN6L b 1P1p 45\",\"move\":\"同飛(62)\",\"hash\":\"e8e273ac43906ed43ca708b115f62159311e7d40\",\"csa\":\"-6265HI\",\"comments\":[]},{\"sfen\":\"ln5nl/4g1gk1/p1b1s1spp/2p1ppp2/1pPr3P1/4PPPB1/PPSGS1N1P/2KG3R1/LN6L w 1P1p 46\",\"move\":\"７五歩(76)\",\"hash\":\"037a3f56f0341dd4847f9ead265ae78ea5900f1b\",\"csa\":\"+7675FU\",\"comments\":[]},{\"sfen\":\"ln5nl/4g1gk1/p1b1s1spp/4ppp2/1ppr3P1/4PPPB1/PPSGS1N1P/2KG3R1/LN6L b 1P2p 47\",\"move\":\"同歩(74)\",\"hash\":\"ccefa30d1da6abd56e2dfda2465f90963bc5c1c9\",\"csa\":\"-7475FU\",\"comments\":[]},{\"sfen\":\"ln5nl/4g1gk1/p1b1s1spp/4ppp2/1ppr3P1/3SPPPB1/PP1GS1N1P/2KG3R1/LN6L w 1P2p 48\",\"move\":\"６六銀(77)\",\"hash\":\"68831bb135168a5c1849ab2289512d06305dbaaf\",\"csa\":\"+7766GI\",\"comments\":[]},{\"sfen\":\"ln1r3nl/4g1gk1/p1b1s1spp/4ppp2/1pp4P1/3SPPPB1/PP1GS1N1P/2KG3R1/LN6L b 1P2p 49\",\"move\":\"６一飛(65)\",\"hash\":\"d94388e84f69847f6e48227cfa1bbb47da30b446\",\"csa\":\"-6561HI\",\"comments\":[]},{\"sfen\":\"ln1r3nl/4g1gk1/p1b1s1spp/4ppp2/1pS4P1/4PPPB1/PP1GS1N1P/2KG3R1/LN6L w 2P2p 50\",\"move\":\"７五銀(66)\",\"hash\":\"a29682ac422c30039fdbad4e283ae8831c1824ad\",\"csa\":\"+6675GI\",\"comments\":[]},{\"sfen\":\"ln1r3nl/4g1gk1/p1b1s1sp1/4ppp1p/1pS4P1/4PPPB1/PP1GS1N1P/2KG3R1/LN6L b 2P2p 51\",\"move\":\"１四歩(13)\",\"hash\":\"634e57034874ae1b4b7bb3d5ff69d145a57b23d4\",\"csa\":\"-1314FU\",\"comments\":[]},{\"sfen\":\"ln1r3nl/4g1gk1/p1b1s1sp1/4ppp1p/1pS4P1/4PPPB1/PPNGS1N1P/2KG3R1/L7L w 2P2p 52\",\"move\":\"７七桂(89)\",\"hash\":\"9bf9743636326074a64fa0f418c0f887498c4644\",\"csa\":\"+8977KE\",\"comments\":[]},{\"sfen\":\"ln1r3nl/4g1gk1/p1b3sp1/3sppp1p/1pS4P1/4PPPB1/PPNGS1N1P/2KG3R1/L7L b 2P2p 53\",\"move\":\"６四銀(53)\",\"hash\":\"afb60dd9aa2d7d5d5f7025f7f26e5e74ee2c6faa\",\"csa\":\"-5364GI\",\"comments\":[]},{\"sfen\":\"ln1r3nl/4g1gk1/p1b3sp1/2Ssppp1p/1p5P1/4PPPB1/PPNGS1N1P/2KG3R1/L7L w 2P2p 54\",\"move\":\"７四銀(75)\",\"hash\":\"853de92d6e7a5c6f883343ab84f7948345575ca2\",\"csa\":\"+7574GI\",\"comments\":[]},{\"sfen\":\"ln1r3nl/4g1gk1/p1b3sp1/2S1ppp1p/1ps4P1/4PPPB1/PPNGS1N1P/2KG3R1/L7L b 2P2p 55\",\"move\":\"７五銀(64)\",\"hash\":\"335e035fa3e0ebf3883d9c95740ee768a55986b4\",\"csa\":\"-6475GI\",\"comments\":[]},{\"sfen\":\"ln1r3nl/4g1gk1/p1b3sp1/2S1ppp1p/1ps4P1/3PPPPB1/PPNGS1N1P/2KG3R1/L7L w 1P2p 56\",\"move\":\"６六歩打\",\"hash\":\"9b4165e560e85744e10638c78903e69b1b1be010\",\"csa\":\"+0066FU\",\"comments\":[]},{\"sfen\":\"ln1r3nl/4g1gk1/p1b3sp1/2S1ppp1p/1ps4P1/2pPPPPB1/PPNGS1N1P/2KG3R1/L7L b 1P1p 57\",\"move\":\"７六歩打\",\"hash\":\"da3bc358f994095d3c40382cac5123d4975b991e\",\"csa\":\"-0076FU\",\"comments\":[]},{\"sfen\":\"ln1r3nl/4g1gk1/p1b3sp1/2S1ppp1p/1psN3P1/2pPPPPB1/PP1GS1N1P/2KG3R1/L7L w 1P1p 58\",\"move\":\"６五桂(77)\",\"hash\":\"0680fdadfded4810206d57fc714ed4d5a4e77d07\",\"csa\":\"+7765KE\",\"comments\":[]},{\"sfen\":\"ln1r3nl/4g1gk1/p5sp1/2S1ppp1p/bpsN3P1/2pPPPPB1/PP1GS1N1P/2KG3R1/L7L b 1P1p 59\",\"move\":\"９五角(73)\",\"hash\":\"40bc760be0109ee69a618c23f2c76e40eee497a7\",\"csa\":\"-7395KA\",\"comments\":[]},{\"sfen\":\"ln1r3nl/4g1gk1/p5sp1/2S1pppPp/bpsN5/2pPPPPB1/PP1GS1N1P/2KG3R1/L7L w 1P1p 60\",\"move\":\"２四歩(25)\",\"hash\":\"26f1ff962c7db55b1712358985a37e48cc697c29\",\"csa\":\"+2524FU\",\"comments\":[]},{\"sfen\":\"ln1r3nl/4g1gk1/p5s2/2S1ppppp/bpsN5/2pPPPPB1/PP1GS1N1P/2KG3R1/L7L b 1P2p 61\",\"move\":\"同歩(23)\",\"hash\":\"fb20089d01cec9fea9de72f790b010dd3f77c4a0\",\"csa\":\"-2324FU\",\"comments\":[]},{\"sfen\":\"ln1r3nl/4g1gk1/p5s2/2S1ppppp/bpsN3P1/2pPPPPB1/PP1GS1N1P/2KG3R1/L7L w 2p 62\",\"move\":\"２五歩打\",\"hash\":\"ffec53dc910a99b2f2a6065efcf50944f9829215\",\"csa\":\"+0025FU\",\"comments\":[]},{\"sfen\":\"ln1r3nl/4g1gk1/p5s2/2Spppppp/bpsN3P1/2pPPPPB1/PP1GS1N1P/2KG3R1/L7L b 1p 63\",\"move\":\"６四歩打\",\"hash\":\"057dc9c5deb9db8a4e1ba2c40302c26c7bc2f653\",\"csa\":\"-0064FU\",\"comments\":[]},{\"sfen\":\"ln1r3nl/4g1gk1/p3+N1s2/2Spppppp/bps4P1/2pPPPPB1/PP1GS1N1P/2KG3R1/L7L w 1p 64\",\"move\":\"５三桂成(65)\",\"hash\":\"f71d1fe93b1c4832dc8b4d220520cd8ca4a9866d\",\"csa\":\"+6553NK\",\"comments\":[]},{\"sfen\":\"ln1r3nl/6gk1/p3g1s2/2Spppppp/bps4P1/2pPPPPB1/PP1GS1N1P/2KG3R1/L7L b 1n1p 65\",\"move\":\"同金(52)\",\"hash\":\"443b0a9140ed0498c176b59cc8d09d5b8652b6c0\",\"csa\":\"-5253KI\",\"comments\":[]},{\"sfen\":\"ln1r3nl/6gk1/p3g1s2/2Spppppp/bps2N1P1/2pPPPPB1/PP1GS3P/2KG3R1/L7L w 1n1p 66\",\"move\":\"４五桂(37)\",\"hash\":\"fb9c3dad033ee8335194c11f3c725e7008653b7a\",\"csa\":\"+3745KE\",\"comments\":[]},{\"sfen\":\"ln1r3nl/6gk1/p3g1s2/2Spppp1p/bps2N1p1/2pPPPPB1/PP1GS3P/2KG3R1/L7L b 1n2p 67\",\"move\":\"２五歩(24)\",\"hash\":\"9abbb5db4507edb65e3074834ce0fceca50ed908\",\"csa\":\"-2425FU\",\"comments\":[]},{\"sfen\":\"ln1r3nl/6gk1/p3+N1s2/2Spppp1p/bps4p1/2pPPPPB1/PP1GS3P/2KG3R1/L7L w 1G1n2p 68\",\"move\":\"５三桂成(45)\",\"hash\":\"d364ca6670761a5886c6941ba25b457cd4edc9ab\",\"csa\":\"+4553NK\",\"comments\":[]},{\"sfen\":\"ln1r3nl/6gk1/p3+N1s2/2Spppp1p/bps6/2pPPPPp1/PP1GS3P/2KG3R1/L7L b 1G1b1n2p 69\",\"move\":\"２六歩(25)\",\"hash\":\"32e9f23f0259820a277d74378410d0d7b22782cd\",\"csa\":\"-2526FU\",\"comments\":[]},{\"sfen\":\"ln1r3nl/6gk1/p3+N1s2/2Spppp1p/bps6/P1pPPPPp1/1P1GS3P/2KG3R1/L7L w 1G1b1n2p 70\",\"move\":\"９六歩(97)\",\"hash\":\"17168c94b7e23999c37eded879b59ac41da8b63e\",\"csa\":\"+9796FU\",\"comments\":[]},{\"sfen\":\"ln1r3nl/6gk1/p3+N1s2/2Spppp1p/1ps6/P1pPPPPp1/1P1GS3P/2K+b3R1/L7L b 1G1b1g1n2p 71\",\"move\":\"６八角成(95)\",\"hash\":\"5ad0b651dfee294bd85b96b24cea4daa246e9f28\",\"csa\":\"-9568UM\",\"comments\":[]},{\"sfen\":\"ln1r3nl/6gk1/p3+N1s2/2Spppp1p/1ps6/P1pPPPPp1/1P1G4P/2KS3R1/L7L w 1B1G1b1g1n2p 72\",\"move\":\"同銀(57)\",\"hash\":\"32af0279ba2e849ea9d8457695584d2940522219\",\"csa\":\"+5768GI\",\"comments\":[]},{\"sfen\":\"ln1r3nl/6gk1/p3+N1s2/2Spppp1p/2s6/PppPPPPp1/1P1G4P/2KS3R1/L7L b 1B1G1b1g1n2p 73\",\"move\":\"８六歩(85)\",\"hash\":\"967e511133a9044c39e9d5402fd04508f0288c5c\",\"csa\":\"-8586FU\",\"comments\":[]},{\"sfen\":\"ln1r3nl/6gk1/p3+N1s2/2Spppp1p/2s6/PPpPPPPp1/3G4P/2KS3R1/L7L w 1B1G1P1b1g1n2p 74\",\"move\":\"同歩(87)\",\"hash\":\"0b20429cb3a37f844b84e373037fd416a1f39679\",\"csa\":\"+8786FU\",\"comments\":[]},{\"sfen\":\"ln1r3nl/6gk1/p3+N1s2/2Spppp1p/9/PspPPPPp1/3G4P/2KS3R1/L7L b 1B1G1P1b1g1n3p 75\",\"move\":\"同銀(75)\",\"hash\":\"694f66b0c3fc58bc7f331a79cccdd85e43000d3d\",\"csa\":\"-7586GI\",\"comments\":[]},{\"sfen\":\"ln1r3nl/6gk1/p3+N1s2/2Spppp1p/9/PsGPPPPp1/8P/2KS3R1/L7L w 1B1G2P1b1g1n3p 76\",\"move\":\"７六金(67)\",\"hash\":\"c82f0f50ffee89865727ad1ae9992dfdbd20d55c\",\"csa\":\"+6776KI\",\"comments\":[]},{\"sfen\":\"ln1r3nl/6gk1/p3+N1s2/2Spppp1p/9/PsGPPPPp1/1b6P/2KS3R1/L7L b 1B1G2P1g1n3p 77\",\"move\":\"８七角打\",\"hash\":\"02dbb1c1bf731709cba47cad8aba1118056c0f07\",\"csa\":\"-0087KA\",\"comments\":[]},{\"sfen\":\"ln1r3nl/6gk1/p3+N1s2/2Spppp1p/9/PsGPPPPp1/1b1K4P/3S3R1/L7L w 1B1G2P1g1n3p 78\",\"move\":\"６七玉(78)\",\"hash\":\"a5446012a8229ed54d79ec3e42721a0bdc33eae2\",\"csa\":\"+7867OU\",\"comments\":[]},{\"sfen\":\"ln1r3nl/6gk1/p3+N1s2/2Spppp1p/2n6/PsGPPPPp1/1b1K4P/3S3R1/L7L b 1B1G2P1g3p 79\",\"move\":\"７五桂打\",\"hash\":\"d8dcebc33408973421bd146a368d44c60f385ffe\",\"csa\":\"-0075KE\",\"comments\":[]},{\"sfen\":\"ln1r3nl/6gk1/p3+N1s2/2Spppp1p/2G6/Ps1PPPPp1/1b1K4P/3S3R1/L7L w 1B1G1N2P1g3p 80\",\"move\":\"同金(76)\",\"hash\":\"a85a555c026e6c67e66e7edc6c260cde5776081a\",\"csa\":\"+7675KI\",\"comments\":[]},{\"sfen\":\"ln1r3nl/6gk1/p3+N1s2/2Spppp1p/2s6/P2PPPPp1/1b1K4P/3S3R1/L7L b 1B1G1N2P2g3p 81\",\"move\":\"同銀(86)\",\"hash\":\"b8de14fb4bffd40c57e59f07be77eb941d9bdde7\",\"csa\":\"-8675GI\",\"comments\":[]},{\"sfen\":\"ln1r3nl/6gk1/p3+N1s2/2Spppp1p/2s6/P2PPPPR1/1b1K4P/3S5/L7L w 1B1G1N3P2g3p 82\",\"move\":\"２六飛(28)\",\"hash\":\"fcd435da5b95a4cdf6f2fea8c9186c5e64f936b4\",\"csa\":\"+2826HI\",\"comments\":[]},{\"sfen\":\"ln1r3nl/6gk1/p3+N1s2/2Spppppp/2s6/P2PPPPR1/1b1K4P/3S5/L7L b 1B1G1N3P2g2p 83\",\"move\":\"２四歩打\",\"hash\":\"c361b488037bca49b7ffb43d70e93a51d868026f\",\"csa\":\"-0024FU\",\"comments\":[]},{\"sfen\":\"ln1r3nl/6gk1/p3+N1s2/2Spppppp/2s6/P2PPPPR1/1b6P/3SK4/L7L w 1B1G1N3P2g2p 84\",\"move\":\"５八玉(67)\",\"hash\":\"cd949bbd4765a66563743669fa9c1bc6676a4280\",\"csa\":\"+6758OU\",\"comments\":[]},{\"sfen\":\"ln1r3nl/6gk1/p3+N1s2/2Spppppp/2s6/P2PPPPR1/8P/2+bSK4/L7L b 1B1G1N3P2g2p 85\",\"move\":\"７八角成(87)\",\"hash\":\"c66406de2faf776a47352406489b576565ae4899\",\"csa\":\"-8778UM\",\"comments\":[]},{\"sfen\":\"ln1r3nl/6gk1/p3+N1s2/2Spppppp/2s6/P2PPPP2/7RP/2+bSK4/L7L w 1B1G1N3P2g2p 86\",\"move\":\"２七飛(26)\",\"hash\":\"f34a38c52f41a30b764f416f9dd5658b7f3d28d4\",\"csa\":\"+2627HI\",\"comments\":[]},{\"sfen\":\"ln1r3nl/6gk1/p3+N1s2/2Spppppp/9/P2sPPP2/7RP/2+bSK4/L7L b 1B1G1N3P2g3p 87\",\"move\":\"６六銀(75)\",\"hash\":\"0e70466f0f4df7dd70ed525ea92dce54f38ac1cb\",\"csa\":\"-7566GI\",\"comments\":[]},{\"sfen\":\"ln1r3nl/6gk1/p3+N1s2/2Spppppp/9/P2sPPP2/3P3RP/2+bSK4/L7L w 1B1G1N2P2g3p 88\",\"move\":\"６七歩打\",\"hash\":\"4677fc2e68451661fc3afd1f9b012b63ee5c1285\",\"csa\":\"+0067FU\",\"comments\":[]},{\"sfen\":\"ln1r3nl/6gk1/p3+N1s2/2Spppppp/9/P2sPPP2/3Pg2RP/2+bSK4/L7L b 1B1G1N2P1g3p 89\",\"move\":\"５七金打\",\"hash\":\"cc2c8ac281b6e7f42f72bf70406c336afb7d3299\",\"csa\":\"-0057KI\",\"comments\":[]},{\"sfen\":\"ln1r3nl/6gk1/p3+N1s2/2Spppppp/9/P2sPPP2/3PR3P/2+bSK4/L7L w 1B2G1N2P1g3p 90\",\"move\":\"同飛(27)\",\"hash\":\"1ccfe7caa7b63cdb204dd83d93b845058bf12bdd\",\"csa\":\"+2757HI\",\"comments\":[]},{\"sfen\":\"ln1r3nl/6gk1/p3+N1s2/2Spppppp/9/P3PPP2/3P+s3P/2+bSK4/L7L b 1B2G1N2P1r1g3p 91\",\"move\":\"同銀成(66)\",\"hash\":\"b88113916b017ffa328ccb37906d3de46c1699a8\",\"csa\":\"-6657NG\",\"comments\":[]},{\"sfen\":\"ln1r3nl/6gk1/p3+N1s2/2Spppppp/9/P3PPP2/3PS3P/2+b1K4/L7L w 1B2G1S1N2P1r1g3p 92\",\"move\":\"同銀(68)\",\"hash\":\"fc0d9f7254763b94ab53eaf8ce83c4e39ed574db\",\"csa\":\"+6857GI\",\"comments\":[]},{\"sfen\":\"ln1r3nl/6gk1/p3+N1s2/2Spppppp/9/P3PPP2/3PS3P/2+b1K4/L5r1L b 1B2G1S1N2P1g3p 93\",\"move\":\"３九飛打\",\"hash\":\"1dcdd294f8a14016bcfdb7d111894dc18751e7b1\",\"csa\":\"-0039HI\",\"comments\":[]},{\"sfen\":null,\"move\":\"投了\",\"hash\":null,\"csa\":\"%TORYO\",\"comments\":[]}],\"id\":431257,\"hash\":\"d3db76663680c2ad70926eddd1b448fee647ecc7\",\"handicap\":\"平手\",\"end_at\":\"2020-02-06T10:34:00.000Z\",\"created_at\":\"2020-02-06T15:00:27.000Z\",\"_id\":431257};</script><div id=\"app\" style=\"height: auto !important;\"><div style=\"height: auto !important;\"><div class=\"row\"><div class=\"col-12\"><nav aria-label=\"breadcrumb\"><ol class=\"breadcrumb bg-light\"><li class=\"breadcrumb-item\" itemscope=\"\" itemtype=\"http://data-vocabulary.org/Breadcrumb\"><a href=\"/\">将棋DB2</a></li><li class=\"breadcrumb-item\" itemscope=\"\" itemtype=\"http://data-vocabulary.org/Breadcrumb\"><a href=\"/tournament/順位戦\" itemprop=\"url\" title=\"順位戦\"><span itemprop=\"title\">順位戦</span></a></li><li class=\"breadcrumb-item active\" itemscope=\"\" itemtype=\"http://data-vocabulary.org/Breadcrumb\"><span itemprop=\"title\">2020-02-06</span></li><li class=\"breadcrumb-item active\" itemscope=\"\" itemtype=\"http://data-vocabulary.org/Breadcrumb\"><span itemprop=\"title\">福崎文吾 九段 vs. 佐藤紳哉 七段 第78期順位戦Ｃ級２組９回戦</span></li></ol></nav><h1 class=\"h2\"><small class=\"text-muted mr-2\">2020-02-06 順位戦</small>福崎文吾 九段 vs. 佐藤紳哉 七段 第78期順位戦Ｃ級２組９回戦</h1></div></div><div class=\"row\" style=\"height: auto !important;\"><div class=\"col-12 col-md-3 py-2\" style=\"height: auto !important; min-height: 0px !important;\"><div style=\"height: auto !important;\"><table class=\"table table-bordered table-hover table-sm\"><tbody><tr><th>開始日時</th><td>2020-02-06 01:00:00</td></tr><tr><th>棋戦</th><td><a href=\"/tournament/順位戦\">順位戦</a></td></tr><tr><th>棋戦詳細</th><td>第78期順位戦Ｃ級２組９回戦</td></tr><tr><th>先手</th><td><a href=\"/player/福崎文吾 九段\">福崎文吾 九段</a></td></tr><tr><th>後手</th><td><a href=\"/player/佐藤紳哉 七段\">佐藤紳哉 七段</a></td></tr><tr><th>手合割</th><td>平手</td></tr><tr><th>場所</th><td>関西将棋会館</td></tr><tr><th>持ち時間</th><td>6時間</td></tr><tr><th>消費時間</th><td>92▲182△311</td></tr><tr><th>戦型</th><td><a href=\"/strategy/矢倉\">矢倉</a></td></tr></tbody></table><div class=\"text-center\"><ins class=\"adsbygoogle\" data-ad-client=\"ca-pub-1706171618035325\" data-ad-format=\"auto\" data-ad-slot=\"9024831493\" data-adsbygoogle-status=\"done\" data-overlap-observer-io=\"false\" style=\"display: block; height: 600px;\"><ins id=\"aswift_0_expand\" style=\"display:inline-table;border:none;height:600px;margin:0;padding:0;position:relative;visibility:visible;width:176px;background-color:transparent;\"><ins id=\"aswift_0_anchor\" style=\"display:block;border:none;height:600px;margin:0;padding:0;position:relative;visibility:visible;width:176px;background-color:transparent;\"><iframe allowfullscreen=\"true\" allowtransparency=\"true\" frameborder=\"0\" height=\"600\" hspace=\"0\" id=\"aswift_0\" marginheight=\"0\" marginwidth=\"0\" name=\"aswift_0\" onload=\"var i=this.id,s=window.google_iframe_oncopy,H=s&amp;&amp;s.handlers,h=H&amp;&amp;H[i],w=this.contentWindow,d;try{d=w.document}catch(e){}if(h&amp;&amp;d&amp;&amp;(!d.body||!d.body.firstChild)){if(h.call){setTimeout(h,0)}else if(h.match){try{h=s.upd(h,i)}catch(e){}w.location.replace(h)}}\" scrolling=\"no\" style=\"left: 0px; position: absolute; top: 0px; border: 0px; width: 176px; height: 600px; overflow: visible;\" vspace=\"0\" width=\"176\"></iframe></ins></ins></ins></div><h3 class=\"h4 mt-4\">アプリへのリンク</h3><ul class=\"list-inline\"><li class=\"list-inline-item\"><a class=\"btn btn-primary\" href=\"shogidb2://game/#{@json['hash']}\">アプリで開く</a></li><li class=\"list-inline-item\"><a class=\"btn btn-danger\" href=\"https://itunes.apple.com/jp/app/jiang-qidb2/id631272282\" target=\"_blank\"><i class=\"fa fa-apple\"></i>iOS</a></li><li class=\"list-inline-item\"><a class=\"btn btn-info\" href=\"https://play.google.com/store/apps/details?id=com.aediworks.shogidb2&amp;hl=ja\" target=\"_blank\"><i class=\"fa fa-android\"></i>Android</a></li></ul><h3 class=\"h4 mt-4\"><i class=\"fa fa-download mr-1\"></i>棋譜の書き出し</h3><ul class=\"list-inline\"><li class=\"list-inline-item\"><a data-target=\"#kifu-modal\" data-toggle=\"modal\" href=\"#\" id=\"csa-export\">CSA形式</a></li><li class=\"list-inline-item\"><a data-target=\"#kifu-modal\" data-toggle=\"modal\" href=\"#\" id=\"kif-export\">KIF形式</a></li><li class=\"list-inline-item\"><a data-target=\"#kifu-modal\" data-toggle=\"modal\" href=\"#\" id=\"ki2-export\">KI2形式</a></li></ul><h3 class=\"h4 mt-4\">関連棋書</h3><div class=\"mt-2\"><div><div class=\"list-group-item list-group-item-action flex-column align-items-start\"><div class=\"d-flex\"><div class=\"mr-4\"><a href=\"/book/振り飛車/269\"><img src=\"https://res.booklive.jp/313851/001/thumbnail/2L.jpg\" style=\"height: 128px;\"/></a></div><div><a href=\"/book/振り飛車/269\"><h5>新手ポカ妙手選　振り飛車編</h5></a><div>勝又清和 著<a class=\"ml-4\" href=\"https://www.amazon.co.jp/gp/product/B00WELE6VM/ref=as_li_tl?ie=UTF8&amp;camp=247&amp;creative=1211&amp;creativeASIN=B00WELE6VM&amp;linkCode=as2&amp;tag=shogidb2-22\" target=\"_blank\"><i class=\"fa fa-amazon\"></i></a></div><div>発売日 2013-09-24</div><div class=\"mt-1\"><a href=\"/book/振り飛車\"><span style=\"margin-right: 1em;\">振り飛車</span></a><a href=\"/book/勝又清和\"><span style=\"margin-right: 1em;\">勝又清和</span></a></div></div></div></div><div class=\"list-group-item list-group-item-action flex-column align-items-start\"><div class=\"d-flex\"><div class=\"mr-4\"><a href=\"/book/手筋/21\"><img src=\"https://res.booklive.jp/317127/001/thumbnail/2L.jpg\" style=\"height: 128px;\"/></a></div><div><a href=\"/book/手筋/21\"><h5>手筋の達人</h5></a><div>武者野勝巳 著<a class=\"ml-4\" href=\"https://www.amazon.co.jp/gp/product/B00XORFZG0/ref=as_li_tl?ie=UTF8&amp;camp=247&amp;creative=1211&amp;creativeASIN=B00XORFZG0&amp;linkCode=as2&amp;tag=shogidb2-22\" target=\"_blank\"><i class=\"fa fa-amazon\"></i></a></div><div>発売日 2005-02-22</div><div class=\"mt-1\"><a href=\"/book/手筋\"><span style=\"margin-right: 1em;\">手筋</span></a><a href=\"/book/武者野勝巳\"><span style=\"margin-right: 1em;\">武者野勝巳</span></a></div></div></div></div><div class=\"list-group-item list-group-item-action flex-column align-items-start\"><div class=\"d-flex\"><div class=\"mr-4\"><a href=\"/book/つる/598\"><img src=\"https://images-fe.ssl-images-amazon.com/images/I/51xY6jaTQTL.jpg\" style=\"height: 128px;\"/></a></div><div><a href=\"/book/つる/598\"><h5>将棋次の一手問題集１００: 最強将棋ソフトからの挑戦状</h5></a><div>つる 著<a class=\"ml-4\" href=\"https://www.amazon.co.jp/gp/product/B07DPW4M86/ref=as_li_tl?ie=UTF8&amp;camp=247&amp;creative=1211&amp;creativeASIN=B07DPW4M86&amp;linkCode=as2&amp;tag=shogidb2-22\" target=\"_blank\"><i class=\"fa fa-amazon\"></i></a></div><div>発売日 2018-06-12</div><div class=\"mt-1\"><a href=\"/book/つる\"><span style=\"margin-right: 1em;\">つる</span></a><a href=\"/book/次の一手\"><span style=\"margin-right: 1em;\">次の一手</span></a></div></div></div></div></div></div><div class=\"mt-4\"></div><div class=\"my-4\"><div id=\"___ytsubscribe_0\" style=\"text-indent: 0px; margin: 0px; padding: 0px; background: transparent; border-style: none; float: none; line-height: normal; font-size: 1px; vertical-align: baseline; display: inline-block; width: 169px; height: 48px;\"><iframe data-gapiattached=\"true\" frameborder=\"0\" hspace=\"0\" id=\"I0_1582353191656\" marginheight=\"0\" marginwidth=\"0\" name=\"I0_1582353191656\" ng-non-bindable=\"\" scrolling=\"no\" src=\"https://www.youtube.com/subscribe_embed?usegapi=1&amp;channelid=UCJC1luFxJ5ZBtEpzwRjgs4A&amp;layout=full&amp;count=default&amp;origin=https%3A%2F%2Fshogidb2.com&amp;gsrc=3p&amp;ic=1&amp;jsh=m%3B%2F_%2Fscs%2Fapps-static%2F_%2Fjs%2Fk%3Doz.gapi.en_US.JKCQ2Hvuo0E.O%2Fam%3DwQE%2Fd%3D1%2Fct%3Dzgms%2Frs%3DAGLTcCOl3FsgYnTqVeIFUJJD2j4-pO09lQ%2Fm%3D__features__#_methods=onPlusOne%2C_ready%2C_close%2C_open%2C_resizeMe%2C_renderstart%2Concircled%2Cdrefresh%2Cerefresh%2Conload&amp;id=I0_1582353191656&amp;_gfid=I0_1582353191656&amp;parent=https%3A%2F%2Fshogidb2.com&amp;pfname=&amp;rpctoken=32388947\" style=\"position: static; top: 0px; width: 169px; margin: 0px; border-style: none; left: 0px; visibility: visible; height: 48px;\" tabindex=\"0\" vspace=\"0\" width=\"100%\"></iframe></div></div></div></div><div class=\"col-12 col-md-6 py-2\"><div style=\"overflow: auto;\"><div class=\"pull-right\"></div></div><div class=\"text-center\" id=\"shogiboard\"><svg class=\"centered\" height=\"400\" id=\"SvgjsSvg1001\" version=\"1.1\" width=\"320\" xmlns=\"http://www.w3.org/2000/svg\" xmlns:svgjs=\"http://svgjs.com/svgjs\" xmlns:xlink=\"http://www.w3.org/1999/xlink\"><defs id=\"SvgjsDefs1002\"></defs><rect fill=\"#ffffff\" height=\"400\" id=\"SvgjsRect1008\" width=\"320\"></rect><rect fill=\"#ffc107\" height=\"320\" id=\"SvgjsRect1009\" width=\"320\" x=\"0\" y=\"30\"></rect><polyline fill=\"none\" id=\"SvgjsPolyline1010\" points=\"10,40 10,340 310,340 310,40 10,40\" stroke=\"#000000\" stroke-linecap=\"round\" stroke-width=\"2\"></polyline><line id=\"SvgjsLine1011\" stroke=\"#000000\" stroke-width=\"0.5\" x1=\"10\" x2=\"10\" y1=\"40\" y2=\"340\"></line><line id=\"SvgjsLine1012\" stroke=\"#000000\" stroke-width=\"0.5\" x1=\"10\" x2=\"310\" y1=\"40\" y2=\"40\"></line><line id=\"SvgjsLine1013\" stroke=\"#000000\" stroke-width=\"0.5\" x1=\"43.333333333333336\" x2=\"43.333333333333336\" y1=\"40\" y2=\"340\"></line><line id=\"SvgjsLine1014\" stroke=\"#000000\" stroke-width=\"0.5\" x1=\"10\" x2=\"310\" y1=\"73.33333333333334\" y2=\"73.33333333333334\"></line><line id=\"SvgjsLine1015\" stroke=\"#000000\" stroke-width=\"0.5\" x1=\"76.66666666666667\" x2=\"76.66666666666667\" y1=\"40\" y2=\"340\"></line><line id=\"SvgjsLine1016\" stroke=\"#000000\" stroke-width=\"0.5\" x1=\"10\" x2=\"310\" y1=\"106.66666666666667\" y2=\"106.66666666666667\"></line><line id=\"SvgjsLine1017\" stroke=\"#000000\" stroke-width=\"0.5\" x1=\"110\" x2=\"110\" y1=\"40\" y2=\"340\"></line><line id=\"SvgjsLine1018\" stroke=\"#000000\" stroke-width=\"0.5\" x1=\"10\" x2=\"310\" y1=\"140\" y2=\"140\"></line><line id=\"SvgjsLine1019\" stroke=\"#000000\" stroke-width=\"0.5\" x1=\"143.33333333333334\" x2=\"143.33333333333334\" y1=\"40\" y2=\"340\"></line><line id=\"SvgjsLine1020\" stroke=\"#000000\" stroke-width=\"0.5\" x1=\"10\" x2=\"310\" y1=\"173.33333333333334\" y2=\"173.33333333333334\"></line><line id=\"SvgjsLine1021\" stroke=\"#000000\" stroke-width=\"0.5\" x1=\"176.66666666666669\" x2=\"176.66666666666669\" y1=\"40\" y2=\"340\"></line><line id=\"SvgjsLine1022\" stroke=\"#000000\" stroke-width=\"0.5\" x1=\"10\" x2=\"310\" y1=\"206.66666666666669\" y2=\"206.66666666666669\"></line><line id=\"SvgjsLine1023\" stroke=\"#000000\" stroke-width=\"0.5\" x1=\"210\" x2=\"210\" y1=\"40\" y2=\"340\"></line><line id=\"SvgjsLine1024\" stroke=\"#000000\" stroke-width=\"0.5\" x1=\"10\" x2=\"310\" y1=\"240\" y2=\"240\"></line><line id=\"SvgjsLine1025\" stroke=\"#000000\" stroke-width=\"0.5\" x1=\"243.33333333333334\" x2=\"243.33333333333334\" y1=\"40\" y2=\"340\"></line><line id=\"SvgjsLine1026\" stroke=\"#000000\" stroke-width=\"0.5\" x1=\"10\" x2=\"310\" y1=\"273.33333333333337\" y2=\"273.33333333333337\"></line><line id=\"SvgjsLine1027\" stroke=\"#000000\" stroke-width=\"0.5\" x1=\"276.6666666666667\" x2=\"276.6666666666667\" y1=\"40\" y2=\"340\"></line><line id=\"SvgjsLine1028\" stroke=\"#000000\" stroke-width=\"0.5\" x1=\"10\" x2=\"310\" y1=\"306.6666666666667\" y2=\"306.6666666666667\"></line><line id=\"SvgjsLine1029\" stroke=\"#000000\" stroke-width=\"0.5\" x1=\"310\" x2=\"310\" y1=\"40\" y2=\"340\"></line><line id=\"SvgjsLine1030\" stroke=\"#000000\" stroke-width=\"0.5\" x1=\"10\" x2=\"310\" y1=\"340\" y2=\"340\"></line><circle cx=\"110\" cy=\"140\" fill=\"#000000\" id=\"SvgjsCircle1031\" r=\"1.5\"></circle><circle cx=\"110\" cy=\"240\" fill=\"#000000\" id=\"SvgjsCircle1032\" r=\"1.5\"></circle><circle cx=\"210\" cy=\"240\" fill=\"#000000\" id=\"SvgjsCircle1033\" r=\"1.5\"></circle><circle cx=\"210\" cy=\"140\" fill=\"#000000\" id=\"SvgjsCircle1034\" r=\"1.5\"></circle><text anchor=\"middle\" font-family=\"Helvetica, Arial, sans-serif\" font-size=\"8\" font-weight=\"bold\" id=\"SvgjsText1035\" size=\"8\" text-anchor=\"middle\" weight=\"bold\" x=\"293.33333333333337\" y=\"26.609375\"><tspan dy=\"10.4\" id=\"SvgjsTspan1036\" x=\"293.33333333333337\">1</tspan></text><text anchor=\"middle\" font-family=\"Helvetica, Arial, sans-serif\" font-size=\"8\" font-weight=\"bold\" id=\"SvgjsText1037\" size=\"8\" text-anchor=\"middle\" weight=\"bold\" x=\"260\" y=\"26.609375\"><tspan dy=\"10.4\" id=\"SvgjsTspan1038\" x=\"260\">2</tspan></text><text anchor=\"middle\" font-family=\"Helvetica, Arial, sans-serif\" font-size=\"8\" font-weight=\"bold\" id=\"SvgjsText1039\" size=\"8\" text-anchor=\"middle\" weight=\"bold\" x=\"226.66666666666666\" y=\"26.609375\"><tspan dy=\"10.4\" id=\"SvgjsTspan1040\" x=\"226.66666666666666\">3</tspan></text><text anchor=\"middle\" font-family=\"Helvetica, Arial, sans-serif\" font-size=\"8\" font-weight=\"bold\" id=\"SvgjsText1041\" size=\"8\" text-anchor=\"middle\" weight=\"bold\" x=\"193.33333333333334\" y=\"26.609375\"><tspan dy=\"10.4\" id=\"SvgjsTspan1042\" x=\"193.33333333333334\">4</tspan></text><text anchor=\"middle\" font-family=\"Helvetica, Arial, sans-serif\" font-size=\"8\" font-weight=\"bold\" id=\"SvgjsText1043\" size=\"8\" text-anchor=\"middle\" weight=\"bold\" x=\"160\" y=\"26.609375\"><tspan dy=\"10.4\" id=\"SvgjsTspan1044\" x=\"160\">5</tspan></text><text anchor=\"middle\" font-family=\"Helvetica, Arial, sans-serif\" font-size=\"8\" font-weight=\"bold\" id=\"SvgjsText1045\" size=\"8\" text-anchor=\"middle\" weight=\"bold\" x=\"126.66666666666667\" y=\"26.609375\"><tspan dy=\"10.4\" id=\"SvgjsTspan1046\" x=\"126.66666666666667\">6</tspan></text><text anchor=\"middle\" font-family=\"Helvetica, Arial, sans-serif\" font-size=\"8\" font-weight=\"bold\" id=\"SvgjsText1047\" size=\"8\" text-anchor=\"middle\" weight=\"bold\" x=\"93.33333333333334\" y=\"26.609375\"><tspan dy=\"10.4\" id=\"SvgjsTspan1048\" x=\"93.33333333333334\">7</tspan></text><text anchor=\"middle\" font-family=\"Helvetica, Arial, sans-serif\" font-size=\"8\" font-weight=\"bold\" id=\"SvgjsText1049\" size=\"8\" text-anchor=\"middle\" weight=\"bold\" x=\"60\" y=\"26.609375\"><tspan dy=\"10.4\" id=\"SvgjsTspan1050\" x=\"60\">8</tspan></text><text anchor=\"middle\" font-family=\"Helvetica, Arial, sans-serif\" font-size=\"8\" font-weight=\"bold\" id=\"SvgjsText1051\" size=\"8\" text-anchor=\"middle\" weight=\"bold\" x=\"26.666666666666668\" y=\"26.609375\"><tspan dy=\"10.4\" id=\"SvgjsTspan1052\" x=\"26.666666666666668\">9</tspan></text><text anchor=\"middle\" font-family=\"Helvetica, Arial, sans-serif\" font-size=\"8\" font-weight=\"bold\" id=\"SvgjsText1053\" size=\"8\" text-anchor=\"middle\" weight=\"bold\" x=\"315\" y=\"49.27604166666667\"><tspan dy=\"10.4\" id=\"SvgjsTspan1054\" x=\"315\">一</tspan></text><text anchor=\"middle\" font-family=\"Helvetica, Arial, sans-serif\" font-size=\"8\" font-weight=\"bold\" id=\"SvgjsText1055\" size=\"8\" text-anchor=\"middle\" weight=\"bold\" x=\"315\" y=\"82.609375\"><tspan dy=\"10.4\" id=\"SvgjsTspan1056\" x=\"315\">二</tspan></text><text anchor=\"middle\" font-family=\"Helvetica, Arial, sans-serif\" font-size=\"8\" font-weight=\"bold\" id=\"SvgjsText1057\" size=\"8\" text-anchor=\"middle\" weight=\"bold\" x=\"315\" y=\"115.94270833333334\"><tspan dy=\"10.4\" id=\"SvgjsTspan1058\" x=\"315\">三</tspan></text><text anchor=\"middle\" font-family=\"Helvetica, Arial, sans-serif\" font-size=\"8\" font-weight=\"bold\" id=\"SvgjsText1059\" size=\"8\" text-anchor=\"middle\" weight=\"bold\" x=\"315\" y=\"149.27604166666669\"><tspan dy=\"10.4\" id=\"SvgjsTspan1060\" x=\"315\">四</tspan></text><text anchor=\"middle\" font-family=\"Helvetica, Arial, sans-serif\" font-size=\"8\" font-weight=\"bold\" id=\"SvgjsText1061\" size=\"8\" text-anchor=\"middle\" weight=\"bold\" x=\"315\" y=\"182.609375\"><tspan dy=\"10.4\" id=\"SvgjsTspan1062\" x=\"315\">五</tspan></text><text anchor=\"middle\" font-family=\"Helvetica, Arial, sans-serif\" font-size=\"8\" font-weight=\"bold\" id=\"SvgjsText1063\" size=\"8\" text-anchor=\"middle\" weight=\"bold\" x=\"315\" y=\"215.94270833333337\"><tspan dy=\"10.4\" id=\"SvgjsTspan1064\" x=\"315\">六</tspan></text><text anchor=\"middle\" font-family=\"Helvetica, Arial, sans-serif\" font-size=\"8\" font-weight=\"bold\" id=\"SvgjsText1065\" size=\"8\" text-anchor=\"middle\" weight=\"bold\" x=\"315\" y=\"249.27604166666669\"><tspan dy=\"10.4\" id=\"SvgjsTspan1066\" x=\"315\">七</tspan></text><text anchor=\"middle\" font-family=\"Helvetica, Arial, sans-serif\" font-size=\"8\" font-weight=\"bold\" id=\"SvgjsText1067\" size=\"8\" text-anchor=\"middle\" weight=\"bold\" x=\"315\" y=\"282.609375\"><tspan dy=\"10.4\" id=\"SvgjsTspan1068\" x=\"315\">八</tspan></text><text anchor=\"middle\" font-family=\"Helvetica, Arial, sans-serif\" font-size=\"8\" font-weight=\"bold\" id=\"SvgjsText1069\" size=\"8\" text-anchor=\"middle\" weight=\"bold\" x=\"315\" y=\"315.94270833333337\"><tspan dy=\"10.4\" id=\"SvgjsTspan1070\" x=\"315\">九</tspan></text><text anchor=\"end\" font-family=\"Helvetica, Arial, sans-serif\" font-size=\"12\" font-weight=\"bold\" id=\"SvgjsText1071\" size=\"12\" text-anchor=\"end\" weight=\"bold\" x=\"310\" y=\"345.40625\"><tspan dy=\"15.600000000000001\" id=\"SvgjsTspan1072\" x=\"310\">先手 福崎文吾 九段</tspan></text><text anchor=\"end\" font-family=\"Helvetica, Arial, sans-serif\" font-size=\"12\" font-weight=\"bold\" id=\"SvgjsText1073\" size=\"12\" text-anchor=\"end\" weight=\"bold\" x=\"310\" y=\"364\"><tspan dy=\"20.8\" id=\"SvgjsTspan1074\" x=\"310\"></tspan></text><text anchor=\"start\" font-family=\"Helvetica, Arial, sans-serif\" font-size=\"12\" font-weight=\"bold\" id=\"SvgjsText1075\" size=\"12\" text-anchor=\"start\" weight=\"bold\" x=\"10\" y=\"10.739583333333332\"><tspan dy=\"15.600000000000001\" id=\"SvgjsTspan1076\" x=\"10\">後手 佐藤紳哉 七段</tspan></text><text anchor=\"start\" font-family=\"Helvetica, Arial, sans-serif\" font-size=\"12\" font-weight=\"bold\" id=\"SvgjsText1077\" size=\"12\" text-anchor=\"start\" weight=\"bold\" x=\"10\" y=\"1.3333333333333321\"><tspan dy=\"20.8\" id=\"SvgjsTspan1078\" x=\"10\"></tspan></text><text anchor=\"start\" font-family=\"Helvetica, Arial, sans-serif\" font-size=\"12\" font-weight=\"bold\" id=\"SvgjsText1079\" size=\"12\" text-anchor=\"start\" weight=\"bold\" x=\"10\" y=\"357.40625\"><tspan dy=\"15.600000000000001\" id=\"SvgjsTspan1080\" x=\"10\">評価値 -</tspan></text><text anchor=\"end\" font-family=\"Helvetica, Arial, sans-serif\" font-size=\"12\" font-weight=\"bold\" id=\"SvgjsText1081\" size=\"12\" text-anchor=\"end\" weight=\"bold\" x=\"310\" y=\"-3.260416666666668\"><tspan dy=\"15.600000000000001\" id=\"SvgjsTspan1082\" x=\"310\">評価値 -</tspan></text><g id=\"SvgjsG1083\" transform=\"matrix(-1,1.2246467991473532e-16,-1.2246467991473532e-16,-1,310.00000000000006,73.33333333333334)\"><rect fill=\"transparent\" height=\"33.333333333333336\" id=\"SvgjsRect1084\" width=\"33.333333333333336\"></rect><text anchor=\"middle\" fill=\"#000000\" font-family=\"Helvetica, Arial, sans-serif\" font-size=\"24\" id=\"SvgjsText1085\" size=\"24\" text-anchor=\"middle\" transform=\"matrix(1,0,0,1,16.666666666666668,-4.666666666666668)\"><tspan dy=\"31.200000000000003\" id=\"SvgjsTspan1086\" x=\"0\">香</tspan></text></g><g id=\"SvgjsG1087\" transform=\"matrix(1,0,0,1,276.6666666666667,73.33333333333334)\"><rect fill=\"transparent\" height=\"33.333333333333336\" id=\"SvgjsRect1088\" width=\"33.333333333333336\"></rect><text anchor=\"middle\" fill=\"#000000\" font-family=\"Helvetica, Arial, sans-serif\" font-size=\"24\" id=\"SvgjsText1089\" size=\"24\" text-anchor=\"middle\" transform=\"matrix(1,0,0,1,16.666666666666668,-4.666666666666668)\"><tspan dy=\"31.200000000000003\" id=\"SvgjsTspan1090\" x=\"0\">　</tspan></text></g><g id=\"SvgjsG1091\" transform=\"matrix(-1,1.2246467991473532e-16,-1.2246467991473532e-16,-1,310.00000000000006,140)\"><rect fill=\"transparent\" height=\"33.333333333333336\" id=\"SvgjsRect1092\" width=\"33.333333333333336\"></rect><text anchor=\"middle\" fill=\"#000000\" font-family=\"Helvetica, Arial, sans-serif\" font-size=\"24\" id=\"SvgjsText1093\" size=\"24\" text-anchor=\"middle\" transform=\"matrix(1,0,0,1,16.666666666666668,-4.666666666666668)\"><tspan dy=\"31.200000000000003\" id=\"SvgjsTspan1094\" x=\"0\">歩</tspan></text></g><g id=\"SvgjsG1095\" transform=\"matrix(1,0,0,1,276.6666666666667,140)\"><rect fill=\"transparent\" height=\"33.333333333333336\" id=\"SvgjsRect1096\" width=\"33.333333333333336\"></rect><text anchor=\"middle\" fill=\"#000000\" font-family=\"Helvetica, Arial, sans-serif\" font-size=\"24\" id=\"SvgjsText1097\" size=\"24\" text-anchor=\"middle\" transform=\"matrix(1,0,0,1,16.666666666666668,-4.666666666666668)\"><tspan dy=\"31.200000000000003\" id=\"SvgjsTspan1098\" x=\"0\">　</tspan></text></g><g id=\"SvgjsG1099\" transform=\"matrix(1,0,0,1,276.6666666666667,173.33333333333334)\"><rect fill=\"transparent\" height=\"33.333333333333336\" id=\"SvgjsRect1100\" width=\"33.333333333333336\"></rect><text anchor=\"middle\" fill=\"#000000\" font-family=\"Helvetica, Arial, sans-serif\" font-size=\"24\" id=\"SvgjsText1101\" size=\"24\" text-anchor=\"middle\" transform=\"matrix(1,0,0,1,16.666666666666668,-4.666666666666668)\"><tspan dy=\"31.200000000000003\" id=\"SvgjsTspan1102\" x=\"0\">　</tspan></text></g><g id=\"SvgjsG1103\" transform=\"matrix(1,0,0,1,276.6666666666667,206.66666666666669)\"><rect fill=\"transparent\" height=\"33.333333333333336\" id=\"SvgjsRect1104\" width=\"33.333333333333336\"></rect><text anchor=\"middle\" fill=\"#000000\" font-family=\"Helvetica, Arial, sans-serif\" font-size=\"24\" id=\"SvgjsText1105\" size=\"24\" text-anchor=\"middle\" transform=\"matrix(1,0,0,1,16.666666666666668,-4.666666666666668)\"><tspan dy=\"31.200000000000003\" id=\"SvgjsTspan1106\" x=\"0\">　</tspan></text></g><g id=\"SvgjsG1107\" transform=\"matrix(1,0,0,1,276.6666666666667,240.00000000000003)\"><rect fill=\"transparent\" height=\"33.333333333333336\" id=\"SvgjsRect1108\" width=\"33.333333333333336\"></rect><text anchor=\"middle\" fill=\"#000000\" font-family=\"Helvetica, Arial, sans-serif\" font-size=\"24\" id=\"SvgjsText1109\" size=\"24\" text-anchor=\"middle\" transform=\"matrix(1,0,0,1,16.666666666666668,-4.666666666666668)\"><tspan dy=\"31.200000000000003\" id=\"SvgjsTspan1110\" x=\"0\">歩</tspan></text></g><g id=\"SvgjsG1111\" transform=\"matrix(1,0,0,1,276.6666666666667,273.33333333333337)\"><rect fill=\"transparent\" height=\"33.333333333333336\" id=\"SvgjsRect1112\" width=\"33.333333333333336\"></rect><text anchor=\"middle\" fill=\"#000000\" font-family=\"Helvetica, Arial, sans-serif\" font-size=\"24\" id=\"SvgjsText1113\" size=\"24\" text-anchor=\"middle\" transform=\"matrix(1,0,0,1,16.666666666666668,-4.666666666666668)\"><tspan dy=\"31.200000000000003\" id=\"SvgjsTspan1114\" x=\"0\">　</tspan></text></g><g id=\"SvgjsG1115\" transform=\"matrix(1,0,0,1,276.6666666666667,306.6666666666667)\"><rect fill=\"transparent\" height=\"33.333333333333336\" id=\"SvgjsRect1116\" width=\"33.333333333333336\"></rect><text anchor=\"middle\" fill=\"#000000\" font-family=\"Helvetica, Arial, sans-serif\" font-size=\"24\" id=\"SvgjsText1117\" size=\"24\" text-anchor=\"middle\" transform=\"matrix(1,0,0,1,16.666666666666668,-4.666666666666668)\"><tspan dy=\"31.200000000000003\" id=\"SvgjsTspan1118\" x=\"0\">香</tspan></text></g><g id=\"SvgjsG1119\" transform=\"matrix(-1,1.2246467991473532e-16,-1.2246467991473532e-16,-1,276.6666666666667,73.33333333333334)\"><rect fill=\"transparent\" height=\"33.333333333333336\" id=\"SvgjsRect1120\" width=\"33.333333333333336\"></rect><text anchor=\"middle\" fill=\"#000000\" font-family=\"Helvetica, Arial, sans-serif\" font-size=\"24\" id=\"SvgjsText1121\" size=\"24\" text-anchor=\"middle\" transform=\"matrix(1,0,0,1,16.666666666666668,-4.666666666666668)\"><tspan dy=\"31.200000000000003\" id=\"SvgjsTspan1122\" x=\"0\">桂</tspan></text></g><g id=\"SvgjsG1123\" transform=\"matrix(-1,1.2246467991473532e-16,-1.2246467991473532e-16,-1,276.6666666666667,106.66666666666669)\"><rect fill=\"transparent\" height=\"33.333333333333336\" id=\"SvgjsRect1124\" width=\"33.333333333333336\"></rect><text anchor=\"middle\" fill=\"#000000\" font-family=\"Helvetica, Arial, sans-serif\" font-size=\"24\" id=\"SvgjsText1125\" size=\"24\" text-anchor=\"middle\" transform=\"matrix(1,0,0,1,16.666666666666668,-4.666666666666668)\"><tspan dy=\"31.200000000000003\" id=\"SvgjsTspan1126\" x=\"0\">角</tspan></text></g><g id=\"SvgjsG1127\" transform=\"matrix(-1,1.2246467991473532e-16,-1.2246467991473532e-16,-1,276.6666666666667,140)\"><rect fill=\"transparent\" height=\"33.333333333333336\" id=\"SvgjsRect1128\" width=\"33.333333333333336\"></rect><text anchor=\"middle\" fill=\"#000000\" font-family=\"Helvetica, Arial, sans-serif\" font-size=\"24\" id=\"SvgjsText1129\" size=\"24\" text-anchor=\"middle\" transform=\"matrix(1,0,0,1,16.666666666666668,-4.666666666666668)\"><tspan dy=\"31.200000000000003\" id=\"SvgjsTspan1130\" x=\"0\">歩</tspan></text></g><g id=\"SvgjsG1131\" transform=\"matrix(1,0,0,1,243.33333333333334,140)\"><rect fill=\"transparent\" height=\"33.333333333333336\" id=\"SvgjsRect1132\" width=\"33.333333333333336\"></rect><text anchor=\"middle\" fill=\"#000000\" font-family=\"Helvetica, Arial, sans-serif\" font-size=\"24\" id=\"SvgjsText1133\" size=\"24\" text-anchor=\"middle\" transform=\"matrix(1,0,0,1,16.666666666666668,-4.666666666666668)\"><tspan dy=\"31.200000000000003\" id=\"SvgjsTspan1134\" x=\"0\">　</tspan></text></g><g id=\"SvgjsG1135\" transform=\"matrix(1,0,0,1,243.33333333333334,173.33333333333334)\"><rect fill=\"transparent\" height=\"33.333333333333336\" id=\"SvgjsRect1136\" width=\"33.333333333333336\"></rect><text anchor=\"middle\" fill=\"#000000\" font-family=\"Helvetica, Arial, sans-serif\" font-size=\"24\" id=\"SvgjsText1137\" size=\"24\" text-anchor=\"middle\" transform=\"matrix(1,0,0,1,16.666666666666668,-4.666666666666668)\"><tspan dy=\"31.200000000000003\" id=\"SvgjsTspan1138\" x=\"0\">　</tspan></text></g><g id=\"SvgjsG1139\" transform=\"matrix(1,0,0,1,243.33333333333334,206.66666666666669)\"><rect fill=\"transparent\" height=\"33.333333333333336\" id=\"SvgjsRect1140\" width=\"33.333333333333336\"></rect><text anchor=\"middle\" fill=\"#000000\" font-family=\"Helvetica, Arial, sans-serif\" font-size=\"24\" id=\"SvgjsText1141\" size=\"24\" text-anchor=\"middle\" transform=\"matrix(1,0,0,1,16.666666666666668,-4.666666666666668)\"><tspan dy=\"31.200000000000003\" id=\"SvgjsTspan1142\" x=\"0\">　</tspan></text></g><g id=\"SvgjsG1143\" transform=\"matrix(1,0,0,1,243.33333333333334,240.00000000000003)\"><rect fill=\"transparent\" height=\"33.333333333333336\" id=\"SvgjsRect1144\" width=\"33.333333333333336\"></rect><text anchor=\"middle\" fill=\"#000000\" font-family=\"Helvetica, Arial, sans-serif\" font-size=\"24\" id=\"SvgjsText1145\" size=\"24\" text-anchor=\"middle\" transform=\"matrix(1,0,0,1,16.666666666666668,-4.666666666666668)\"><tspan dy=\"31.200000000000003\" id=\"SvgjsTspan1146\" x=\"0\">歩</tspan></text></g><g id=\"SvgjsG1147\" transform=\"matrix(1,0,0,1,243.33333333333334,273.33333333333337)\"><rect fill=\"transparent\" height=\"33.333333333333336\" id=\"SvgjsRect1148\" width=\"33.333333333333336\"></rect><text anchor=\"middle\" fill=\"#000000\" font-family=\"Helvetica, Arial, sans-serif\" font-size=\"24\" id=\"SvgjsText1149\" size=\"24\" text-anchor=\"middle\" transform=\"matrix(1,0,0,1,16.666666666666668,-4.666666666666668)\"><tspan dy=\"31.200000000000003\" id=\"SvgjsTspan1150\" x=\"0\">飛</tspan></text></g><g id=\"SvgjsG1151\" transform=\"matrix(1,0,0,1,243.33333333333334,306.6666666666667)\"><rect fill=\"transparent\" height=\"33.333333333333336\" id=\"SvgjsRect1152\" width=\"33.333333333333336\"></rect><text anchor=\"middle\" fill=\"#000000\" font-family=\"Helvetica, Arial, sans-serif\" font-size=\"24\" id=\"SvgjsText1153\" size=\"24\" text-anchor=\"middle\" transform=\"matrix(1,0,0,1,16.666666666666668,-4.666666666666668)\"><tspan dy=\"31.200000000000003\" id=\"SvgjsTspan1154\" x=\"0\">桂</tspan></text></g><g id=\"SvgjsG1155\" transform=\"matrix(-1,1.2246467991473532e-16,-1.2246467991473532e-16,-1,243.33333333333331,73.33333333333334)\"><rect fill=\"transparent\" height=\"33.333333333333336\" id=\"SvgjsRect1156\" width=\"33.333333333333336\"></rect><text anchor=\"middle\" fill=\"#000000\" font-family=\"Helvetica, Arial, sans-serif\" font-size=\"24\" id=\"SvgjsText1157\" size=\"24\" text-anchor=\"middle\" transform=\"matrix(1,0,0,1,16.666666666666668,-4.666666666666668)\"><tspan dy=\"31.200000000000003\" id=\"SvgjsTspan1158\" x=\"0\">銀</tspan></text></g><g id=\"SvgjsG1159\" transform=\"matrix(1,0,0,1,210,73.33333333333334)\"><rect fill=\"transparent\" height=\"33.333333333333336\" id=\"SvgjsRect1160\" width=\"33.333333333333336\"></rect><text anchor=\"middle\" fill=\"#000000\" font-family=\"Helvetica, Arial, sans-serif\" font-size=\"24\" id=\"SvgjsText1161\" size=\"24\" text-anchor=\"middle\" transform=\"matrix(1,0,0,1,16.666666666666668,-4.666666666666668)\"><tspan dy=\"31.200000000000003\" id=\"SvgjsTspan1162\" x=\"0\">　</tspan></text></g><g id=\"SvgjsG1163\" transform=\"matrix(-1,1.2246467991473532e-16,-1.2246467991473532e-16,-1,243.33333333333331,140)\"><rect fill=\"transparent\" height=\"33.333333333333336\" id=\"SvgjsRect1164\" width=\"33.333333333333336\"></rect><text anchor=\"middle\" fill=\"#000000\" font-family=\"Helvetica, Arial, sans-serif\" font-size=\"24\" id=\"SvgjsText1165\" size=\"24\" text-anchor=\"middle\" transform=\"matrix(1,0,0,1,16.666666666666668,-4.666666666666668)\"><tspan dy=\"31.200000000000003\" id=\"SvgjsTspan1166\" x=\"0\">歩</tspan></text></g><g id=\"SvgjsG1167\" transform=\"matrix(1,0,0,1,210,140)\"><rect fill=\"transparent\" height=\"33.333333333333336\" id=\"SvgjsRect1168\" width=\"33.333333333333336\"></rect><text anchor=\"middle\" fill=\"#000000\" font-family=\"Helvetica, Arial, sans-serif\" font-size=\"24\" id=\"SvgjsText1169\" size=\"24\" text-anchor=\"middle\" transform=\"matrix(1,0,0,1,16.666666666666668,-4.666666666666668)\"><tspan dy=\"31.200000000000003\" id=\"SvgjsTspan1170\" x=\"0\">　</tspan></text></g><g id=\"SvgjsG1171\" transform=\"matrix(1,0,0,1,210,173.33333333333334)\"><rect fill=\"transparent\" height=\"33.333333333333336\" id=\"SvgjsRect1172\" width=\"33.333333333333336\"></rect><text anchor=\"middle\" fill=\"#000000\" font-family=\"Helvetica, Arial, sans-serif\" font-size=\"24\" id=\"SvgjsText1173\" size=\"24\" text-anchor=\"middle\" transform=\"matrix(1,0,0,1,16.666666666666668,-4.666666666666668)\"><tspan dy=\"31.200000000000003\" id=\"SvgjsTspan1174\" x=\"0\">　</tspan></text></g><g id=\"SvgjsG1175\" transform=\"matrix(1,0,0,1,210,206.66666666666669)\"><rect fill=\"transparent\" height=\"33.333333333333336\" id=\"SvgjsRect1176\" width=\"33.333333333333336\"></rect><text anchor=\"middle\" fill=\"#000000\" font-family=\"Helvetica, Arial, sans-serif\" font-size=\"24\" id=\"SvgjsText1177\" size=\"24\" text-anchor=\"middle\" transform=\"matrix(1,0,0,1,16.666666666666668,-4.666666666666668)\"><tspan dy=\"31.200000000000003\" id=\"SvgjsTspan1178\" x=\"0\">　</tspan></text></g><g id=\"SvgjsG1179\" transform=\"matrix(1,0,0,1,210,240.00000000000003)\"><rect fill=\"transparent\" height=\"33.333333333333336\" id=\"SvgjsRect1180\" width=\"33.333333333333336\"></rect><text anchor=\"middle\" fill=\"#000000\" font-family=\"Helvetica, Arial, sans-serif\" font-size=\"24\" id=\"SvgjsText1181\" size=\"24\" text-anchor=\"middle\" transform=\"matrix(1,0,0,1,16.666666666666668,-4.666666666666668)\"><tspan dy=\"31.200000000000003\" id=\"SvgjsTspan1182\" x=\"0\">歩</tspan></text></g><g id=\"SvgjsG1183\" transform=\"matrix(1,0,0,1,210,273.33333333333337)\"><rect fill=\"transparent\" height=\"33.333333333333336\" id=\"SvgjsRect1184\" width=\"33.333333333333336\"></rect><text anchor=\"middle\" fill=\"#000000\" font-family=\"Helvetica, Arial, sans-serif\" font-size=\"24\" id=\"SvgjsText1185\" size=\"24\" text-anchor=\"middle\" transform=\"matrix(1,0,0,1,16.666666666666668,-4.666666666666668)\"><tspan dy=\"31.200000000000003\" id=\"SvgjsTspan1186\" x=\"0\">　</tspan></text></g><g id=\"SvgjsG1187\" transform=\"matrix(1,0,0,1,210,306.6666666666667)\"><rect fill=\"transparent\" height=\"33.333333333333336\" id=\"SvgjsRect1188\" width=\"33.333333333333336\"></rect><text anchor=\"middle\" fill=\"#000000\" font-family=\"Helvetica, Arial, sans-serif\" font-size=\"24\" id=\"SvgjsText1189\" size=\"24\" text-anchor=\"middle\" transform=\"matrix(1,0,0,1,16.666666666666668,-4.666666666666668)\"><tspan dy=\"31.200000000000003\" id=\"SvgjsTspan1190\" x=\"0\">銀</tspan></text></g><g id=\"SvgjsG1191\" transform=\"matrix(-1,1.2246467991473532e-16,-1.2246467991473532e-16,-1,210,73.33333333333334)\"><rect fill=\"transparent\" height=\"33.333333333333336\" id=\"SvgjsRect1192\" width=\"33.333333333333336\"></rect><text anchor=\"middle\" fill=\"#000000\" font-family=\"Helvetica, Arial, sans-serif\" font-size=\"24\" id=\"SvgjsText1193\" size=\"24\" text-anchor=\"middle\" transform=\"matrix(1,0,0,1,16.666666666666668,-4.666666666666668)\"><tspan dy=\"31.200000000000003\" id=\"SvgjsTspan1194\" x=\"0\">金</tspan></text></g><g id=\"SvgjsG1195\" transform=\"matrix(1,0,0,1,176.66666666666669,73.33333333333334)\"><rect fill=\"transparent\" height=\"33.333333333333336\" id=\"SvgjsRect1196\" width=\"33.333333333333336\"></rect><text anchor=\"middle\" fill=\"#000000\" font-family=\"Helvetica, Arial, sans-serif\" font-size=\"24\" id=\"SvgjsText1197\" size=\"24\" text-anchor=\"middle\" transform=\"matrix(1,0,0,1,16.666666666666668,-4.666666666666668)\"><tspan dy=\"31.200000000000003\" id=\"SvgjsTspan1198\" x=\"0\">　</tspan></text></g><g id=\"SvgjsG1199\" transform=\"matrix(-1,1.2246467991473532e-16,-1.2246467991473532e-16,-1,210,140)\"><rect fill=\"transparent\" height=\"33.333333333333336\" id=\"SvgjsRect1200\" width=\"33.333333333333336\"></rect><text anchor=\"middle\" fill=\"#000000\" font-family=\"Helvetica, Arial, sans-serif\" font-size=\"24\" id=\"SvgjsText1201\" size=\"24\" text-anchor=\"middle\" transform=\"matrix(1,0,0,1,16.666666666666668,-4.666666666666668)\"><tspan dy=\"31.200000000000003\" id=\"SvgjsTspan1202\" x=\"0\">歩</tspan></text></g><g id=\"SvgjsG1203\" transform=\"matrix(1,0,0,1,176.66666666666669,140)\"><rect fill=\"transparent\" height=\"33.333333333333336\" id=\"SvgjsRect1204\" width=\"33.333333333333336\"></rect><text anchor=\"middle\" fill=\"#000000\" font-family=\"Helvetica, Arial, sans-serif\" font-size=\"24\" id=\"SvgjsText1205\" size=\"24\" text-anchor=\"middle\" transform=\"matrix(1,0,0,1,16.666666666666668,-4.666666666666668)\"><tspan dy=\"31.200000000000003\" id=\"SvgjsTspan1206\" x=\"0\">　</tspan></text></g><g id=\"SvgjsG1207\" transform=\"matrix(1,0,0,1,176.66666666666669,173.33333333333334)\"><rect fill=\"transparent\" height=\"33.333333333333336\" id=\"SvgjsRect1208\" width=\"33.333333333333336\"></rect><text anchor=\"middle\" fill=\"#000000\" font-family=\"Helvetica, Arial, sans-serif\" font-size=\"24\" id=\"SvgjsText1209\" size=\"24\" text-anchor=\"middle\" transform=\"matrix(1,0,0,1,16.666666666666668,-4.666666666666668)\"><tspan dy=\"31.200000000000003\" id=\"SvgjsTspan1210\" x=\"0\">　</tspan></text></g><g id=\"SvgjsG1211\" transform=\"matrix(1,0,0,1,176.66666666666669,206.66666666666669)\"><rect fill=\"transparent\" height=\"33.333333333333336\" id=\"SvgjsRect1212\" width=\"33.333333333333336\"></rect><text anchor=\"middle\" fill=\"#000000\" font-family=\"Helvetica, Arial, sans-serif\" font-size=\"24\" id=\"SvgjsText1213\" size=\"24\" text-anchor=\"middle\" transform=\"matrix(1,0,0,1,16.666666666666668,-4.666666666666668)\"><tspan dy=\"31.200000000000003\" id=\"SvgjsTspan1214\" x=\"0\">　</tspan></text></g><g id=\"SvgjsG1215\" transform=\"matrix(1,0,0,1,176.66666666666669,240.00000000000003)\"><rect fill=\"transparent\" height=\"33.333333333333336\" id=\"SvgjsRect1216\" width=\"33.333333333333336\"></rect><text anchor=\"middle\" fill=\"#000000\" font-family=\"Helvetica, Arial, sans-serif\" font-size=\"24\" id=\"SvgjsText1217\" size=\"24\" text-anchor=\"middle\" transform=\"matrix(1,0,0,1,16.666666666666668,-4.666666666666668)\"><tspan dy=\"31.200000000000003\" id=\"SvgjsTspan1218\" x=\"0\">歩</tspan></text></g><g id=\"SvgjsG1219\" transform=\"matrix(1,0,0,1,176.66666666666669,273.33333333333337)\"><rect fill=\"transparent\" height=\"33.333333333333336\" id=\"SvgjsRect1220\" width=\"33.333333333333336\"></rect><text anchor=\"middle\" fill=\"#000000\" font-family=\"Helvetica, Arial, sans-serif\" font-size=\"24\" id=\"SvgjsText1221\" size=\"24\" text-anchor=\"middle\" transform=\"matrix(1,0,0,1,16.666666666666668,-4.666666666666668)\"><tspan dy=\"31.200000000000003\" id=\"SvgjsTspan1222\" x=\"0\">　</tspan></text></g><g id=\"SvgjsG1223\" transform=\"matrix(1,0,0,1,176.66666666666669,306.6666666666667)\"><rect fill=\"transparent\" height=\"33.333333333333336\" id=\"SvgjsRect1224\" width=\"33.333333333333336\"></rect><text anchor=\"middle\" fill=\"#000000\" font-family=\"Helvetica, Arial, sans-serif\" font-size=\"24\" id=\"SvgjsText1225\" size=\"24\" text-anchor=\"middle\" transform=\"matrix(1,0,0,1,16.666666666666668,-4.666666666666668)\"><tspan dy=\"31.200000000000003\" id=\"SvgjsTspan1226\" x=\"0\">金</tspan></text></g><g id=\"SvgjsG1227\" transform=\"matrix(-1,1.2246467991473532e-16,-1.2246467991473532e-16,-1,176.66666666666669,73.33333333333334)\"><rect fill=\"transparent\" height=\"33.333333333333336\" id=\"SvgjsRect1228\" width=\"33.333333333333336\"></rect><text anchor=\"middle\" fill=\"#000000\" font-family=\"Helvetica, Arial, sans-serif\" font-size=\"24\" id=\"SvgjsText1229\" size=\"24\" text-anchor=\"middle\" transform=\"matrix(1,0,0,1,16.666666666666668,-4.666666666666668)\"><tspan dy=\"31.200000000000003\" id=\"SvgjsTspan1230\" x=\"0\">王</tspan></text></g><g id=\"SvgjsG1231\" transform=\"matrix(1,0,0,1,143.33333333333334,73.33333333333334)\"><rect fill=\"transparent\" height=\"33.333333333333336\" id=\"SvgjsRect1232\" width=\"33.333333333333336\"></rect><text anchor=\"middle\" fill=\"#000000\" font-family=\"Helvetica, Arial, sans-serif\" font-size=\"24\" id=\"SvgjsText1233\" size=\"24\" text-anchor=\"middle\" transform=\"matrix(1,0,0,1,16.666666666666668,-4.666666666666668)\"><tspan dy=\"31.200000000000003\" id=\"SvgjsTspan1234\" x=\"0\">　</tspan></text></g><g id=\"SvgjsG1235\" transform=\"matrix(-1,1.2246467991473532e-16,-1.2246467991473532e-16,-1,176.66666666666669,140)\"><rect fill=\"transparent\" height=\"33.333333333333336\" id=\"SvgjsRect1236\" width=\"33.333333333333336\"></rect><text anchor=\"middle\" fill=\"#000000\" font-family=\"Helvetica, Arial, sans-serif\" font-size=\"24\" id=\"SvgjsText1237\" size=\"24\" text-anchor=\"middle\" transform=\"matrix(1,0,0,1,16.666666666666668,-4.666666666666668)\"><tspan dy=\"31.200000000000003\" id=\"SvgjsTspan1238\" x=\"0\">歩</tspan></text></g><g id=\"SvgjsG1239\" transform=\"matrix(1,0,0,1,143.33333333333334,140)\"><rect fill=\"transparent\" height=\"33.333333333333336\" id=\"SvgjsRect1240\" width=\"33.333333333333336\"></rect><text anchor=\"middle\" fill=\"#000000\" font-family=\"Helvetica, Arial, sans-serif\" font-size=\"24\" id=\"SvgjsText1241\" size=\"24\" text-anchor=\"middle\" transform=\"matrix(1,0,0,1,16.666666666666668,-4.666666666666668)\"><tspan dy=\"31.200000000000003\" id=\"SvgjsTspan1242\" x=\"0\">　</tspan></text></g><g id=\"SvgjsG1243\" transform=\"matrix(1,0,0,1,143.33333333333334,173.33333333333334)\"><rect fill=\"transparent\" height=\"33.333333333333336\" id=\"SvgjsRect1244\" width=\"33.333333333333336\"></rect><text anchor=\"middle\" fill=\"#000000\" font-family=\"Helvetica, Arial, sans-serif\" font-size=\"24\" id=\"SvgjsText1245\" size=\"24\" text-anchor=\"middle\" transform=\"matrix(1,0,0,1,16.666666666666668,-4.666666666666668)\"><tspan dy=\"31.200000000000003\" id=\"SvgjsTspan1246\" x=\"0\">　</tspan></text></g><g id=\"SvgjsG1247\" transform=\"matrix(1,0,0,1,143.33333333333334,206.66666666666669)\"><rect fill=\"transparent\" height=\"33.333333333333336\" id=\"SvgjsRect1248\" width=\"33.333333333333336\"></rect><text anchor=\"middle\" fill=\"#000000\" font-family=\"Helvetica, Arial, sans-serif\" font-size=\"24\" id=\"SvgjsText1249\" size=\"24\" text-anchor=\"middle\" transform=\"matrix(1,0,0,1,16.666666666666668,-4.666666666666668)\"><tspan dy=\"31.200000000000003\" id=\"SvgjsTspan1250\" x=\"0\">　</tspan></text></g><g id=\"SvgjsG1251\" transform=\"matrix(1,0,0,1,143.33333333333334,240.00000000000003)\"><rect fill=\"transparent\" height=\"33.333333333333336\" id=\"SvgjsRect1252\" width=\"33.333333333333336\"></rect><text anchor=\"middle\" fill=\"#000000\" font-family=\"Helvetica, Arial, sans-serif\" font-size=\"24\" id=\"SvgjsText1253\" size=\"24\" text-anchor=\"middle\" transform=\"matrix(1,0,0,1,16.666666666666668,-4.666666666666668)\"><tspan dy=\"31.200000000000003\" id=\"SvgjsTspan1254\" x=\"0\">歩</tspan></text></g><g id=\"SvgjsG1255\" transform=\"matrix(1,0,0,1,143.33333333333334,273.33333333333337)\"><rect fill=\"transparent\" height=\"33.333333333333336\" id=\"SvgjsRect1256\" width=\"33.333333333333336\"></rect><text anchor=\"middle\" fill=\"#000000\" font-family=\"Helvetica, Arial, sans-serif\" font-size=\"24\" id=\"SvgjsText1257\" size=\"24\" text-anchor=\"middle\" transform=\"matrix(1,0,0,1,16.666666666666668,-4.666666666666668)\"><tspan dy=\"31.200000000000003\" id=\"SvgjsTspan1258\" x=\"0\">　</tspan></text></g><g id=\"SvgjsG1259\" transform=\"matrix(1,0,0,1,143.33333333333334,306.6666666666667)\"><rect fill=\"transparent\" height=\"33.333333333333336\" id=\"SvgjsRect1260\" width=\"33.333333333333336\"></rect><text anchor=\"middle\" fill=\"#000000\" font-family=\"Helvetica, Arial, sans-serif\" font-size=\"24\" id=\"SvgjsText1261\" size=\"24\" text-anchor=\"middle\" transform=\"matrix(1,0,0,1,16.666666666666668,-4.666666666666668)\"><tspan dy=\"31.200000000000003\" id=\"SvgjsTspan1262\" x=\"0\">玉</tspan></text></g><g id=\"SvgjsG1263\" transform=\"matrix(-1,1.2246467991473532e-16,-1.2246467991473532e-16,-1,143.33333333333334,73.33333333333334)\"><rect fill=\"transparent\" height=\"33.333333333333336\" id=\"SvgjsRect1264\" width=\"33.333333333333336\"></rect><text anchor=\"middle\" fill=\"#000000\" font-family=\"Helvetica, Arial, sans-serif\" font-size=\"24\" id=\"SvgjsText1265\" size=\"24\" text-anchor=\"middle\" transform=\"matrix(1,0,0,1,16.666666666666668,-4.666666666666668)\"><tspan dy=\"31.200000000000003\" id=\"SvgjsTspan1266\" x=\"0\">金</tspan></text></g><g id=\"SvgjsG1267\" transform=\"matrix(1,0,0,1,110,73.33333333333334)\"><rect fill=\"transparent\" height=\"33.333333333333336\" id=\"SvgjsRect1268\" width=\"33.333333333333336\"></rect><text anchor=\"middle\" fill=\"#000000\" font-family=\"Helvetica, Arial, sans-serif\" font-size=\"24\" id=\"SvgjsText1269\" size=\"24\" text-anchor=\"middle\" transform=\"matrix(1,0,0,1,16.666666666666668,-4.666666666666668)\"><tspan dy=\"31.200000000000003\" id=\"SvgjsTspan1270\" x=\"0\">　</tspan></text></g><g id=\"SvgjsG1271\" transform=\"matrix(-1,1.2246467991473532e-16,-1.2246467991473532e-16,-1,143.33333333333334,140)\"><rect fill=\"transparent\" height=\"33.333333333333336\" id=\"SvgjsRect1272\" width=\"33.333333333333336\"></rect><text anchor=\"middle\" fill=\"#000000\" font-family=\"Helvetica, Arial, sans-serif\" font-size=\"24\" id=\"SvgjsText1273\" size=\"24\" text-anchor=\"middle\" transform=\"matrix(1,0,0,1,16.666666666666668,-4.666666666666668)\"><tspan dy=\"31.200000000000003\" id=\"SvgjsTspan1274\" x=\"0\">歩</tspan></text></g><g id=\"SvgjsG1275\" transform=\"matrix(1,0,0,1,110,140)\"><rect fill=\"transparent\" height=\"33.333333333333336\" id=\"SvgjsRect1276\" width=\"33.333333333333336\"></rect><text anchor=\"middle\" fill=\"#000000\" font-family=\"Helvetica, Arial, sans-serif\" font-size=\"24\" id=\"SvgjsText1277\" size=\"24\" text-anchor=\"middle\" transform=\"matrix(1,0,0,1,16.666666666666668,-4.666666666666668)\"><tspan dy=\"31.200000000000003\" id=\"SvgjsTspan1278\" x=\"0\">　</tspan></text></g><g id=\"SvgjsG1279\" transform=\"matrix(1,0,0,1,110,173.33333333333334)\"><rect fill=\"transparent\" height=\"33.333333333333336\" id=\"SvgjsRect1280\" width=\"33.333333333333336\"></rect><text anchor=\"middle\" fill=\"#000000\" font-family=\"Helvetica, Arial, sans-serif\" font-size=\"24\" id=\"SvgjsText1281\" size=\"24\" text-anchor=\"middle\" transform=\"matrix(1,0,0,1,16.666666666666668,-4.666666666666668)\"><tspan dy=\"31.200000000000003\" id=\"SvgjsTspan1282\" x=\"0\">　</tspan></text></g><g id=\"SvgjsG1283\" transform=\"matrix(1,0,0,1,110,206.66666666666669)\"><rect fill=\"transparent\" height=\"33.333333333333336\" id=\"SvgjsRect1284\" width=\"33.333333333333336\"></rect><text anchor=\"middle\" fill=\"#000000\" font-family=\"Helvetica, Arial, sans-serif\" font-size=\"24\" id=\"SvgjsText1285\" size=\"24\" text-anchor=\"middle\" transform=\"matrix(1,0,0,1,16.666666666666668,-4.666666666666668)\"><tspan dy=\"31.200000000000003\" id=\"SvgjsTspan1286\" x=\"0\">　</tspan></text></g><g id=\"SvgjsG1287\" transform=\"matrix(1,0,0,1,110,240.00000000000003)\"><rect fill=\"transparent\" height=\"33.333333333333336\" id=\"SvgjsRect1288\" width=\"33.333333333333336\"></rect><text anchor=\"middle\" fill=\"#000000\" font-family=\"Helvetica, Arial, sans-serif\" font-size=\"24\" id=\"SvgjsText1289\" size=\"24\" text-anchor=\"middle\" transform=\"matrix(1,0,0,1,16.666666666666668,-4.666666666666668)\"><tspan dy=\"31.200000000000003\" id=\"SvgjsTspan1290\" x=\"0\">歩</tspan></text></g><g id=\"SvgjsG1291\" transform=\"matrix(1,0,0,1,110,273.33333333333337)\"><rect fill=\"transparent\" height=\"33.333333333333336\" id=\"SvgjsRect1292\" width=\"33.333333333333336\"></rect><text anchor=\"middle\" fill=\"#000000\" font-family=\"Helvetica, Arial, sans-serif\" font-size=\"24\" id=\"SvgjsText1293\" size=\"24\" text-anchor=\"middle\" transform=\"matrix(1,0,0,1,16.666666666666668,-4.666666666666668)\"><tspan dy=\"31.200000000000003\" id=\"SvgjsTspan1294\" x=\"0\">　</tspan></text></g><g id=\"SvgjsG1295\" transform=\"matrix(1,0,0,1,110,306.6666666666667)\"><rect fill=\"transparent\" height=\"33.333333333333336\" id=\"SvgjsRect1296\" width=\"33.333333333333336\"></rect><text anchor=\"middle\" fill=\"#000000\" font-family=\"Helvetica, Arial, sans-serif\" font-size=\"24\" id=\"SvgjsText1297\" size=\"24\" text-anchor=\"middle\" transform=\"matrix(1,0,0,1,16.666666666666668,-4.666666666666668)\"><tspan dy=\"31.200000000000003\" id=\"SvgjsTspan1298\" x=\"0\">金</tspan></text></g><g id=\"SvgjsG1299\" transform=\"matrix(-1,1.2246467991473532e-16,-1.2246467991473532e-16,-1,110.00000000000001,73.33333333333334)\"><rect fill=\"transparent\" height=\"33.333333333333336\" id=\"SvgjsRect1300\" width=\"33.333333333333336\"></rect><text anchor=\"middle\" fill=\"#000000\" font-family=\"Helvetica, Arial, sans-serif\" font-size=\"24\" id=\"SvgjsText1301\" size=\"24\" text-anchor=\"middle\" transform=\"matrix(1,0,0,1,16.666666666666668,-4.666666666666668)\"><tspan dy=\"31.200000000000003\" id=\"SvgjsTspan1302\" x=\"0\">銀</tspan></text></g><g id=\"SvgjsG1303\" transform=\"matrix(1,0,0,1,76.66666666666667,73.33333333333334)\"><rect fill=\"transparent\" height=\"33.333333333333336\" id=\"SvgjsRect1304\" width=\"33.333333333333336\"></rect><text anchor=\"middle\" fill=\"#000000\" font-family=\"Helvetica, Arial, sans-serif\" font-size=\"24\" id=\"SvgjsText1305\" size=\"24\" text-anchor=\"middle\" transform=\"matrix(1,0,0,1,16.666666666666668,-4.666666666666668)\"><tspan dy=\"31.200000000000003\" id=\"SvgjsTspan1306\" x=\"0\">　</tspan></text></g><g id=\"SvgjsG1307\" transform=\"matrix(-1,1.2246467991473532e-16,-1.2246467991473532e-16,-1,110.00000000000001,140)\"><rect fill=\"transparent\" height=\"33.333333333333336\" id=\"SvgjsRect1308\" width=\"33.333333333333336\"></rect><text anchor=\"middle\" fill=\"#000000\" font-family=\"Helvetica, Arial, sans-serif\" font-size=\"24\" id=\"SvgjsText1309\" size=\"24\" text-anchor=\"middle\" transform=\"matrix(1,0,0,1,16.666666666666668,-4.666666666666668)\"><tspan dy=\"31.200000000000003\" id=\"SvgjsTspan1310\" x=\"0\">歩</tspan></text></g><g id=\"SvgjsG1311\" transform=\"matrix(1,0,0,1,76.66666666666667,140)\"><rect fill=\"transparent\" height=\"33.333333333333336\" id=\"SvgjsRect1312\" width=\"33.333333333333336\"></rect><text anchor=\"middle\" fill=\"#000000\" font-family=\"Helvetica, Arial, sans-serif\" font-size=\"24\" id=\"SvgjsText1313\" size=\"24\" text-anchor=\"middle\" transform=\"matrix(1,0,0,1,16.666666666666668,-4.666666666666668)\"><tspan dy=\"31.200000000000003\" id=\"SvgjsTspan1314\" x=\"0\">　</tspan></text></g><g id=\"SvgjsG1315\" transform=\"matrix(1,0,0,1,76.66666666666667,173.33333333333334)\"><rect fill=\"transparent\" height=\"33.333333333333336\" id=\"SvgjsRect1316\" width=\"33.333333333333336\"></rect><text anchor=\"middle\" fill=\"#000000\" font-family=\"Helvetica, Arial, sans-serif\" font-size=\"24\" id=\"SvgjsText1317\" size=\"24\" text-anchor=\"middle\" transform=\"matrix(1,0,0,1,16.666666666666668,-4.666666666666668)\"><tspan dy=\"31.200000000000003\" id=\"SvgjsTspan1318\" x=\"0\">　</tspan></text></g><g id=\"SvgjsG1319\" transform=\"matrix(1,0,0,1,76.66666666666667,206.66666666666669)\"><rect fill=\"transparent\" height=\"33.333333333333336\" id=\"SvgjsRect1320\" width=\"33.333333333333336\"></rect><text anchor=\"middle\" fill=\"#000000\" font-family=\"Helvetica, Arial, sans-serif\" font-size=\"24\" id=\"SvgjsText1321\" size=\"24\" text-anchor=\"middle\" transform=\"matrix(1,0,0,1,16.666666666666668,-4.666666666666668)\"><tspan dy=\"31.200000000000003\" id=\"SvgjsTspan1322\" x=\"0\">　</tspan></text></g><g id=\"SvgjsG1323\" transform=\"matrix(1,0,0,1,76.66666666666667,240.00000000000003)\"><rect fill=\"transparent\" height=\"33.333333333333336\" id=\"SvgjsRect1324\" width=\"33.333333333333336\"></rect><text anchor=\"middle\" fill=\"#000000\" font-family=\"Helvetica, Arial, sans-serif\" font-size=\"24\" id=\"SvgjsText1325\" size=\"24\" text-anchor=\"middle\" transform=\"matrix(1,0,0,1,16.666666666666668,-4.666666666666668)\"><tspan dy=\"31.200000000000003\" id=\"SvgjsTspan1326\" x=\"0\">歩</tspan></text></g><g id=\"SvgjsG1327\" transform=\"matrix(1,0,0,1,76.66666666666667,273.33333333333337)\"><rect fill=\"transparent\" height=\"33.333333333333336\" id=\"SvgjsRect1328\" width=\"33.333333333333336\"></rect><text anchor=\"middle\" fill=\"#000000\" font-family=\"Helvetica, Arial, sans-serif\" font-size=\"24\" id=\"SvgjsText1329\" size=\"24\" text-anchor=\"middle\" transform=\"matrix(1,0,0,1,16.666666666666668,-4.666666666666668)\"><tspan dy=\"31.200000000000003\" id=\"SvgjsTspan1330\" x=\"0\">　</tspan></text></g><g id=\"SvgjsG1331\" transform=\"matrix(1,0,0,1,76.66666666666667,306.6666666666667)\"><rect fill=\"transparent\" height=\"33.333333333333336\" id=\"SvgjsRect1332\" width=\"33.333333333333336\"></rect><text anchor=\"middle\" fill=\"#000000\" font-family=\"Helvetica, Arial, sans-serif\" font-size=\"24\" id=\"SvgjsText1333\" size=\"24\" text-anchor=\"middle\" transform=\"matrix(1,0,0,1,16.666666666666668,-4.666666666666668)\"><tspan dy=\"31.200000000000003\" id=\"SvgjsTspan1334\" x=\"0\">銀</tspan></text></g><g id=\"SvgjsG1335\" transform=\"matrix(-1,1.2246467991473532e-16,-1.2246467991473532e-16,-1,76.66666666666667,73.33333333333334)\"><rect fill=\"transparent\" height=\"33.333333333333336\" id=\"SvgjsRect1336\" width=\"33.333333333333336\"></rect><text anchor=\"middle\" fill=\"#000000\" font-family=\"Helvetica, Arial, sans-serif\" font-size=\"24\" id=\"SvgjsText1337\" size=\"24\" text-anchor=\"middle\" transform=\"matrix(1,0,0,1,16.666666666666668,-4.666666666666668)\"><tspan dy=\"31.200000000000003\" id=\"SvgjsTspan1338\" x=\"0\">桂</tspan></text></g><g id=\"SvgjsG1339\" transform=\"matrix(-1,1.2246467991473532e-16,-1.2246467991473532e-16,-1,76.66666666666667,106.66666666666669)\"><rect fill=\"transparent\" height=\"33.333333333333336\" id=\"SvgjsRect1340\" width=\"33.333333333333336\"></rect><text anchor=\"middle\" fill=\"#000000\" font-family=\"Helvetica, Arial, sans-serif\" font-size=\"24\" id=\"SvgjsText1341\" size=\"24\" text-anchor=\"middle\" transform=\"matrix(1,0,0,1,16.666666666666668,-4.666666666666668)\"><tspan dy=\"31.200000000000003\" id=\"SvgjsTspan1342\" x=\"0\">飛</tspan></text></g><g id=\"SvgjsG1343\" transform=\"matrix(-1,1.2246467991473532e-16,-1.2246467991473532e-16,-1,76.66666666666667,140)\"><rect fill=\"transparent\" height=\"33.333333333333336\" id=\"SvgjsRect1344\" width=\"33.333333333333336\"></rect><text anchor=\"middle\" fill=\"#000000\" font-family=\"Helvetica, Arial, sans-serif\" font-size=\"24\" id=\"SvgjsText1345\" size=\"24\" text-anchor=\"middle\" transform=\"matrix(1,0,0,1,16.666666666666668,-4.666666666666668)\"><tspan dy=\"31.200000000000003\" id=\"SvgjsTspan1346\" x=\"0\">歩</tspan></text></g><g id=\"SvgjsG1347\" transform=\"matrix(1,0,0,1,43.33333333333333,140)\"><rect fill=\"transparent\" height=\"33.333333333333336\" id=\"SvgjsRect1348\" width=\"33.333333333333336\"></rect><text anchor=\"middle\" fill=\"#000000\" font-family=\"Helvetica, Arial, sans-serif\" font-size=\"24\" id=\"SvgjsText1349\" size=\"24\" text-anchor=\"middle\" transform=\"matrix(1,0,0,1,16.666666666666668,-4.666666666666668)\"><tspan dy=\"31.200000000000003\" id=\"SvgjsTspan1350\" x=\"0\">　</tspan></text></g><g id=\"SvgjsG1351\" transform=\"matrix(1,0,0,1,43.33333333333333,173.33333333333334)\"><rect fill=\"transparent\" height=\"33.333333333333336\" id=\"SvgjsRect1352\" width=\"33.333333333333336\"></rect><text anchor=\"middle\" fill=\"#000000\" font-family=\"Helvetica, Arial, sans-serif\" font-size=\"24\" id=\"SvgjsText1353\" size=\"24\" text-anchor=\"middle\" transform=\"matrix(1,0,0,1,16.666666666666668,-4.666666666666668)\"><tspan dy=\"31.200000000000003\" id=\"SvgjsTspan1354\" x=\"0\">　</tspan></text></g><g id=\"SvgjsG1355\" transform=\"matrix(1,0,0,1,43.33333333333333,206.66666666666669)\"><rect fill=\"transparent\" height=\"33.333333333333336\" id=\"SvgjsRect1356\" width=\"33.333333333333336\"></rect><text anchor=\"middle\" fill=\"#000000\" font-family=\"Helvetica, Arial, sans-serif\" font-size=\"24\" id=\"SvgjsText1357\" size=\"24\" text-anchor=\"middle\" transform=\"matrix(1,0,0,1,16.666666666666668,-4.666666666666668)\"><tspan dy=\"31.200000000000003\" id=\"SvgjsTspan1358\" x=\"0\">　</tspan></text></g><g id=\"SvgjsG1359\" transform=\"matrix(1,0,0,1,43.33333333333333,240.00000000000003)\"><rect fill=\"transparent\" height=\"33.333333333333336\" id=\"SvgjsRect1360\" width=\"33.333333333333336\"></rect><text anchor=\"middle\" fill=\"#000000\" font-family=\"Helvetica, Arial, sans-serif\" font-size=\"24\" id=\"SvgjsText1361\" size=\"24\" text-anchor=\"middle\" transform=\"matrix(1,0,0,1,16.666666666666668,-4.666666666666668)\"><tspan dy=\"31.200000000000003\" id=\"SvgjsTspan1362\" x=\"0\">歩</tspan></text></g><g id=\"SvgjsG1363\" transform=\"matrix(1,0,0,1,43.33333333333333,273.33333333333337)\"><rect fill=\"transparent\" height=\"33.333333333333336\" id=\"SvgjsRect1364\" width=\"33.333333333333336\"></rect><text anchor=\"middle\" fill=\"#000000\" font-family=\"Helvetica, Arial, sans-serif\" font-size=\"24\" id=\"SvgjsText1365\" size=\"24\" text-anchor=\"middle\" transform=\"matrix(1,0,0,1,16.666666666666668,-4.666666666666668)\"><tspan dy=\"31.200000000000003\" id=\"SvgjsTspan1366\" x=\"0\">角</tspan></text></g><g id=\"SvgjsG1367\" transform=\"matrix(1,0,0,1,43.33333333333333,306.6666666666667)\"><rect fill=\"transparent\" height=\"33.333333333333336\" id=\"SvgjsRect1368\" width=\"33.333333333333336\"></rect><text anchor=\"middle\" fill=\"#000000\" font-family=\"Helvetica, Arial, sans-serif\" font-size=\"24\" id=\"SvgjsText1369\" size=\"24\" text-anchor=\"middle\" transform=\"matrix(1,0,0,1,16.666666666666668,-4.666666666666668)\"><tspan dy=\"31.200000000000003\" id=\"SvgjsTspan1370\" x=\"0\">桂</tspan></text></g><g id=\"SvgjsG1371\" transform=\"matrix(-1,1.2246467991473532e-16,-1.2246467991473532e-16,-1,43.33333333333334,73.33333333333334)\"><rect fill=\"transparent\" height=\"33.333333333333336\" id=\"SvgjsRect1372\" width=\"33.333333333333336\"></rect><text anchor=\"middle\" fill=\"#000000\" font-family=\"Helvetica, Arial, sans-serif\" font-size=\"24\" id=\"SvgjsText1373\" size=\"24\" text-anchor=\"middle\" transform=\"matrix(1,0,0,1,16.666666666666668,-4.666666666666668)\"><tspan dy=\"31.200000000000003\" id=\"SvgjsTspan1374\" x=\"0\">香</tspan></text></g><g id=\"SvgjsG1375\" transform=\"matrix(1,0,0,1,10,73.33333333333334)\"><rect fill=\"transparent\" height=\"33.333333333333336\" id=\"SvgjsRect1376\" width=\"33.333333333333336\"></rect><text anchor=\"middle\" fill=\"#000000\" font-family=\"Helvetica, Arial, sans-serif\" font-size=\"24\" id=\"SvgjsText1377\" size=\"24\" text-anchor=\"middle\" transform=\"matrix(1,0,0,1,16.666666666666668,-4.666666666666668)\"><tspan dy=\"31.200000000000003\" id=\"SvgjsTspan1378\" x=\"0\">　</tspan></text></g><g id=\"SvgjsG1379\" transform=\"matrix(-1,1.2246467991473532e-16,-1.2246467991473532e-16,-1,43.33333333333334,140)\"><rect fill=\"transparent\" height=\"33.333333333333336\" id=\"SvgjsRect1380\" width=\"33.333333333333336\"></rect><text anchor=\"middle\" fill=\"#000000\" font-family=\"Helvetica, Arial, sans-serif\" font-size=\"24\" id=\"SvgjsText1381\" size=\"24\" text-anchor=\"middle\" transform=\"matrix(1,0,0,1,16.666666666666668,-4.666666666666668)\"><tspan dy=\"31.200000000000003\" id=\"SvgjsTspan1382\" x=\"0\">歩</tspan></text></g><g id=\"SvgjsG1383\" transform=\"matrix(1,0,0,1,10,140)\"><rect fill=\"transparent\" height=\"33.333333333333336\" id=\"SvgjsRect1384\" width=\"33.333333333333336\"></rect><text anchor=\"middle\" fill=\"#000000\" font-family=\"Helvetica, Arial, sans-serif\" font-size=\"24\" id=\"SvgjsText1385\" size=\"24\" text-anchor=\"middle\" transform=\"matrix(1,0,0,1,16.666666666666668,-4.666666666666668)\"><tspan dy=\"31.200000000000003\" id=\"SvgjsTspan1386\" x=\"0\">　</tspan></text></g><g id=\"SvgjsG1387\" transform=\"matrix(1,0,0,1,10,173.33333333333334)\"><rect fill=\"transparent\" height=\"33.333333333333336\" id=\"SvgjsRect1388\" width=\"33.333333333333336\"></rect><text anchor=\"middle\" fill=\"#000000\" font-family=\"Helvetica, Arial, sans-serif\" font-size=\"24\" id=\"SvgjsText1389\" size=\"24\" text-anchor=\"middle\" transform=\"matrix(1,0,0,1,16.666666666666668,-4.666666666666668)\"><tspan dy=\"31.200000000000003\" id=\"SvgjsTspan1390\" x=\"0\">　</tspan></text></g><g id=\"SvgjsG1391\" transform=\"matrix(1,0,0,1,10,206.66666666666669)\"><rect fill=\"transparent\" height=\"33.333333333333336\" id=\"SvgjsRect1392\" width=\"33.333333333333336\"></rect><text anchor=\"middle\" fill=\"#000000\" font-family=\"Helvetica, Arial, sans-serif\" font-size=\"24\" id=\"SvgjsText1393\" size=\"24\" text-anchor=\"middle\" transform=\"matrix(1,0,0,1,16.666666666666668,-4.666666666666668)\"><tspan dy=\"31.200000000000003\" id=\"SvgjsTspan1394\" x=\"0\">　</tspan></text></g><g id=\"SvgjsG1395\" transform=\"matrix(1,0,0,1,10,240.00000000000003)\"><rect fill=\"transparent\" height=\"33.333333333333336\" id=\"SvgjsRect1396\" width=\"33.333333333333336\"></rect><text anchor=\"middle\" fill=\"#000000\" font-family=\"Helvetica, Arial, sans-serif\" font-size=\"24\" id=\"SvgjsText1397\" size=\"24\" text-anchor=\"middle\" transform=\"matrix(1,0,0,1,16.666666666666668,-4.666666666666668)\"><tspan dy=\"31.200000000000003\" id=\"SvgjsTspan1398\" x=\"0\">歩</tspan></text></g><g id=\"SvgjsG1399\" transform=\"matrix(1,0,0,1,10,273.33333333333337)\"><rect fill=\"transparent\" height=\"33.333333333333336\" id=\"SvgjsRect1400\" width=\"33.333333333333336\"></rect><text anchor=\"middle\" fill=\"#000000\" font-family=\"Helvetica, Arial, sans-serif\" font-size=\"24\" id=\"SvgjsText1401\" size=\"24\" text-anchor=\"middle\" transform=\"matrix(1,0,0,1,16.666666666666668,-4.666666666666668)\"><tspan dy=\"31.200000000000003\" id=\"SvgjsTspan1402\" x=\"0\">　</tspan></text></g><g id=\"SvgjsG1403\" transform=\"matrix(1,0,0,1,10,306.6666666666667)\"><rect fill=\"transparent\" height=\"33.333333333333336\" id=\"SvgjsRect1404\" width=\"33.333333333333336\"></rect><text anchor=\"middle\" fill=\"#000000\" font-family=\"Helvetica, Arial, sans-serif\" font-size=\"24\" id=\"SvgjsText1405\" size=\"24\" text-anchor=\"middle\" transform=\"matrix(1,0,0,1,16.666666666666668,-4.666666666666668)\"><tspan dy=\"31.200000000000003\" id=\"SvgjsTspan1406\" x=\"0\">香</tspan></text></g><text anchor=\"middle\" font-family=\"Helvetica, Arial, sans-serif\" font-size=\"12\" font-weight=\"bold\" id=\"SvgjsText1407\" size=\"12\" text-anchor=\"middle\" weight=\"bold\" x=\"160\" y=\"373.3333333333333\"><tspan dy=\"20.8\" id=\"SvgjsTspan1408\" x=\"160\"></tspan></text></svg></div><ul class=\"list-inline board-control\"><li class=\"list-inline-item\"><button class=\"btn btn-outline-info\"><i class=\"fa fa-fast-backward fa-2x\"></i></button></li><li class=\"list-inline-item\"><button class=\"btn btn-outline-info\"><i class=\"fa fa-backward fa-2x\"></i></button></li><li class=\"list-inline-item\"><button class=\"btn btn-outline-info\"><i class=\"fa fa-forward fa-2x\"></i></button></li><li class=\"list-inline-item\"><button class=\"btn btn-outline-info\"><i class=\"fa fa-fast-forward fa-2x\"></i></button></li></ul><div class=\"text-right\"><a href=\"javascript:void(0)\" target=\"_blank\"><i class=\"fa fa-search\"></i><span> </span><span>同一局面を探す</span></a><a href=\"javascript:void(0)\" style=\"margin-left: 1rem;\"><i class=\"fa fa-cog\"></i></a></div><div class=\"card bg-light mt-4 mb-4\"><div class=\"card-body\"><h4 class=\"h5 card-title\">解説</h4><pre>先手 福崎文吾 九段 対 後手佐藤紳哉 七段の対局。</pre><pre>棋戦: 第78期順位戦Ｃ級２組９回戦\n",
              "開始日時: 2020-02-06 10:00:00\n",
              "終了日時: 2020-02-06 19:34:00\n",
              "手合割: 平手\n",
              "先手: 福崎文吾 九段\n",
              "後手: 佐藤紳哉 七段</pre></div></div><div><ul class=\"nav nav-tabs mb-2\"><li class=\"nav-item\"><a class=\"nav-link active\" href=\"javascript:void(0)\"><i class=\"fa fa-comments\"></i> すべて (0件)</a></li><li class=\"nav-item\"><a class=\"nav-link false\" href=\"javascript:void(0)\"><i class=\"fa fa-comments\"></i> 現盤面 (0件)</a></li><li class=\"nav-item\"><a class=\"nav-link false\" href=\"javascript:void(0)\"><i class=\"fa fa-database\"></i> 候補手 (0件)</a></li></ul><div class=\"list-group\"></div><div><div class=\"mt-4\"><div><div class=\"text-right\"><button class=\"btn btn-outline-primary\" disabled=\"\" type=\"button\"><i class=\"fa fa-edit\"></i>コメントを書く</button></div><p class=\"my-2 text-right\">コメントを書くには<a href=\"/login\">ログイン</a>が必要です</p></div></div><div class=\"modal fade\" id=\"comment-modal\" role=\"dialog\" tabindex=\"-1\"><div class=\"modal-dialog\" role=\"document\"><form><div class=\"modal-content\"><div class=\"modal-header\"><h4 class=\"modal-title\"><i class=\"fa fa-edit\"></i>コメントを書く</h4><button aria-label=\"Close\" class=\"close\" data-dismiss=\"modal\" type=\"button\"><span aria-hidden=\"true\">×</span></button></div><div class=\"modal-body\"><div class=\"form-group\"><label class=\"control-label\" for=\"comment\">コメント</label><textarea class=\"form-control\" name=\"comment\" rows=\"8\"></textarea></div></div><div class=\"modal-footer\"><button class=\"btn btn-light\" data-dismiss=\"modal\" type=\"button\">キャンセル</button><button class=\"btn btn-primary\" disabled=\"\" type=\"submit\">投稿する</button></div></div></form></div></div></div></div></div><div class=\"col-12 col-md-3 py-2\" style=\"height: auto !important; min-height: 0px !important;\"><div style=\"height: auto !important;\"><ul class=\"list-inline\" style=\"height: 52px;\"><li class=\"list-inline-item\" style=\"vertical-align: top;\"><div class=\"SocialMediaShareButton SocialMediaShareButton--twitter\" role=\"button\" style=\"width: 32px;\" tabindex=\"0\"><div style=\"width: 32px; height: 32px;\"><svg class=\"social-icon social-icon--twitter \" height=\"32\" viewbox=\"0 0 64 64\" width=\"32\"><g><circle cx=\"32\" cy=\"32\" fill=\"#00aced\" r=\"31\"></circle></g><g><path d=\"M48,22.1c-1.2,0.5-2.4,0.9-3.8,1c1.4-0.8,2.4-2.1,2.9-3.6c-1.3,0.8-2.7,1.3-4.2,1.6 C41.7,19.8,40,19,38.2,19c-3.6,0-6.6,2.9-6.6,6.6c0,0.5,0.1,1,0.2,1.5c-5.5-0.3-10.3-2.9-13.5-6.9c-0.6,1-0.9,2.1-0.9,3.3 c0,2.3,1.2,4.3,2.9,5.5c-1.1,0-2.1-0.3-3-0.8c0,0,0,0.1,0,0.1c0,3.2,2.3,5.8,5.3,6.4c-0.6,0.1-1.1,0.2-1.7,0.2c-0.4,0-0.8,0-1.2-0.1 c0.8,2.6,3.3,4.5,6.1,4.6c-2.2,1.8-5.1,2.8-8.2,2.8c-0.5,0-1.1,0-1.6-0.1c2.9,1.9,6.4,2.9,10.1,2.9c12.1,0,18.7-10,18.7-18.7 c0-0.3,0-0.6,0-0.8C46,24.5,47.1,23.4,48,22.1z\" fill=\"white\"></path></g></svg></div></div></li><li class=\"list-inline-item\" style=\"vertical-align: top;\"><div class=\"SocialMediaShareButton SocialMediaShareButton--facebook\" role=\"button\" style=\"width: 32px;\" tabindex=\"0\"><div style=\"width: 32px; height: 32px;\"><svg class=\"social-icon social-icon--facebook \" height=\"32\" viewbox=\"0 0 64 64\" width=\"32\"><g><circle cx=\"32\" cy=\"32\" fill=\"#3b5998\" r=\"31\"></circle></g><g><path d=\"M34.1,47V33.3h4.6l0.7-5.3h-5.3v-3.4c0-1.5,0.4-2.6,2.6-2.6l2.8,0v-4.8c-0.5-0.1-2.2-0.2-4.1-0.2 c-4.1,0-6.9,2.5-6.9,7V28H24v5.3h4.6V47H34.1z\" fill=\"white\"></path></g></svg></div><div class=\"SocialMediaShareCount text-center\">0</div></div></li><li class=\"list-inline-item\" style=\"vertical-align: top;\"><div class=\"SocialMediaShareButton SocialMediaShareButton--email\" role=\"button\" style=\"width: 32px;\" tabindex=\"0\"><div style=\"width: 32px; height: 32px;\"><svg class=\"social-icon social-icon--email \" height=\"32\" viewbox=\"0 0 64 64\" width=\"32\"><g><circle cx=\"32\" cy=\"32\" fill=\"#7f7f7f\" r=\"31\"></circle></g><g><path d=\"M17,22v20h30V22H17z M41.1,25L32,32.1L22.9,25H41.1z M20,39V26.6l12,9.3l12-9.3V39H20z\" fill=\"white\"></path></g></svg></div></div></li></ul><ins class=\"adsbygoogle\" data-ad-client=\"ca-pub-1706171618035325\" data-ad-format=\"rectangle\" data-ad-slot=\"7489331897\" data-adsbygoogle-status=\"done\" data-overlap-observer-io=\"false\" style=\"display: block; height: 125px;\"><ins id=\"aswift_1_expand\" style=\"display:inline-table;border:none;height:125px;margin:0;padding:0;position:relative;visibility:visible;width:176px;background-color:transparent;\"><ins id=\"aswift_1_anchor\" style=\"display:block;border:none;height:125px;margin:0;padding:0;position:relative;visibility:visible;width:176px;background-color:transparent;\"><iframe allowfullscreen=\"true\" allowtransparency=\"true\" frameborder=\"0\" height=\"125\" hspace=\"0\" id=\"aswift_1\" marginheight=\"0\" marginwidth=\"0\" name=\"aswift_1\" onload=\"var i=this.id,s=window.google_iframe_oncopy,H=s&amp;&amp;s.handlers,h=H&amp;&amp;H[i],w=this.contentWindow,d;try{d=w.document}catch(e){}if(h&amp;&amp;d&amp;&amp;(!d.body||!d.body.firstChild)){if(h.call){setTimeout(h,0)}else if(h.match){try{h=s.upd(h,i)}catch(e){}w.location.replace(h)}}\" scrolling=\"no\" style=\"left: 0px; position: absolute; top: 0px; border: 0px; width: 176px; height: 125px; overflow: visible;\" vspace=\"0\" width=\"176\"></iframe></ins></ins></ins><h3 class=\"h4 mt-4 mb-2\">この対局への記事</h3><p>まだこの対局への記事はありません</p><div class=\"text-center m-2\"><div><button class=\"btn btn-outline-primary\" disabled=\"\" type=\"button\"><i class=\"fa fa-edit\"></i>記事を書く</button><p class=\"my-2\">記事を書くには<a href=\"/login\">ログイン</a>が必要です</p></div></div><h3 class=\"h4 mt-4\">関連するコンテンツ</h3><ins class=\"adsbygoogle\" data-ad-client=\"ca-pub-1706171618035325\" data-ad-format=\"autorelaxed\" data-ad-slot=\"6700381098\" data-adsbygoogle-status=\"done\" data-overlap-observer-io=\"false\" style=\"display: block; height: 605px;\"><ins id=\"aswift_2_expand\" style=\"display:inline-table;border:none;height:605px;margin:0;padding:0;position:relative;visibility:visible;width:176px;background-color:transparent;\"><ins id=\"aswift_2_anchor\" style=\"display:block;border:none;height:605px;margin:0;padding:0;position:relative;visibility:visible;width:176px;background-color:transparent;\"><iframe allowfullscreen=\"true\" allowtransparency=\"true\" frameborder=\"0\" height=\"605\" hspace=\"0\" id=\"aswift_2\" marginheight=\"0\" marginwidth=\"0\" name=\"aswift_2\" onload=\"var i=this.id,s=window.google_iframe_oncopy,H=s&amp;&amp;s.handlers,h=H&amp;&amp;H[i],w=this.contentWindow,d;try{d=w.document}catch(e){}if(h&amp;&amp;d&amp;&amp;(!d.body||!d.body.firstChild)){if(h.call){setTimeout(h,0)}else if(h.match){try{h=s.upd(h,i)}catch(e){}w.location.replace(h)}}\" scrolling=\"no\" style=\"left:0;position:absolute;top:0;border:0px;width:176px;height:605px;\" vspace=\"0\" width=\"176\"></iframe></ins></ins></ins></div></div></div></div></div></div><footer class=\"footer\"><div class=\"container\"><div class=\"row\"><div class=\"col-12 col-md-6\"><p>将棋の棋譜データベースのサイトである将棋DB2はプロ棋士の名人戦、竜王戦、順位戦や奨励会の棋譜、女流棋士の棋譜、江戸時代の古典の棋譜、アマチュアの棋戦、floodgateなどのコンピューター将棋の棋譜を数多く掲載している最高峰の棋譜データベースです。<br/>また、棋譜は戦型別に分類されており、各種戦型の研究にも最適なサービスです。<br/>将棋DB2は棋譜のデータベースサイトであるだけではなく、棋譜の盤面にコメントを書き込みできるSNSの特性のある、棋譜のソーシャルサービスです。<br/>iOSやAndroidのアプリでも豊富な棋譜をお楽しみいただけます。</p></div><div class=\"col-12 col-md-3\"><h4 class=\"text-muted\">Menu</h4><ul class=\"list-unstyled\"><li><a href=\"/latest\">最新の棋譜</a></li><li><a href=\"/newrecords\">新着の棋譜</a></li><li><a href=\"/floodgate\">floodgateの棋譜</a></li><li><a href=\"/search\">棋譜検索</a></li><li><a href=\"/joseki\">定跡・戦法・戦型研究</a></li><li><a href=\"/book\"><i class=\"fa fa-book fa-lg mr-1\"></i>棋書</a></li><li><a href=\"/kifu/new\"><i class=\"fa fa-edit fa-lg mr-1\"></i>棋譜投稿</a></li><li><a href=\"/rss\"><i class=\"fa fa-rss fa-lg mr-1\"></i>RSSフィード</a></li><li><a href=\"/contact/new\"><i class=\"fa fa-envelope-o fa-lg mr-1\"></i>お問い合わせ</a></li><li><a href=\"/supporter\"><i class=\"fa fa-heart fa-lg mr-1\"></i>サポータープログラム</a></li><li><a href=\"/privacy\">プラバシーポリシー</a></li></ul></div><div class=\"col-12 col-md-3\"><h4 class=\"text-muted\">Link</h4><ul class=\"list-unstyled\"><li><a href=\"https://itunes.apple.com/jp/app/jiang-qidb2/id631272282\" rel=\"nofollow\" target=\"_blank\"><i class=\"fa fa-apple fa-lg mr-1\"></i>iOSアプリ</a></li><li><a href=\"https://play.google.com/store/apps/details?id=com.aediworks.shogidb2&amp;hl=ja\" rel=\"nofollow\" target=\"_blank\"><i class=\"fa fa-android fa-lg mr-1\"></i>Androidアプリ</a></li><li><a href=\"https://twitter.com/backflip1801\" rel=\"nofollow\" target=\"_blank\"><i class=\"fa fa-twitter fa-lg mr-1\"></i>Twitter</a></li><li><a href=\"https://www.facebook.com/shogidb2\" rel=\"nofollow\" target=\"_blank\"><i class=\"fa fa-facebook-square fa-lg mr-1\"></i>Facebook</a></li><li><a href=\"https://www.youtube.com/channel/UCJC1luFxJ5ZBtEpzwRjgs4A\" target=\"_blank\"><i class=\"fa fa-youtube-square fa-lg mr-1\"></i>YouTubeチャンネル</a></li><li><a href=\"https://github.com/shogidb2\" target=\"_blank\"><i class=\"fa fa-github fa-lg mr-1\"></i>Github</a></li><li><a href=\"https://godb.shogidb2.com\" target=\"_blank\">碁DB</a></li><li><a href=\"http://blog.shogidb2.com\" target=\"_blank\">Blog</a></li><li><a href=\"http://shogidojo.shogidb2.com\" target=\"_blank\">将棋道場一覧</a></li><li><a href=\"https://floodgate.shogidb2.com\" target=\"_blank\">shogidb2+floodgate</a></li></ul></div></div></div><div class=\"container\"><p class=\"text-center text-muted mt-1 mb-1\"><a href=\"/\">将棋DB2</a></p></div></footer><script src=\"/js/app-a1ef8c774304c4685b5e28098fdf748a.js?vsn=d\"></script><svg height=\"0\" id=\"SvgjsSvg1003\" style=\"overflow: hidden; top: -100%; left: -100%; position: absolute; opacity: 0;\" version=\"1.1\" width=\"2\" xmlns=\"http://www.w3.org/2000/svg\" xmlns:svgjs=\"http://svgjs.com/svgjs\" xmlns:xlink=\"http://www.w3.org/1999/xlink\"><defs id=\"SvgjsDefs1004\"></defs><polyline id=\"SvgjsPolyline1005\" points=\"0,0\"></polyline><path d=\"M0 0 \" id=\"SvgjsPath1006\"></path></svg><script>amzn_assoc_ad_type = \"link_enhancement_widget\";\n",
              "amzn_assoc_tracking_id = \"shogidb2-22\";\n",
              "amzn_assoc_linkid = \"4a766ea6f5bde674348511ed3183f179\";\n",
              "amzn_assoc_placement = \"\";\n",
              "amzn_assoc_marketplace = \"amazon\";\n",
              "amzn_assoc_region = \"JP\";</script><script src=\"//ws-fe.amazon-adsystem.com/widgets/q?ServiceVersion=20070822&amp;Operation=GetScript&amp;ID=OneJS&amp;WS=1&amp;MarketPlace=JP\"></script><div id=\"amzn_assoc_ad_div_adunit_0\"></div><script src=\"https://shogidb2.com/assets/js/kyokumen.min.js\"></script><div style=\"display: none; visibility: hidden;\"><script async=\"null\" src=\"//pagead2.googlesyndication.com/pagead/js/adsbygoogle.js\"></script>\n",
              "<script>(adsbygoogle=window.adsbygoogle||[]).push({google_ad_client:\"ca-pub-1706171618035325\",enable_page_level_ads:!0});</script></div><iframe aria-hidden=\"true\" id=\"oauth2relay247449498\" name=\"oauth2relay247449498\" src=\"https://accounts.google.com/o/oauth2/postmessageRelay?parent=https%3A%2F%2Fshogidb2.com&amp;jsh=m%3B%2F_%2Fscs%2Fapps-static%2F_%2Fjs%2Fk%3Doz.gapi.en_US.JKCQ2Hvuo0E.O%2Fam%3DwQE%2Fd%3D1%2Fct%3Dzgms%2Frs%3DAGLTcCOl3FsgYnTqVeIFUJJD2j4-pO09lQ%2Fm%3D__features__#rpctoken=1774729708&amp;forcesecure=1\" style=\"width: 1px; height: 1px; position: absolute; top: -100px;\" tabindex=\"-1\"></iframe><ins class=\"adsbygoogle adsbygoogle-noablate\" data-adsbygoogle-status=\"done\" style=\"display: none !important;\"><ins id=\"aswift_3_expand\" style=\"display:inline-table;border:none;height:0px;margin:0;padding:0;position:relative;visibility:visible;width:0px;background-color:transparent;\"><ins id=\"aswift_3_anchor\" style=\"display:block;border:none;height:0px;margin:0;padding:0;position:relative;visibility:visible;width:0px;background-color:transparent;\"><iframe allowfullscreen=\"true\" allowtransparency=\"true\" frameborder=\"0\" hspace=\"0\" id=\"aswift_3\" marginheight=\"0\" marginwidth=\"0\" name=\"aswift_3\" onload=\"var i=this.id,s=window.google_iframe_oncopy,H=s&amp;&amp;s.handlers,h=H&amp;&amp;H[i],w=this.contentWindow,d;try{d=w.document}catch(e){}if(h&amp;&amp;d&amp;&amp;(!d.body||!d.body.firstChild)){if(h.call){setTimeout(h,0)}else if(h.match){try{h=s.upd(h,i)}catch(e){}w.location.replace(h)}}\" scrolling=\"no\" style=\"left:0;position:absolute;top:0;border:0px;width:0px;height:0px;\" vspace=\"0\"></iframe></ins></ins></ins><iframe id=\"google_osd_static_frame_1708373629305\" name=\"google_osd_static_frame\" style=\"display: none; width: 0px; height: 0px;\"></iframe><div style=\"display: block; visibility: hidden; position: absolute; width: 106px; left: -10000px; top: -10000px;\"><table cellpadding=\"0\" cellspacing=\"0\" class=\" gc-bubbleDefault pls-container\" dir=\"ltr\" frame=\"void\" rules=\"none\" style=\"width:106px;\"><tbody><tr class=\"gc-reset\"><td class=\"pls-topLeft gc-reset\"><img class=\"gc-reset\" src=\"https://ssl.gstatic.com/s2/oz/images/stars/po/bubblev1/border_3.gif\" style=\"width:1px !important; height:1px !important; max-width: 1px !important; max-height: 1px !important;\"/></td><td class=\"pls-topTail gc-reset\"><img class=\"pls-tailbottom gc-reset\" src=\"https://ssl.gstatic.com/s2/oz/images/stars/po/bubblev1/spacer.gif\" style=\"width:15px !important; height:9px !important; max-width: 15px !important; max-height: 9px !important;\"/><img class=\"pls-spacerbottom gc-reset\" src=\"https://ssl.gstatic.com/s2/oz/images/stars/po/bubblev1/spacer.gif\" style=\"width:1px !important; height:1px !important; max-width: 1px !important; max-height: 1px !important;\"/></td><td class=\"pls-topRight gc-reset\"><img class=\"gc-reset\" src=\"https://ssl.gstatic.com/s2/oz/images/stars/po/bubblev1/border_3.gif\" style=\"width:1px !important; height:1px !important; max-width: 1px !important; max-height: 1px !important;\"/></td></tr><tr class=\"gc-reset\"><td class=\"pls-vertShimLeft gc-reset\"><img class=\"gc-reset\" src=\"https://ssl.gstatic.com/s2/oz/images/stars/po/bubblev1/spacer.gif\" style=\"width:1px !important; height:4px !important; max-width: 1px !important; max-height: 4px !important;\"/></td><td class=\"pls-vertShim gc-reset\"><img class=\"gc-reset\" src=\"https://ssl.gstatic.com/s2/oz/images/stars/po/bubblev1/spacer.gif\" style=\"width:1px !important; height:4px !important; max-width: 1px !important; max-height: 4px !important;\"/></td><td class=\"pls-vertShimRight gc-reset\"><img class=\"pls-dropTR gc-reset\" src=\"https://ssl.gstatic.com/s2/oz/images/stars/po/bubblev1/spacer.gif\" style=\"width:5px !important; height:4px !important; max-width: 5px !important; max-height: 4px !important;\"/></td></tr><tr class=\"gc-reset\"><td class=\"pls-contentLeft gc-reset\"><img class=\"pls-tailright gc-reset\" src=\"https://ssl.gstatic.com/s2/oz/images/stars/po/bubblev1/spacer.gif\" style=\"width:9px !important; height:15px !important; max-width: 9px !important; max-height: 15px !important;\"/><img class=\"pls-spacerright gc-reset\" src=\"https://ssl.gstatic.com/s2/oz/images/stars/po/bubblev1/spacer.gif\" style=\"width:1px !important; height:1px !important; max-width: 1px !important; max-height: 1px !important;\"/></td><td class=\"pls-contentWrap gc-reset\"><div class=\"goog-bubble-content gc-reset\"><iframe frameborder=\"0\" hspace=\"0\" id=\"I0_1582353193267\" marginheight=\"0\" marginwidth=\"0\" name=\"I0_1582353193267\" ng-non-bindable=\"\" scrolling=\"no\" src=\"https://www.youtube.com/subscribe_embed?channelid=UCJC1luFxJ5ZBtEpzwRjgs4A&amp;action_card=1&amp;usegapi=1&amp;jsh=m%3B%2F_%2Fscs%2Fapps-static%2F_%2Fjs%2Fk%3Doz.gapi.en_US.JKCQ2Hvuo0E.O%2Fam%3DwQE%2Fd%3D1%2Fct%3Dzgms%2Frs%3DAGLTcCOl3FsgYnTqVeIFUJJD2j4-pO09lQ%2Fm%3D__features__#id=I0_1582353193267&amp;_gfid=I0_1582353193267&amp;parent=https%3A%2F%2Fshogidb2.com&amp;pfname=&amp;rpctoken=31798103\" style=\"margin:0px;position:absolute;z-index:1;border-style:none;outline:none;width:100px;\" tabindex=\"0\" vspace=\"0\" width=\"100%\"></iframe></div></td><td class=\"pls-dropRight gc-reset\"><img class=\"pls-tailleft gc-reset\" src=\"https://ssl.gstatic.com/s2/oz/images/stars/po/bubblev1/spacer.gif\" style=\"width:12px !important; height:19px !important; max-width: 12px !important; max-height: 19px !important;\"/><img class=\"pls-spacerleft gc-reset\" src=\"https://ssl.gstatic.com/s2/oz/images/stars/po/bubblev1/spacer.gif\" style=\"width:1px !important; height:1px !important; max-width: 1px !important; max-height: 1px !important;\"/></td></tr><tr class=\"gc-reset\"><td class=\"pls-bottomLeft gc-reset\"><img class=\"gc-reset\" src=\"https://ssl.gstatic.com/s2/oz/images/stars/po/bubblev1/border_3.gif\" style=\"width:1px !important; height:1px !important; max-width: 1px !important; max-height: 1px !important;\"/></td><td class=\"gc-reset\"><table cellpadding=\"0\" cellspacing=\"0\" class=\"gc-reset\" style=\"width:100%\"><tbody><tr class=\"gc-reset\"><td class=\"pls-vert gc-reset\"><img class=\"pls-dropBL gc-reset\" src=\"https://ssl.gstatic.com/s2/oz/images/stars/po/bubblev1/spacer.gif\" style=\"width:4px !important; height:5px !important; max-width: 4px !important; max-height: 5px !important;\"/></td><td class=\"pls-dropBottom gc-reset\"><img class=\"pls-tailtop gc-reset\" src=\"https://ssl.gstatic.com/s2/oz/images/stars/po/bubblev1/spacer.gif\" style=\"width:19px !important; height:13px !important; max-width: 19px !important; max-height: 13px !important;\"/><img class=\"pls-spacertop gc-reset\" src=\"https://ssl.gstatic.com/s2/oz/images/stars/po/bubblev1/spacer.gif\" style=\"width:1px !important; height:1px !important; max-width: 1px !important; max-height: 1px !important;\"/></td></tr></tbody></table></td><td class=\"pls-vert gc-reset\"><img class=\"pls-dropBR gc-reset\" src=\"https://ssl.gstatic.com/s2/oz/images/stars/po/bubblev1/spacer.gif\" style=\"width:5px !important; height:5px !important; max-width: 5px !important; max-height: 5px !important;\"/></td></tr></tbody></table></div><div class=\"modal-backdrop fade show\"></div></body><iframe data-ad-client=\"ca-pub-1706171618035325\" id=\"google_esf\" name=\"google_esf\" src=\"https://googleads.g.doubleclick.net/pagead/html/r20200219/r20190131/zrt_lookup.html#\" style=\"display: none;\"></iframe></html>"
            ]
          },
          "metadata": {
            "tags": []
          },
          "execution_count": 33
        }
      ]
    },
    {
      "cell_type": "code",
      "metadata": {
        "id": "Y_IMyeO_mb0Q",
        "colab_type": "code",
        "colab": {}
      },
      "source": [
        ""
      ],
      "execution_count": 0,
      "outputs": []
    }
  ]
}